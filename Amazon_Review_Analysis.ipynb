{
  "nbformat": 4,
  "nbformat_minor": 0,
  "metadata": {
    "colab": {
      "provenance": []
    },
    "kernelspec": {
      "name": "python3",
      "display_name": "Python 3"
    },
    "language_info": {
      "name": "python"
    },
    "accelerator": "GPU",
    "gpuClass": "standard",
    "widgets": {
      "application/vnd.jupyter.widget-state+json": {
        "e6459106cb754e9394460f76ad39099c": {
          "model_module": "@jupyter-widgets/controls",
          "model_name": "HBoxModel",
          "model_module_version": "1.5.0",
          "state": {
            "_dom_classes": [],
            "_model_module": "@jupyter-widgets/controls",
            "_model_module_version": "1.5.0",
            "_model_name": "HBoxModel",
            "_view_count": null,
            "_view_module": "@jupyter-widgets/controls",
            "_view_module_version": "1.5.0",
            "_view_name": "HBoxView",
            "box_style": "",
            "children": [
              "IPY_MODEL_099c9cfc954740389f4f6342310938b7",
              "IPY_MODEL_6b6a8b82b51c427f830e88034b6501d4",
              "IPY_MODEL_d12eb81cee874a21a1ee31af8fae32fc"
            ],
            "layout": "IPY_MODEL_a0105fdc440b464391298b35f8a63260"
          }
        },
        "099c9cfc954740389f4f6342310938b7": {
          "model_module": "@jupyter-widgets/controls",
          "model_name": "HTMLModel",
          "model_module_version": "1.5.0",
          "state": {
            "_dom_classes": [],
            "_model_module": "@jupyter-widgets/controls",
            "_model_module_version": "1.5.0",
            "_model_name": "HTMLModel",
            "_view_count": null,
            "_view_module": "@jupyter-widgets/controls",
            "_view_module_version": "1.5.0",
            "_view_name": "HTMLView",
            "description": "",
            "description_tooltip": null,
            "layout": "IPY_MODEL_1f9548c798234c3bbe6366836cf0a89d",
            "placeholder": "​",
            "style": "IPY_MODEL_dd23d251f57f4f9cb975ee04ee2cb532",
            "value": "Downloading: 100%"
          }
        },
        "6b6a8b82b51c427f830e88034b6501d4": {
          "model_module": "@jupyter-widgets/controls",
          "model_name": "FloatProgressModel",
          "model_module_version": "1.5.0",
          "state": {
            "_dom_classes": [],
            "_model_module": "@jupyter-widgets/controls",
            "_model_module_version": "1.5.0",
            "_model_name": "FloatProgressModel",
            "_view_count": null,
            "_view_module": "@jupyter-widgets/controls",
            "_view_module_version": "1.5.0",
            "_view_name": "ProgressView",
            "bar_style": "success",
            "description": "",
            "description_tooltip": null,
            "layout": "IPY_MODEL_fb296e422e744c16bc97312582c039b6",
            "max": 231508,
            "min": 0,
            "orientation": "horizontal",
            "style": "IPY_MODEL_3e0a93071f514c36a4f5a0dc8e1d901a",
            "value": 231508
          }
        },
        "d12eb81cee874a21a1ee31af8fae32fc": {
          "model_module": "@jupyter-widgets/controls",
          "model_name": "HTMLModel",
          "model_module_version": "1.5.0",
          "state": {
            "_dom_classes": [],
            "_model_module": "@jupyter-widgets/controls",
            "_model_module_version": "1.5.0",
            "_model_name": "HTMLModel",
            "_view_count": null,
            "_view_module": "@jupyter-widgets/controls",
            "_view_module_version": "1.5.0",
            "_view_name": "HTMLView",
            "description": "",
            "description_tooltip": null,
            "layout": "IPY_MODEL_66c653bdfb2548098b644ec9429a4edb",
            "placeholder": "​",
            "style": "IPY_MODEL_0e9971497e3a47ceb5ea0ab2af10035c",
            "value": " 232k/232k [00:00&lt;00:00, 288kB/s]"
          }
        },
        "a0105fdc440b464391298b35f8a63260": {
          "model_module": "@jupyter-widgets/base",
          "model_name": "LayoutModel",
          "model_module_version": "1.2.0",
          "state": {
            "_model_module": "@jupyter-widgets/base",
            "_model_module_version": "1.2.0",
            "_model_name": "LayoutModel",
            "_view_count": null,
            "_view_module": "@jupyter-widgets/base",
            "_view_module_version": "1.2.0",
            "_view_name": "LayoutView",
            "align_content": null,
            "align_items": null,
            "align_self": null,
            "border": null,
            "bottom": null,
            "display": null,
            "flex": null,
            "flex_flow": null,
            "grid_area": null,
            "grid_auto_columns": null,
            "grid_auto_flow": null,
            "grid_auto_rows": null,
            "grid_column": null,
            "grid_gap": null,
            "grid_row": null,
            "grid_template_areas": null,
            "grid_template_columns": null,
            "grid_template_rows": null,
            "height": null,
            "justify_content": null,
            "justify_items": null,
            "left": null,
            "margin": null,
            "max_height": null,
            "max_width": null,
            "min_height": null,
            "min_width": null,
            "object_fit": null,
            "object_position": null,
            "order": null,
            "overflow": null,
            "overflow_x": null,
            "overflow_y": null,
            "padding": null,
            "right": null,
            "top": null,
            "visibility": null,
            "width": null
          }
        },
        "1f9548c798234c3bbe6366836cf0a89d": {
          "model_module": "@jupyter-widgets/base",
          "model_name": "LayoutModel",
          "model_module_version": "1.2.0",
          "state": {
            "_model_module": "@jupyter-widgets/base",
            "_model_module_version": "1.2.0",
            "_model_name": "LayoutModel",
            "_view_count": null,
            "_view_module": "@jupyter-widgets/base",
            "_view_module_version": "1.2.0",
            "_view_name": "LayoutView",
            "align_content": null,
            "align_items": null,
            "align_self": null,
            "border": null,
            "bottom": null,
            "display": null,
            "flex": null,
            "flex_flow": null,
            "grid_area": null,
            "grid_auto_columns": null,
            "grid_auto_flow": null,
            "grid_auto_rows": null,
            "grid_column": null,
            "grid_gap": null,
            "grid_row": null,
            "grid_template_areas": null,
            "grid_template_columns": null,
            "grid_template_rows": null,
            "height": null,
            "justify_content": null,
            "justify_items": null,
            "left": null,
            "margin": null,
            "max_height": null,
            "max_width": null,
            "min_height": null,
            "min_width": null,
            "object_fit": null,
            "object_position": null,
            "order": null,
            "overflow": null,
            "overflow_x": null,
            "overflow_y": null,
            "padding": null,
            "right": null,
            "top": null,
            "visibility": null,
            "width": null
          }
        },
        "dd23d251f57f4f9cb975ee04ee2cb532": {
          "model_module": "@jupyter-widgets/controls",
          "model_name": "DescriptionStyleModel",
          "model_module_version": "1.5.0",
          "state": {
            "_model_module": "@jupyter-widgets/controls",
            "_model_module_version": "1.5.0",
            "_model_name": "DescriptionStyleModel",
            "_view_count": null,
            "_view_module": "@jupyter-widgets/base",
            "_view_module_version": "1.2.0",
            "_view_name": "StyleView",
            "description_width": ""
          }
        },
        "fb296e422e744c16bc97312582c039b6": {
          "model_module": "@jupyter-widgets/base",
          "model_name": "LayoutModel",
          "model_module_version": "1.2.0",
          "state": {
            "_model_module": "@jupyter-widgets/base",
            "_model_module_version": "1.2.0",
            "_model_name": "LayoutModel",
            "_view_count": null,
            "_view_module": "@jupyter-widgets/base",
            "_view_module_version": "1.2.0",
            "_view_name": "LayoutView",
            "align_content": null,
            "align_items": null,
            "align_self": null,
            "border": null,
            "bottom": null,
            "display": null,
            "flex": null,
            "flex_flow": null,
            "grid_area": null,
            "grid_auto_columns": null,
            "grid_auto_flow": null,
            "grid_auto_rows": null,
            "grid_column": null,
            "grid_gap": null,
            "grid_row": null,
            "grid_template_areas": null,
            "grid_template_columns": null,
            "grid_template_rows": null,
            "height": null,
            "justify_content": null,
            "justify_items": null,
            "left": null,
            "margin": null,
            "max_height": null,
            "max_width": null,
            "min_height": null,
            "min_width": null,
            "object_fit": null,
            "object_position": null,
            "order": null,
            "overflow": null,
            "overflow_x": null,
            "overflow_y": null,
            "padding": null,
            "right": null,
            "top": null,
            "visibility": null,
            "width": null
          }
        },
        "3e0a93071f514c36a4f5a0dc8e1d901a": {
          "model_module": "@jupyter-widgets/controls",
          "model_name": "ProgressStyleModel",
          "model_module_version": "1.5.0",
          "state": {
            "_model_module": "@jupyter-widgets/controls",
            "_model_module_version": "1.5.0",
            "_model_name": "ProgressStyleModel",
            "_view_count": null,
            "_view_module": "@jupyter-widgets/base",
            "_view_module_version": "1.2.0",
            "_view_name": "StyleView",
            "bar_color": null,
            "description_width": ""
          }
        },
        "66c653bdfb2548098b644ec9429a4edb": {
          "model_module": "@jupyter-widgets/base",
          "model_name": "LayoutModel",
          "model_module_version": "1.2.0",
          "state": {
            "_model_module": "@jupyter-widgets/base",
            "_model_module_version": "1.2.0",
            "_model_name": "LayoutModel",
            "_view_count": null,
            "_view_module": "@jupyter-widgets/base",
            "_view_module_version": "1.2.0",
            "_view_name": "LayoutView",
            "align_content": null,
            "align_items": null,
            "align_self": null,
            "border": null,
            "bottom": null,
            "display": null,
            "flex": null,
            "flex_flow": null,
            "grid_area": null,
            "grid_auto_columns": null,
            "grid_auto_flow": null,
            "grid_auto_rows": null,
            "grid_column": null,
            "grid_gap": null,
            "grid_row": null,
            "grid_template_areas": null,
            "grid_template_columns": null,
            "grid_template_rows": null,
            "height": null,
            "justify_content": null,
            "justify_items": null,
            "left": null,
            "margin": null,
            "max_height": null,
            "max_width": null,
            "min_height": null,
            "min_width": null,
            "object_fit": null,
            "object_position": null,
            "order": null,
            "overflow": null,
            "overflow_x": null,
            "overflow_y": null,
            "padding": null,
            "right": null,
            "top": null,
            "visibility": null,
            "width": null
          }
        },
        "0e9971497e3a47ceb5ea0ab2af10035c": {
          "model_module": "@jupyter-widgets/controls",
          "model_name": "DescriptionStyleModel",
          "model_module_version": "1.5.0",
          "state": {
            "_model_module": "@jupyter-widgets/controls",
            "_model_module_version": "1.5.0",
            "_model_name": "DescriptionStyleModel",
            "_view_count": null,
            "_view_module": "@jupyter-widgets/base",
            "_view_module_version": "1.2.0",
            "_view_name": "StyleView",
            "description_width": ""
          }
        },
        "45a54418698b4497bf941d952dfcf75f": {
          "model_module": "@jupyter-widgets/controls",
          "model_name": "HBoxModel",
          "model_module_version": "1.5.0",
          "state": {
            "_dom_classes": [],
            "_model_module": "@jupyter-widgets/controls",
            "_model_module_version": "1.5.0",
            "_model_name": "HBoxModel",
            "_view_count": null,
            "_view_module": "@jupyter-widgets/controls",
            "_view_module_version": "1.5.0",
            "_view_name": "HBoxView",
            "box_style": "",
            "children": [
              "IPY_MODEL_3349cae252824eac975931580ce6a034",
              "IPY_MODEL_1e4c5872b1114055b8567d72b5e72f89",
              "IPY_MODEL_3eb6dffb30c242eeaefbfab412861b8a"
            ],
            "layout": "IPY_MODEL_c2259f025bde4e34a38e1454b9a902ed"
          }
        },
        "3349cae252824eac975931580ce6a034": {
          "model_module": "@jupyter-widgets/controls",
          "model_name": "HTMLModel",
          "model_module_version": "1.5.0",
          "state": {
            "_dom_classes": [],
            "_model_module": "@jupyter-widgets/controls",
            "_model_module_version": "1.5.0",
            "_model_name": "HTMLModel",
            "_view_count": null,
            "_view_module": "@jupyter-widgets/controls",
            "_view_module_version": "1.5.0",
            "_view_name": "HTMLView",
            "description": "",
            "description_tooltip": null,
            "layout": "IPY_MODEL_66bf2d298c8e4775beb3f72ec7a63631",
            "placeholder": "​",
            "style": "IPY_MODEL_f48542958c0c4f658bf9b9b8da33d050",
            "value": "Downloading: 100%"
          }
        },
        "1e4c5872b1114055b8567d72b5e72f89": {
          "model_module": "@jupyter-widgets/controls",
          "model_name": "FloatProgressModel",
          "model_module_version": "1.5.0",
          "state": {
            "_dom_classes": [],
            "_model_module": "@jupyter-widgets/controls",
            "_model_module_version": "1.5.0",
            "_model_name": "FloatProgressModel",
            "_view_count": null,
            "_view_module": "@jupyter-widgets/controls",
            "_view_module_version": "1.5.0",
            "_view_name": "ProgressView",
            "bar_style": "success",
            "description": "",
            "description_tooltip": null,
            "layout": "IPY_MODEL_bba3b6692dc84cb288aedb4c3d4979b1",
            "max": 28,
            "min": 0,
            "orientation": "horizontal",
            "style": "IPY_MODEL_18a68bce92a84071a6a8f8284e323f21",
            "value": 28
          }
        },
        "3eb6dffb30c242eeaefbfab412861b8a": {
          "model_module": "@jupyter-widgets/controls",
          "model_name": "HTMLModel",
          "model_module_version": "1.5.0",
          "state": {
            "_dom_classes": [],
            "_model_module": "@jupyter-widgets/controls",
            "_model_module_version": "1.5.0",
            "_model_name": "HTMLModel",
            "_view_count": null,
            "_view_module": "@jupyter-widgets/controls",
            "_view_module_version": "1.5.0",
            "_view_name": "HTMLView",
            "description": "",
            "description_tooltip": null,
            "layout": "IPY_MODEL_c188d986bf99477582e37f3b569040a8",
            "placeholder": "​",
            "style": "IPY_MODEL_c62b481363a34fe889ee3d8712468e14",
            "value": " 28.0/28.0 [00:00&lt;00:00, 969B/s]"
          }
        },
        "c2259f025bde4e34a38e1454b9a902ed": {
          "model_module": "@jupyter-widgets/base",
          "model_name": "LayoutModel",
          "model_module_version": "1.2.0",
          "state": {
            "_model_module": "@jupyter-widgets/base",
            "_model_module_version": "1.2.0",
            "_model_name": "LayoutModel",
            "_view_count": null,
            "_view_module": "@jupyter-widgets/base",
            "_view_module_version": "1.2.0",
            "_view_name": "LayoutView",
            "align_content": null,
            "align_items": null,
            "align_self": null,
            "border": null,
            "bottom": null,
            "display": null,
            "flex": null,
            "flex_flow": null,
            "grid_area": null,
            "grid_auto_columns": null,
            "grid_auto_flow": null,
            "grid_auto_rows": null,
            "grid_column": null,
            "grid_gap": null,
            "grid_row": null,
            "grid_template_areas": null,
            "grid_template_columns": null,
            "grid_template_rows": null,
            "height": null,
            "justify_content": null,
            "justify_items": null,
            "left": null,
            "margin": null,
            "max_height": null,
            "max_width": null,
            "min_height": null,
            "min_width": null,
            "object_fit": null,
            "object_position": null,
            "order": null,
            "overflow": null,
            "overflow_x": null,
            "overflow_y": null,
            "padding": null,
            "right": null,
            "top": null,
            "visibility": null,
            "width": null
          }
        },
        "66bf2d298c8e4775beb3f72ec7a63631": {
          "model_module": "@jupyter-widgets/base",
          "model_name": "LayoutModel",
          "model_module_version": "1.2.0",
          "state": {
            "_model_module": "@jupyter-widgets/base",
            "_model_module_version": "1.2.0",
            "_model_name": "LayoutModel",
            "_view_count": null,
            "_view_module": "@jupyter-widgets/base",
            "_view_module_version": "1.2.0",
            "_view_name": "LayoutView",
            "align_content": null,
            "align_items": null,
            "align_self": null,
            "border": null,
            "bottom": null,
            "display": null,
            "flex": null,
            "flex_flow": null,
            "grid_area": null,
            "grid_auto_columns": null,
            "grid_auto_flow": null,
            "grid_auto_rows": null,
            "grid_column": null,
            "grid_gap": null,
            "grid_row": null,
            "grid_template_areas": null,
            "grid_template_columns": null,
            "grid_template_rows": null,
            "height": null,
            "justify_content": null,
            "justify_items": null,
            "left": null,
            "margin": null,
            "max_height": null,
            "max_width": null,
            "min_height": null,
            "min_width": null,
            "object_fit": null,
            "object_position": null,
            "order": null,
            "overflow": null,
            "overflow_x": null,
            "overflow_y": null,
            "padding": null,
            "right": null,
            "top": null,
            "visibility": null,
            "width": null
          }
        },
        "f48542958c0c4f658bf9b9b8da33d050": {
          "model_module": "@jupyter-widgets/controls",
          "model_name": "DescriptionStyleModel",
          "model_module_version": "1.5.0",
          "state": {
            "_model_module": "@jupyter-widgets/controls",
            "_model_module_version": "1.5.0",
            "_model_name": "DescriptionStyleModel",
            "_view_count": null,
            "_view_module": "@jupyter-widgets/base",
            "_view_module_version": "1.2.0",
            "_view_name": "StyleView",
            "description_width": ""
          }
        },
        "bba3b6692dc84cb288aedb4c3d4979b1": {
          "model_module": "@jupyter-widgets/base",
          "model_name": "LayoutModel",
          "model_module_version": "1.2.0",
          "state": {
            "_model_module": "@jupyter-widgets/base",
            "_model_module_version": "1.2.0",
            "_model_name": "LayoutModel",
            "_view_count": null,
            "_view_module": "@jupyter-widgets/base",
            "_view_module_version": "1.2.0",
            "_view_name": "LayoutView",
            "align_content": null,
            "align_items": null,
            "align_self": null,
            "border": null,
            "bottom": null,
            "display": null,
            "flex": null,
            "flex_flow": null,
            "grid_area": null,
            "grid_auto_columns": null,
            "grid_auto_flow": null,
            "grid_auto_rows": null,
            "grid_column": null,
            "grid_gap": null,
            "grid_row": null,
            "grid_template_areas": null,
            "grid_template_columns": null,
            "grid_template_rows": null,
            "height": null,
            "justify_content": null,
            "justify_items": null,
            "left": null,
            "margin": null,
            "max_height": null,
            "max_width": null,
            "min_height": null,
            "min_width": null,
            "object_fit": null,
            "object_position": null,
            "order": null,
            "overflow": null,
            "overflow_x": null,
            "overflow_y": null,
            "padding": null,
            "right": null,
            "top": null,
            "visibility": null,
            "width": null
          }
        },
        "18a68bce92a84071a6a8f8284e323f21": {
          "model_module": "@jupyter-widgets/controls",
          "model_name": "ProgressStyleModel",
          "model_module_version": "1.5.0",
          "state": {
            "_model_module": "@jupyter-widgets/controls",
            "_model_module_version": "1.5.0",
            "_model_name": "ProgressStyleModel",
            "_view_count": null,
            "_view_module": "@jupyter-widgets/base",
            "_view_module_version": "1.2.0",
            "_view_name": "StyleView",
            "bar_color": null,
            "description_width": ""
          }
        },
        "c188d986bf99477582e37f3b569040a8": {
          "model_module": "@jupyter-widgets/base",
          "model_name": "LayoutModel",
          "model_module_version": "1.2.0",
          "state": {
            "_model_module": "@jupyter-widgets/base",
            "_model_module_version": "1.2.0",
            "_model_name": "LayoutModel",
            "_view_count": null,
            "_view_module": "@jupyter-widgets/base",
            "_view_module_version": "1.2.0",
            "_view_name": "LayoutView",
            "align_content": null,
            "align_items": null,
            "align_self": null,
            "border": null,
            "bottom": null,
            "display": null,
            "flex": null,
            "flex_flow": null,
            "grid_area": null,
            "grid_auto_columns": null,
            "grid_auto_flow": null,
            "grid_auto_rows": null,
            "grid_column": null,
            "grid_gap": null,
            "grid_row": null,
            "grid_template_areas": null,
            "grid_template_columns": null,
            "grid_template_rows": null,
            "height": null,
            "justify_content": null,
            "justify_items": null,
            "left": null,
            "margin": null,
            "max_height": null,
            "max_width": null,
            "min_height": null,
            "min_width": null,
            "object_fit": null,
            "object_position": null,
            "order": null,
            "overflow": null,
            "overflow_x": null,
            "overflow_y": null,
            "padding": null,
            "right": null,
            "top": null,
            "visibility": null,
            "width": null
          }
        },
        "c62b481363a34fe889ee3d8712468e14": {
          "model_module": "@jupyter-widgets/controls",
          "model_name": "DescriptionStyleModel",
          "model_module_version": "1.5.0",
          "state": {
            "_model_module": "@jupyter-widgets/controls",
            "_model_module_version": "1.5.0",
            "_model_name": "DescriptionStyleModel",
            "_view_count": null,
            "_view_module": "@jupyter-widgets/base",
            "_view_module_version": "1.2.0",
            "_view_name": "StyleView",
            "description_width": ""
          }
        },
        "55f68a03c52e4545be962e022c7c50ae": {
          "model_module": "@jupyter-widgets/controls",
          "model_name": "HBoxModel",
          "model_module_version": "1.5.0",
          "state": {
            "_dom_classes": [],
            "_model_module": "@jupyter-widgets/controls",
            "_model_module_version": "1.5.0",
            "_model_name": "HBoxModel",
            "_view_count": null,
            "_view_module": "@jupyter-widgets/controls",
            "_view_module_version": "1.5.0",
            "_view_name": "HBoxView",
            "box_style": "",
            "children": [
              "IPY_MODEL_56c1bbda1edd42ca9cce2e6bb0cfcd0f",
              "IPY_MODEL_fb7a098ebcc64a4aadec65c3f5ab23ce",
              "IPY_MODEL_9336382327d64db096c74167f263f6ff"
            ],
            "layout": "IPY_MODEL_300f8d5cd95f4488ab776b325cccee8d"
          }
        },
        "56c1bbda1edd42ca9cce2e6bb0cfcd0f": {
          "model_module": "@jupyter-widgets/controls",
          "model_name": "HTMLModel",
          "model_module_version": "1.5.0",
          "state": {
            "_dom_classes": [],
            "_model_module": "@jupyter-widgets/controls",
            "_model_module_version": "1.5.0",
            "_model_name": "HTMLModel",
            "_view_count": null,
            "_view_module": "@jupyter-widgets/controls",
            "_view_module_version": "1.5.0",
            "_view_name": "HTMLView",
            "description": "",
            "description_tooltip": null,
            "layout": "IPY_MODEL_2910c920bbb6497782b005c212242929",
            "placeholder": "​",
            "style": "IPY_MODEL_290f1fb97bb34816be64c7c9d4d63b22",
            "value": "Downloading: 100%"
          }
        },
        "fb7a098ebcc64a4aadec65c3f5ab23ce": {
          "model_module": "@jupyter-widgets/controls",
          "model_name": "FloatProgressModel",
          "model_module_version": "1.5.0",
          "state": {
            "_dom_classes": [],
            "_model_module": "@jupyter-widgets/controls",
            "_model_module_version": "1.5.0",
            "_model_name": "FloatProgressModel",
            "_view_count": null,
            "_view_module": "@jupyter-widgets/controls",
            "_view_module_version": "1.5.0",
            "_view_name": "ProgressView",
            "bar_style": "success",
            "description": "",
            "description_tooltip": null,
            "layout": "IPY_MODEL_dfc282ef23b34e3a832967dc24ff88e8",
            "max": 570,
            "min": 0,
            "orientation": "horizontal",
            "style": "IPY_MODEL_67725d75778f4900a5b454ff544f3b85",
            "value": 570
          }
        },
        "9336382327d64db096c74167f263f6ff": {
          "model_module": "@jupyter-widgets/controls",
          "model_name": "HTMLModel",
          "model_module_version": "1.5.0",
          "state": {
            "_dom_classes": [],
            "_model_module": "@jupyter-widgets/controls",
            "_model_module_version": "1.5.0",
            "_model_name": "HTMLModel",
            "_view_count": null,
            "_view_module": "@jupyter-widgets/controls",
            "_view_module_version": "1.5.0",
            "_view_name": "HTMLView",
            "description": "",
            "description_tooltip": null,
            "layout": "IPY_MODEL_34f1616ebdef43ce82998690c626850d",
            "placeholder": "​",
            "style": "IPY_MODEL_f20ac868944a4925a413f95f8f891073",
            "value": " 570/570 [00:00&lt;00:00, 3.77kB/s]"
          }
        },
        "300f8d5cd95f4488ab776b325cccee8d": {
          "model_module": "@jupyter-widgets/base",
          "model_name": "LayoutModel",
          "model_module_version": "1.2.0",
          "state": {
            "_model_module": "@jupyter-widgets/base",
            "_model_module_version": "1.2.0",
            "_model_name": "LayoutModel",
            "_view_count": null,
            "_view_module": "@jupyter-widgets/base",
            "_view_module_version": "1.2.0",
            "_view_name": "LayoutView",
            "align_content": null,
            "align_items": null,
            "align_self": null,
            "border": null,
            "bottom": null,
            "display": null,
            "flex": null,
            "flex_flow": null,
            "grid_area": null,
            "grid_auto_columns": null,
            "grid_auto_flow": null,
            "grid_auto_rows": null,
            "grid_column": null,
            "grid_gap": null,
            "grid_row": null,
            "grid_template_areas": null,
            "grid_template_columns": null,
            "grid_template_rows": null,
            "height": null,
            "justify_content": null,
            "justify_items": null,
            "left": null,
            "margin": null,
            "max_height": null,
            "max_width": null,
            "min_height": null,
            "min_width": null,
            "object_fit": null,
            "object_position": null,
            "order": null,
            "overflow": null,
            "overflow_x": null,
            "overflow_y": null,
            "padding": null,
            "right": null,
            "top": null,
            "visibility": null,
            "width": null
          }
        },
        "2910c920bbb6497782b005c212242929": {
          "model_module": "@jupyter-widgets/base",
          "model_name": "LayoutModel",
          "model_module_version": "1.2.0",
          "state": {
            "_model_module": "@jupyter-widgets/base",
            "_model_module_version": "1.2.0",
            "_model_name": "LayoutModel",
            "_view_count": null,
            "_view_module": "@jupyter-widgets/base",
            "_view_module_version": "1.2.0",
            "_view_name": "LayoutView",
            "align_content": null,
            "align_items": null,
            "align_self": null,
            "border": null,
            "bottom": null,
            "display": null,
            "flex": null,
            "flex_flow": null,
            "grid_area": null,
            "grid_auto_columns": null,
            "grid_auto_flow": null,
            "grid_auto_rows": null,
            "grid_column": null,
            "grid_gap": null,
            "grid_row": null,
            "grid_template_areas": null,
            "grid_template_columns": null,
            "grid_template_rows": null,
            "height": null,
            "justify_content": null,
            "justify_items": null,
            "left": null,
            "margin": null,
            "max_height": null,
            "max_width": null,
            "min_height": null,
            "min_width": null,
            "object_fit": null,
            "object_position": null,
            "order": null,
            "overflow": null,
            "overflow_x": null,
            "overflow_y": null,
            "padding": null,
            "right": null,
            "top": null,
            "visibility": null,
            "width": null
          }
        },
        "290f1fb97bb34816be64c7c9d4d63b22": {
          "model_module": "@jupyter-widgets/controls",
          "model_name": "DescriptionStyleModel",
          "model_module_version": "1.5.0",
          "state": {
            "_model_module": "@jupyter-widgets/controls",
            "_model_module_version": "1.5.0",
            "_model_name": "DescriptionStyleModel",
            "_view_count": null,
            "_view_module": "@jupyter-widgets/base",
            "_view_module_version": "1.2.0",
            "_view_name": "StyleView",
            "description_width": ""
          }
        },
        "dfc282ef23b34e3a832967dc24ff88e8": {
          "model_module": "@jupyter-widgets/base",
          "model_name": "LayoutModel",
          "model_module_version": "1.2.0",
          "state": {
            "_model_module": "@jupyter-widgets/base",
            "_model_module_version": "1.2.0",
            "_model_name": "LayoutModel",
            "_view_count": null,
            "_view_module": "@jupyter-widgets/base",
            "_view_module_version": "1.2.0",
            "_view_name": "LayoutView",
            "align_content": null,
            "align_items": null,
            "align_self": null,
            "border": null,
            "bottom": null,
            "display": null,
            "flex": null,
            "flex_flow": null,
            "grid_area": null,
            "grid_auto_columns": null,
            "grid_auto_flow": null,
            "grid_auto_rows": null,
            "grid_column": null,
            "grid_gap": null,
            "grid_row": null,
            "grid_template_areas": null,
            "grid_template_columns": null,
            "grid_template_rows": null,
            "height": null,
            "justify_content": null,
            "justify_items": null,
            "left": null,
            "margin": null,
            "max_height": null,
            "max_width": null,
            "min_height": null,
            "min_width": null,
            "object_fit": null,
            "object_position": null,
            "order": null,
            "overflow": null,
            "overflow_x": null,
            "overflow_y": null,
            "padding": null,
            "right": null,
            "top": null,
            "visibility": null,
            "width": null
          }
        },
        "67725d75778f4900a5b454ff544f3b85": {
          "model_module": "@jupyter-widgets/controls",
          "model_name": "ProgressStyleModel",
          "model_module_version": "1.5.0",
          "state": {
            "_model_module": "@jupyter-widgets/controls",
            "_model_module_version": "1.5.0",
            "_model_name": "ProgressStyleModel",
            "_view_count": null,
            "_view_module": "@jupyter-widgets/base",
            "_view_module_version": "1.2.0",
            "_view_name": "StyleView",
            "bar_color": null,
            "description_width": ""
          }
        },
        "34f1616ebdef43ce82998690c626850d": {
          "model_module": "@jupyter-widgets/base",
          "model_name": "LayoutModel",
          "model_module_version": "1.2.0",
          "state": {
            "_model_module": "@jupyter-widgets/base",
            "_model_module_version": "1.2.0",
            "_model_name": "LayoutModel",
            "_view_count": null,
            "_view_module": "@jupyter-widgets/base",
            "_view_module_version": "1.2.0",
            "_view_name": "LayoutView",
            "align_content": null,
            "align_items": null,
            "align_self": null,
            "border": null,
            "bottom": null,
            "display": null,
            "flex": null,
            "flex_flow": null,
            "grid_area": null,
            "grid_auto_columns": null,
            "grid_auto_flow": null,
            "grid_auto_rows": null,
            "grid_column": null,
            "grid_gap": null,
            "grid_row": null,
            "grid_template_areas": null,
            "grid_template_columns": null,
            "grid_template_rows": null,
            "height": null,
            "justify_content": null,
            "justify_items": null,
            "left": null,
            "margin": null,
            "max_height": null,
            "max_width": null,
            "min_height": null,
            "min_width": null,
            "object_fit": null,
            "object_position": null,
            "order": null,
            "overflow": null,
            "overflow_x": null,
            "overflow_y": null,
            "padding": null,
            "right": null,
            "top": null,
            "visibility": null,
            "width": null
          }
        },
        "f20ac868944a4925a413f95f8f891073": {
          "model_module": "@jupyter-widgets/controls",
          "model_name": "DescriptionStyleModel",
          "model_module_version": "1.5.0",
          "state": {
            "_model_module": "@jupyter-widgets/controls",
            "_model_module_version": "1.5.0",
            "_model_name": "DescriptionStyleModel",
            "_view_count": null,
            "_view_module": "@jupyter-widgets/base",
            "_view_module_version": "1.2.0",
            "_view_name": "StyleView",
            "description_width": ""
          }
        },
        "029947e5cade47ae89fce98a8b48a087": {
          "model_module": "@jupyter-widgets/controls",
          "model_name": "HBoxModel",
          "model_module_version": "1.5.0",
          "state": {
            "_dom_classes": [],
            "_model_module": "@jupyter-widgets/controls",
            "_model_module_version": "1.5.0",
            "_model_name": "HBoxModel",
            "_view_count": null,
            "_view_module": "@jupyter-widgets/controls",
            "_view_module_version": "1.5.0",
            "_view_name": "HBoxView",
            "box_style": "",
            "children": [
              "IPY_MODEL_326038afb2494bf8aabf3e4904ce2ba3",
              "IPY_MODEL_ecfa389437f54b8a8d5427b5d4139869",
              "IPY_MODEL_80f8c741a2214af2bb6d333b9cdd6c88"
            ],
            "layout": "IPY_MODEL_e2d8364718294297a6467d72f3c4d2a7"
          }
        },
        "326038afb2494bf8aabf3e4904ce2ba3": {
          "model_module": "@jupyter-widgets/controls",
          "model_name": "HTMLModel",
          "model_module_version": "1.5.0",
          "state": {
            "_dom_classes": [],
            "_model_module": "@jupyter-widgets/controls",
            "_model_module_version": "1.5.0",
            "_model_name": "HTMLModel",
            "_view_count": null,
            "_view_module": "@jupyter-widgets/controls",
            "_view_module_version": "1.5.0",
            "_view_name": "HTMLView",
            "description": "",
            "description_tooltip": null,
            "layout": "IPY_MODEL_6b10a15e95014036bda0b2e6be547255",
            "placeholder": "​",
            "style": "IPY_MODEL_676eb919511f46fab6dc84ae75b0349a",
            "value": "Downloading: 100%"
          }
        },
        "ecfa389437f54b8a8d5427b5d4139869": {
          "model_module": "@jupyter-widgets/controls",
          "model_name": "FloatProgressModel",
          "model_module_version": "1.5.0",
          "state": {
            "_dom_classes": [],
            "_model_module": "@jupyter-widgets/controls",
            "_model_module_version": "1.5.0",
            "_model_name": "FloatProgressModel",
            "_view_count": null,
            "_view_module": "@jupyter-widgets/controls",
            "_view_module_version": "1.5.0",
            "_view_name": "ProgressView",
            "bar_style": "success",
            "description": "",
            "description_tooltip": null,
            "layout": "IPY_MODEL_b2642a7d53364bada93aba31e3e52999",
            "max": 440473133,
            "min": 0,
            "orientation": "horizontal",
            "style": "IPY_MODEL_6c50eb588f8a4409bae05e9b464678de",
            "value": 440473133
          }
        },
        "80f8c741a2214af2bb6d333b9cdd6c88": {
          "model_module": "@jupyter-widgets/controls",
          "model_name": "HTMLModel",
          "model_module_version": "1.5.0",
          "state": {
            "_dom_classes": [],
            "_model_module": "@jupyter-widgets/controls",
            "_model_module_version": "1.5.0",
            "_model_name": "HTMLModel",
            "_view_count": null,
            "_view_module": "@jupyter-widgets/controls",
            "_view_module_version": "1.5.0",
            "_view_name": "HTMLView",
            "description": "",
            "description_tooltip": null,
            "layout": "IPY_MODEL_3d5070591f1548968d985a3cf8dd7f2a",
            "placeholder": "​",
            "style": "IPY_MODEL_89a231f7993c4963b7b997db3f8f7942",
            "value": " 440M/440M [00:08&lt;00:00, 62.6MB/s]"
          }
        },
        "e2d8364718294297a6467d72f3c4d2a7": {
          "model_module": "@jupyter-widgets/base",
          "model_name": "LayoutModel",
          "model_module_version": "1.2.0",
          "state": {
            "_model_module": "@jupyter-widgets/base",
            "_model_module_version": "1.2.0",
            "_model_name": "LayoutModel",
            "_view_count": null,
            "_view_module": "@jupyter-widgets/base",
            "_view_module_version": "1.2.0",
            "_view_name": "LayoutView",
            "align_content": null,
            "align_items": null,
            "align_self": null,
            "border": null,
            "bottom": null,
            "display": null,
            "flex": null,
            "flex_flow": null,
            "grid_area": null,
            "grid_auto_columns": null,
            "grid_auto_flow": null,
            "grid_auto_rows": null,
            "grid_column": null,
            "grid_gap": null,
            "grid_row": null,
            "grid_template_areas": null,
            "grid_template_columns": null,
            "grid_template_rows": null,
            "height": null,
            "justify_content": null,
            "justify_items": null,
            "left": null,
            "margin": null,
            "max_height": null,
            "max_width": null,
            "min_height": null,
            "min_width": null,
            "object_fit": null,
            "object_position": null,
            "order": null,
            "overflow": null,
            "overflow_x": null,
            "overflow_y": null,
            "padding": null,
            "right": null,
            "top": null,
            "visibility": null,
            "width": null
          }
        },
        "6b10a15e95014036bda0b2e6be547255": {
          "model_module": "@jupyter-widgets/base",
          "model_name": "LayoutModel",
          "model_module_version": "1.2.0",
          "state": {
            "_model_module": "@jupyter-widgets/base",
            "_model_module_version": "1.2.0",
            "_model_name": "LayoutModel",
            "_view_count": null,
            "_view_module": "@jupyter-widgets/base",
            "_view_module_version": "1.2.0",
            "_view_name": "LayoutView",
            "align_content": null,
            "align_items": null,
            "align_self": null,
            "border": null,
            "bottom": null,
            "display": null,
            "flex": null,
            "flex_flow": null,
            "grid_area": null,
            "grid_auto_columns": null,
            "grid_auto_flow": null,
            "grid_auto_rows": null,
            "grid_column": null,
            "grid_gap": null,
            "grid_row": null,
            "grid_template_areas": null,
            "grid_template_columns": null,
            "grid_template_rows": null,
            "height": null,
            "justify_content": null,
            "justify_items": null,
            "left": null,
            "margin": null,
            "max_height": null,
            "max_width": null,
            "min_height": null,
            "min_width": null,
            "object_fit": null,
            "object_position": null,
            "order": null,
            "overflow": null,
            "overflow_x": null,
            "overflow_y": null,
            "padding": null,
            "right": null,
            "top": null,
            "visibility": null,
            "width": null
          }
        },
        "676eb919511f46fab6dc84ae75b0349a": {
          "model_module": "@jupyter-widgets/controls",
          "model_name": "DescriptionStyleModel",
          "model_module_version": "1.5.0",
          "state": {
            "_model_module": "@jupyter-widgets/controls",
            "_model_module_version": "1.5.0",
            "_model_name": "DescriptionStyleModel",
            "_view_count": null,
            "_view_module": "@jupyter-widgets/base",
            "_view_module_version": "1.2.0",
            "_view_name": "StyleView",
            "description_width": ""
          }
        },
        "b2642a7d53364bada93aba31e3e52999": {
          "model_module": "@jupyter-widgets/base",
          "model_name": "LayoutModel",
          "model_module_version": "1.2.0",
          "state": {
            "_model_module": "@jupyter-widgets/base",
            "_model_module_version": "1.2.0",
            "_model_name": "LayoutModel",
            "_view_count": null,
            "_view_module": "@jupyter-widgets/base",
            "_view_module_version": "1.2.0",
            "_view_name": "LayoutView",
            "align_content": null,
            "align_items": null,
            "align_self": null,
            "border": null,
            "bottom": null,
            "display": null,
            "flex": null,
            "flex_flow": null,
            "grid_area": null,
            "grid_auto_columns": null,
            "grid_auto_flow": null,
            "grid_auto_rows": null,
            "grid_column": null,
            "grid_gap": null,
            "grid_row": null,
            "grid_template_areas": null,
            "grid_template_columns": null,
            "grid_template_rows": null,
            "height": null,
            "justify_content": null,
            "justify_items": null,
            "left": null,
            "margin": null,
            "max_height": null,
            "max_width": null,
            "min_height": null,
            "min_width": null,
            "object_fit": null,
            "object_position": null,
            "order": null,
            "overflow": null,
            "overflow_x": null,
            "overflow_y": null,
            "padding": null,
            "right": null,
            "top": null,
            "visibility": null,
            "width": null
          }
        },
        "6c50eb588f8a4409bae05e9b464678de": {
          "model_module": "@jupyter-widgets/controls",
          "model_name": "ProgressStyleModel",
          "model_module_version": "1.5.0",
          "state": {
            "_model_module": "@jupyter-widgets/controls",
            "_model_module_version": "1.5.0",
            "_model_name": "ProgressStyleModel",
            "_view_count": null,
            "_view_module": "@jupyter-widgets/base",
            "_view_module_version": "1.2.0",
            "_view_name": "StyleView",
            "bar_color": null,
            "description_width": ""
          }
        },
        "3d5070591f1548968d985a3cf8dd7f2a": {
          "model_module": "@jupyter-widgets/base",
          "model_name": "LayoutModel",
          "model_module_version": "1.2.0",
          "state": {
            "_model_module": "@jupyter-widgets/base",
            "_model_module_version": "1.2.0",
            "_model_name": "LayoutModel",
            "_view_count": null,
            "_view_module": "@jupyter-widgets/base",
            "_view_module_version": "1.2.0",
            "_view_name": "LayoutView",
            "align_content": null,
            "align_items": null,
            "align_self": null,
            "border": null,
            "bottom": null,
            "display": null,
            "flex": null,
            "flex_flow": null,
            "grid_area": null,
            "grid_auto_columns": null,
            "grid_auto_flow": null,
            "grid_auto_rows": null,
            "grid_column": null,
            "grid_gap": null,
            "grid_row": null,
            "grid_template_areas": null,
            "grid_template_columns": null,
            "grid_template_rows": null,
            "height": null,
            "justify_content": null,
            "justify_items": null,
            "left": null,
            "margin": null,
            "max_height": null,
            "max_width": null,
            "min_height": null,
            "min_width": null,
            "object_fit": null,
            "object_position": null,
            "order": null,
            "overflow": null,
            "overflow_x": null,
            "overflow_y": null,
            "padding": null,
            "right": null,
            "top": null,
            "visibility": null,
            "width": null
          }
        },
        "89a231f7993c4963b7b997db3f8f7942": {
          "model_module": "@jupyter-widgets/controls",
          "model_name": "DescriptionStyleModel",
          "model_module_version": "1.5.0",
          "state": {
            "_model_module": "@jupyter-widgets/controls",
            "_model_module_version": "1.5.0",
            "_model_name": "DescriptionStyleModel",
            "_view_count": null,
            "_view_module": "@jupyter-widgets/base",
            "_view_module_version": "1.2.0",
            "_view_name": "StyleView",
            "description_width": ""
          }
        },
        "1f0d1e2b42ac4818855f3bcb5d9b3f22": {
          "model_module": "@jupyter-widgets/controls",
          "model_name": "HBoxModel",
          "model_module_version": "1.5.0",
          "state": {
            "_dom_classes": [],
            "_model_module": "@jupyter-widgets/controls",
            "_model_module_version": "1.5.0",
            "_model_name": "HBoxModel",
            "_view_count": null,
            "_view_module": "@jupyter-widgets/controls",
            "_view_module_version": "1.5.0",
            "_view_name": "HBoxView",
            "box_style": "",
            "children": [
              "IPY_MODEL_21af8b43bf964df4b98fb3c888ec3332",
              "IPY_MODEL_91f5ff2280a94122a54a58405cceff16",
              "IPY_MODEL_99016f0fa7b94936a6b7269f49b9b430"
            ],
            "layout": "IPY_MODEL_61b3e0499f3741219fbe42234d269191"
          }
        },
        "21af8b43bf964df4b98fb3c888ec3332": {
          "model_module": "@jupyter-widgets/controls",
          "model_name": "HTMLModel",
          "model_module_version": "1.5.0",
          "state": {
            "_dom_classes": [],
            "_model_module": "@jupyter-widgets/controls",
            "_model_module_version": "1.5.0",
            "_model_name": "HTMLModel",
            "_view_count": null,
            "_view_module": "@jupyter-widgets/controls",
            "_view_module_version": "1.5.0",
            "_view_name": "HTMLView",
            "description": "",
            "description_tooltip": null,
            "layout": "IPY_MODEL_bc987289949a4f308a467e50e3279e22",
            "placeholder": "​",
            "style": "IPY_MODEL_b946bee6b0d840aa9615543e9b6d0648",
            "value": "100%"
          }
        },
        "91f5ff2280a94122a54a58405cceff16": {
          "model_module": "@jupyter-widgets/controls",
          "model_name": "FloatProgressModel",
          "model_module_version": "1.5.0",
          "state": {
            "_dom_classes": [],
            "_model_module": "@jupyter-widgets/controls",
            "_model_module_version": "1.5.0",
            "_model_name": "FloatProgressModel",
            "_view_count": null,
            "_view_module": "@jupyter-widgets/controls",
            "_view_module_version": "1.5.0",
            "_view_name": "ProgressView",
            "bar_style": "success",
            "description": "",
            "description_tooltip": null,
            "layout": "IPY_MODEL_ecbd7ce7938442b0b998a89dd255f746",
            "max": 3,
            "min": 0,
            "orientation": "horizontal",
            "style": "IPY_MODEL_b89e145c0f3545518ce4414ea3c6c98d",
            "value": 3
          }
        },
        "99016f0fa7b94936a6b7269f49b9b430": {
          "model_module": "@jupyter-widgets/controls",
          "model_name": "HTMLModel",
          "model_module_version": "1.5.0",
          "state": {
            "_dom_classes": [],
            "_model_module": "@jupyter-widgets/controls",
            "_model_module_version": "1.5.0",
            "_model_name": "HTMLModel",
            "_view_count": null,
            "_view_module": "@jupyter-widgets/controls",
            "_view_module_version": "1.5.0",
            "_view_name": "HTMLView",
            "description": "",
            "description_tooltip": null,
            "layout": "IPY_MODEL_ef6293ec75ca47f6a3556a736dcb3d6a",
            "placeholder": "​",
            "style": "IPY_MODEL_e946b5dfb0634e3dbba8159c5e3e2fa5",
            "value": " 3/3 [1:24:52&lt;00:00, 1695.20s/it]"
          }
        },
        "61b3e0499f3741219fbe42234d269191": {
          "model_module": "@jupyter-widgets/base",
          "model_name": "LayoutModel",
          "model_module_version": "1.2.0",
          "state": {
            "_model_module": "@jupyter-widgets/base",
            "_model_module_version": "1.2.0",
            "_model_name": "LayoutModel",
            "_view_count": null,
            "_view_module": "@jupyter-widgets/base",
            "_view_module_version": "1.2.0",
            "_view_name": "LayoutView",
            "align_content": null,
            "align_items": null,
            "align_self": null,
            "border": null,
            "bottom": null,
            "display": null,
            "flex": null,
            "flex_flow": null,
            "grid_area": null,
            "grid_auto_columns": null,
            "grid_auto_flow": null,
            "grid_auto_rows": null,
            "grid_column": null,
            "grid_gap": null,
            "grid_row": null,
            "grid_template_areas": null,
            "grid_template_columns": null,
            "grid_template_rows": null,
            "height": null,
            "justify_content": null,
            "justify_items": null,
            "left": null,
            "margin": null,
            "max_height": null,
            "max_width": null,
            "min_height": null,
            "min_width": null,
            "object_fit": null,
            "object_position": null,
            "order": null,
            "overflow": null,
            "overflow_x": null,
            "overflow_y": null,
            "padding": null,
            "right": null,
            "top": null,
            "visibility": null,
            "width": null
          }
        },
        "bc987289949a4f308a467e50e3279e22": {
          "model_module": "@jupyter-widgets/base",
          "model_name": "LayoutModel",
          "model_module_version": "1.2.0",
          "state": {
            "_model_module": "@jupyter-widgets/base",
            "_model_module_version": "1.2.0",
            "_model_name": "LayoutModel",
            "_view_count": null,
            "_view_module": "@jupyter-widgets/base",
            "_view_module_version": "1.2.0",
            "_view_name": "LayoutView",
            "align_content": null,
            "align_items": null,
            "align_self": null,
            "border": null,
            "bottom": null,
            "display": null,
            "flex": null,
            "flex_flow": null,
            "grid_area": null,
            "grid_auto_columns": null,
            "grid_auto_flow": null,
            "grid_auto_rows": null,
            "grid_column": null,
            "grid_gap": null,
            "grid_row": null,
            "grid_template_areas": null,
            "grid_template_columns": null,
            "grid_template_rows": null,
            "height": null,
            "justify_content": null,
            "justify_items": null,
            "left": null,
            "margin": null,
            "max_height": null,
            "max_width": null,
            "min_height": null,
            "min_width": null,
            "object_fit": null,
            "object_position": null,
            "order": null,
            "overflow": null,
            "overflow_x": null,
            "overflow_y": null,
            "padding": null,
            "right": null,
            "top": null,
            "visibility": null,
            "width": null
          }
        },
        "b946bee6b0d840aa9615543e9b6d0648": {
          "model_module": "@jupyter-widgets/controls",
          "model_name": "DescriptionStyleModel",
          "model_module_version": "1.5.0",
          "state": {
            "_model_module": "@jupyter-widgets/controls",
            "_model_module_version": "1.5.0",
            "_model_name": "DescriptionStyleModel",
            "_view_count": null,
            "_view_module": "@jupyter-widgets/base",
            "_view_module_version": "1.2.0",
            "_view_name": "StyleView",
            "description_width": ""
          }
        },
        "ecbd7ce7938442b0b998a89dd255f746": {
          "model_module": "@jupyter-widgets/base",
          "model_name": "LayoutModel",
          "model_module_version": "1.2.0",
          "state": {
            "_model_module": "@jupyter-widgets/base",
            "_model_module_version": "1.2.0",
            "_model_name": "LayoutModel",
            "_view_count": null,
            "_view_module": "@jupyter-widgets/base",
            "_view_module_version": "1.2.0",
            "_view_name": "LayoutView",
            "align_content": null,
            "align_items": null,
            "align_self": null,
            "border": null,
            "bottom": null,
            "display": null,
            "flex": null,
            "flex_flow": null,
            "grid_area": null,
            "grid_auto_columns": null,
            "grid_auto_flow": null,
            "grid_auto_rows": null,
            "grid_column": null,
            "grid_gap": null,
            "grid_row": null,
            "grid_template_areas": null,
            "grid_template_columns": null,
            "grid_template_rows": null,
            "height": null,
            "justify_content": null,
            "justify_items": null,
            "left": null,
            "margin": null,
            "max_height": null,
            "max_width": null,
            "min_height": null,
            "min_width": null,
            "object_fit": null,
            "object_position": null,
            "order": null,
            "overflow": null,
            "overflow_x": null,
            "overflow_y": null,
            "padding": null,
            "right": null,
            "top": null,
            "visibility": null,
            "width": null
          }
        },
        "b89e145c0f3545518ce4414ea3c6c98d": {
          "model_module": "@jupyter-widgets/controls",
          "model_name": "ProgressStyleModel",
          "model_module_version": "1.5.0",
          "state": {
            "_model_module": "@jupyter-widgets/controls",
            "_model_module_version": "1.5.0",
            "_model_name": "ProgressStyleModel",
            "_view_count": null,
            "_view_module": "@jupyter-widgets/base",
            "_view_module_version": "1.2.0",
            "_view_name": "StyleView",
            "bar_color": null,
            "description_width": ""
          }
        },
        "ef6293ec75ca47f6a3556a736dcb3d6a": {
          "model_module": "@jupyter-widgets/base",
          "model_name": "LayoutModel",
          "model_module_version": "1.2.0",
          "state": {
            "_model_module": "@jupyter-widgets/base",
            "_model_module_version": "1.2.0",
            "_model_name": "LayoutModel",
            "_view_count": null,
            "_view_module": "@jupyter-widgets/base",
            "_view_module_version": "1.2.0",
            "_view_name": "LayoutView",
            "align_content": null,
            "align_items": null,
            "align_self": null,
            "border": null,
            "bottom": null,
            "display": null,
            "flex": null,
            "flex_flow": null,
            "grid_area": null,
            "grid_auto_columns": null,
            "grid_auto_flow": null,
            "grid_auto_rows": null,
            "grid_column": null,
            "grid_gap": null,
            "grid_row": null,
            "grid_template_areas": null,
            "grid_template_columns": null,
            "grid_template_rows": null,
            "height": null,
            "justify_content": null,
            "justify_items": null,
            "left": null,
            "margin": null,
            "max_height": null,
            "max_width": null,
            "min_height": null,
            "min_width": null,
            "object_fit": null,
            "object_position": null,
            "order": null,
            "overflow": null,
            "overflow_x": null,
            "overflow_y": null,
            "padding": null,
            "right": null,
            "top": null,
            "visibility": null,
            "width": null
          }
        },
        "e946b5dfb0634e3dbba8159c5e3e2fa5": {
          "model_module": "@jupyter-widgets/controls",
          "model_name": "DescriptionStyleModel",
          "model_module_version": "1.5.0",
          "state": {
            "_model_module": "@jupyter-widgets/controls",
            "_model_module_version": "1.5.0",
            "_model_name": "DescriptionStyleModel",
            "_view_count": null,
            "_view_module": "@jupyter-widgets/base",
            "_view_module_version": "1.2.0",
            "_view_name": "StyleView",
            "description_width": ""
          }
        },
        "e7221225e61f4a1a88b32a6906b6d53b": {
          "model_module": "@jupyter-widgets/controls",
          "model_name": "HBoxModel",
          "model_module_version": "1.5.0",
          "state": {
            "_dom_classes": [],
            "_model_module": "@jupyter-widgets/controls",
            "_model_module_version": "1.5.0",
            "_model_name": "HBoxModel",
            "_view_count": null,
            "_view_module": "@jupyter-widgets/controls",
            "_view_module_version": "1.5.0",
            "_view_name": "HBoxView",
            "box_style": "",
            "children": [
              "IPY_MODEL_3e2be3b7bb6045059f4fe28abee8cbe0",
              "IPY_MODEL_04dbfee26103407c8d4c98732984d5d8",
              "IPY_MODEL_e750ecb0ef734ef7bcfbbf92bd1387dd"
            ],
            "layout": "IPY_MODEL_a38dba90cd304e74a321530f6189a656"
          }
        },
        "3e2be3b7bb6045059f4fe28abee8cbe0": {
          "model_module": "@jupyter-widgets/controls",
          "model_name": "HTMLModel",
          "model_module_version": "1.5.0",
          "state": {
            "_dom_classes": [],
            "_model_module": "@jupyter-widgets/controls",
            "_model_module_version": "1.5.0",
            "_model_name": "HTMLModel",
            "_view_count": null,
            "_view_module": "@jupyter-widgets/controls",
            "_view_module_version": "1.5.0",
            "_view_name": "HTMLView",
            "description": "",
            "description_tooltip": null,
            "layout": "IPY_MODEL_a41e4d04b8a64c37a1c0fbd400ee7675",
            "placeholder": "​",
            "style": "IPY_MODEL_3fe733801a8240f6a7cb415d9dc509c2",
            "value": "Epoch 1: 100%"
          }
        },
        "04dbfee26103407c8d4c98732984d5d8": {
          "model_module": "@jupyter-widgets/controls",
          "model_name": "FloatProgressModel",
          "model_module_version": "1.5.0",
          "state": {
            "_dom_classes": [],
            "_model_module": "@jupyter-widgets/controls",
            "_model_module_version": "1.5.0",
            "_model_name": "FloatProgressModel",
            "_view_count": null,
            "_view_module": "@jupyter-widgets/controls",
            "_view_module_version": "1.5.0",
            "_view_name": "ProgressView",
            "bar_style": "",
            "description": "",
            "description_tooltip": null,
            "layout": "IPY_MODEL_1c072e746f7d42d48236de2dce4af209",
            "max": 9234,
            "min": 0,
            "orientation": "horizontal",
            "style": "IPY_MODEL_98182dcaf80c46af86aa8261c734e655",
            "value": 9234
          }
        },
        "e750ecb0ef734ef7bcfbbf92bd1387dd": {
          "model_module": "@jupyter-widgets/controls",
          "model_name": "HTMLModel",
          "model_module_version": "1.5.0",
          "state": {
            "_dom_classes": [],
            "_model_module": "@jupyter-widgets/controls",
            "_model_module_version": "1.5.0",
            "_model_name": "HTMLModel",
            "_view_count": null,
            "_view_module": "@jupyter-widgets/controls",
            "_view_module_version": "1.5.0",
            "_view_name": "HTMLView",
            "description": "",
            "description_tooltip": null,
            "layout": "IPY_MODEL_641b5de3758d4d45bb9cc83665a5fc27",
            "placeholder": "​",
            "style": "IPY_MODEL_09dd6d084bbd434c9694b9e2facd97d5",
            "value": " 9234/9234 [26:35&lt;00:00,  6.26it/s, training_loss=0.002]"
          }
        },
        "a38dba90cd304e74a321530f6189a656": {
          "model_module": "@jupyter-widgets/base",
          "model_name": "LayoutModel",
          "model_module_version": "1.2.0",
          "state": {
            "_model_module": "@jupyter-widgets/base",
            "_model_module_version": "1.2.0",
            "_model_name": "LayoutModel",
            "_view_count": null,
            "_view_module": "@jupyter-widgets/base",
            "_view_module_version": "1.2.0",
            "_view_name": "LayoutView",
            "align_content": null,
            "align_items": null,
            "align_self": null,
            "border": null,
            "bottom": null,
            "display": null,
            "flex": null,
            "flex_flow": null,
            "grid_area": null,
            "grid_auto_columns": null,
            "grid_auto_flow": null,
            "grid_auto_rows": null,
            "grid_column": null,
            "grid_gap": null,
            "grid_row": null,
            "grid_template_areas": null,
            "grid_template_columns": null,
            "grid_template_rows": null,
            "height": null,
            "justify_content": null,
            "justify_items": null,
            "left": null,
            "margin": null,
            "max_height": null,
            "max_width": null,
            "min_height": null,
            "min_width": null,
            "object_fit": null,
            "object_position": null,
            "order": null,
            "overflow": null,
            "overflow_x": null,
            "overflow_y": null,
            "padding": null,
            "right": null,
            "top": null,
            "visibility": "hidden",
            "width": null
          }
        },
        "a41e4d04b8a64c37a1c0fbd400ee7675": {
          "model_module": "@jupyter-widgets/base",
          "model_name": "LayoutModel",
          "model_module_version": "1.2.0",
          "state": {
            "_model_module": "@jupyter-widgets/base",
            "_model_module_version": "1.2.0",
            "_model_name": "LayoutModel",
            "_view_count": null,
            "_view_module": "@jupyter-widgets/base",
            "_view_module_version": "1.2.0",
            "_view_name": "LayoutView",
            "align_content": null,
            "align_items": null,
            "align_self": null,
            "border": null,
            "bottom": null,
            "display": null,
            "flex": null,
            "flex_flow": null,
            "grid_area": null,
            "grid_auto_columns": null,
            "grid_auto_flow": null,
            "grid_auto_rows": null,
            "grid_column": null,
            "grid_gap": null,
            "grid_row": null,
            "grid_template_areas": null,
            "grid_template_columns": null,
            "grid_template_rows": null,
            "height": null,
            "justify_content": null,
            "justify_items": null,
            "left": null,
            "margin": null,
            "max_height": null,
            "max_width": null,
            "min_height": null,
            "min_width": null,
            "object_fit": null,
            "object_position": null,
            "order": null,
            "overflow": null,
            "overflow_x": null,
            "overflow_y": null,
            "padding": null,
            "right": null,
            "top": null,
            "visibility": null,
            "width": null
          }
        },
        "3fe733801a8240f6a7cb415d9dc509c2": {
          "model_module": "@jupyter-widgets/controls",
          "model_name": "DescriptionStyleModel",
          "model_module_version": "1.5.0",
          "state": {
            "_model_module": "@jupyter-widgets/controls",
            "_model_module_version": "1.5.0",
            "_model_name": "DescriptionStyleModel",
            "_view_count": null,
            "_view_module": "@jupyter-widgets/base",
            "_view_module_version": "1.2.0",
            "_view_name": "StyleView",
            "description_width": ""
          }
        },
        "1c072e746f7d42d48236de2dce4af209": {
          "model_module": "@jupyter-widgets/base",
          "model_name": "LayoutModel",
          "model_module_version": "1.2.0",
          "state": {
            "_model_module": "@jupyter-widgets/base",
            "_model_module_version": "1.2.0",
            "_model_name": "LayoutModel",
            "_view_count": null,
            "_view_module": "@jupyter-widgets/base",
            "_view_module_version": "1.2.0",
            "_view_name": "LayoutView",
            "align_content": null,
            "align_items": null,
            "align_self": null,
            "border": null,
            "bottom": null,
            "display": null,
            "flex": null,
            "flex_flow": null,
            "grid_area": null,
            "grid_auto_columns": null,
            "grid_auto_flow": null,
            "grid_auto_rows": null,
            "grid_column": null,
            "grid_gap": null,
            "grid_row": null,
            "grid_template_areas": null,
            "grid_template_columns": null,
            "grid_template_rows": null,
            "height": null,
            "justify_content": null,
            "justify_items": null,
            "left": null,
            "margin": null,
            "max_height": null,
            "max_width": null,
            "min_height": null,
            "min_width": null,
            "object_fit": null,
            "object_position": null,
            "order": null,
            "overflow": null,
            "overflow_x": null,
            "overflow_y": null,
            "padding": null,
            "right": null,
            "top": null,
            "visibility": null,
            "width": null
          }
        },
        "98182dcaf80c46af86aa8261c734e655": {
          "model_module": "@jupyter-widgets/controls",
          "model_name": "ProgressStyleModel",
          "model_module_version": "1.5.0",
          "state": {
            "_model_module": "@jupyter-widgets/controls",
            "_model_module_version": "1.5.0",
            "_model_name": "ProgressStyleModel",
            "_view_count": null,
            "_view_module": "@jupyter-widgets/base",
            "_view_module_version": "1.2.0",
            "_view_name": "StyleView",
            "bar_color": null,
            "description_width": ""
          }
        },
        "641b5de3758d4d45bb9cc83665a5fc27": {
          "model_module": "@jupyter-widgets/base",
          "model_name": "LayoutModel",
          "model_module_version": "1.2.0",
          "state": {
            "_model_module": "@jupyter-widgets/base",
            "_model_module_version": "1.2.0",
            "_model_name": "LayoutModel",
            "_view_count": null,
            "_view_module": "@jupyter-widgets/base",
            "_view_module_version": "1.2.0",
            "_view_name": "LayoutView",
            "align_content": null,
            "align_items": null,
            "align_self": null,
            "border": null,
            "bottom": null,
            "display": null,
            "flex": null,
            "flex_flow": null,
            "grid_area": null,
            "grid_auto_columns": null,
            "grid_auto_flow": null,
            "grid_auto_rows": null,
            "grid_column": null,
            "grid_gap": null,
            "grid_row": null,
            "grid_template_areas": null,
            "grid_template_columns": null,
            "grid_template_rows": null,
            "height": null,
            "justify_content": null,
            "justify_items": null,
            "left": null,
            "margin": null,
            "max_height": null,
            "max_width": null,
            "min_height": null,
            "min_width": null,
            "object_fit": null,
            "object_position": null,
            "order": null,
            "overflow": null,
            "overflow_x": null,
            "overflow_y": null,
            "padding": null,
            "right": null,
            "top": null,
            "visibility": null,
            "width": null
          }
        },
        "09dd6d084bbd434c9694b9e2facd97d5": {
          "model_module": "@jupyter-widgets/controls",
          "model_name": "DescriptionStyleModel",
          "model_module_version": "1.5.0",
          "state": {
            "_model_module": "@jupyter-widgets/controls",
            "_model_module_version": "1.5.0",
            "_model_name": "DescriptionStyleModel",
            "_view_count": null,
            "_view_module": "@jupyter-widgets/base",
            "_view_module_version": "1.2.0",
            "_view_name": "StyleView",
            "description_width": ""
          }
        },
        "a51c8f3331a84933bf1b46cfdf882d79": {
          "model_module": "@jupyter-widgets/controls",
          "model_name": "HBoxModel",
          "model_module_version": "1.5.0",
          "state": {
            "_dom_classes": [],
            "_model_module": "@jupyter-widgets/controls",
            "_model_module_version": "1.5.0",
            "_model_name": "HBoxModel",
            "_view_count": null,
            "_view_module": "@jupyter-widgets/controls",
            "_view_module_version": "1.5.0",
            "_view_name": "HBoxView",
            "box_style": "",
            "children": [
              "IPY_MODEL_c76d68bd03574bce80645b0a2febc624",
              "IPY_MODEL_1ab8a660a4dc4779ba16c2f2e5c3441f",
              "IPY_MODEL_9c78a18e71f24ea28c3947b0061c1574"
            ],
            "layout": "IPY_MODEL_18499196a941484c9ef7399144801e03"
          }
        },
        "c76d68bd03574bce80645b0a2febc624": {
          "model_module": "@jupyter-widgets/controls",
          "model_name": "HTMLModel",
          "model_module_version": "1.5.0",
          "state": {
            "_dom_classes": [],
            "_model_module": "@jupyter-widgets/controls",
            "_model_module_version": "1.5.0",
            "_model_name": "HTMLModel",
            "_view_count": null,
            "_view_module": "@jupyter-widgets/controls",
            "_view_module_version": "1.5.0",
            "_view_name": "HTMLView",
            "description": "",
            "description_tooltip": null,
            "layout": "IPY_MODEL_6d1043b349294b288849f5645715219b",
            "placeholder": "​",
            "style": "IPY_MODEL_b6c6d42aa4614dd080ab10672112c8d5",
            "value": "Epoch 2: 100%"
          }
        },
        "1ab8a660a4dc4779ba16c2f2e5c3441f": {
          "model_module": "@jupyter-widgets/controls",
          "model_name": "FloatProgressModel",
          "model_module_version": "1.5.0",
          "state": {
            "_dom_classes": [],
            "_model_module": "@jupyter-widgets/controls",
            "_model_module_version": "1.5.0",
            "_model_name": "FloatProgressModel",
            "_view_count": null,
            "_view_module": "@jupyter-widgets/controls",
            "_view_module_version": "1.5.0",
            "_view_name": "ProgressView",
            "bar_style": "",
            "description": "",
            "description_tooltip": null,
            "layout": "IPY_MODEL_b7324d647c544e83812de17e63687748",
            "max": 9234,
            "min": 0,
            "orientation": "horizontal",
            "style": "IPY_MODEL_c5e0ea3bb1354a478aa113cb08e90c2b",
            "value": 9234
          }
        },
        "9c78a18e71f24ea28c3947b0061c1574": {
          "model_module": "@jupyter-widgets/controls",
          "model_name": "HTMLModel",
          "model_module_version": "1.5.0",
          "state": {
            "_dom_classes": [],
            "_model_module": "@jupyter-widgets/controls",
            "_model_module_version": "1.5.0",
            "_model_name": "HTMLModel",
            "_view_count": null,
            "_view_module": "@jupyter-widgets/controls",
            "_view_module_version": "1.5.0",
            "_view_name": "HTMLView",
            "description": "",
            "description_tooltip": null,
            "layout": "IPY_MODEL_955f28dc1ee34dee88494846619dd872",
            "placeholder": "​",
            "style": "IPY_MODEL_6cf7ee795c4943cc9f4bed3c40be6f98",
            "value": " 9234/9234 [26:16&lt;00:00,  6.17it/s, training_loss=0.000]"
          }
        },
        "18499196a941484c9ef7399144801e03": {
          "model_module": "@jupyter-widgets/base",
          "model_name": "LayoutModel",
          "model_module_version": "1.2.0",
          "state": {
            "_model_module": "@jupyter-widgets/base",
            "_model_module_version": "1.2.0",
            "_model_name": "LayoutModel",
            "_view_count": null,
            "_view_module": "@jupyter-widgets/base",
            "_view_module_version": "1.2.0",
            "_view_name": "LayoutView",
            "align_content": null,
            "align_items": null,
            "align_self": null,
            "border": null,
            "bottom": null,
            "display": null,
            "flex": null,
            "flex_flow": null,
            "grid_area": null,
            "grid_auto_columns": null,
            "grid_auto_flow": null,
            "grid_auto_rows": null,
            "grid_column": null,
            "grid_gap": null,
            "grid_row": null,
            "grid_template_areas": null,
            "grid_template_columns": null,
            "grid_template_rows": null,
            "height": null,
            "justify_content": null,
            "justify_items": null,
            "left": null,
            "margin": null,
            "max_height": null,
            "max_width": null,
            "min_height": null,
            "min_width": null,
            "object_fit": null,
            "object_position": null,
            "order": null,
            "overflow": null,
            "overflow_x": null,
            "overflow_y": null,
            "padding": null,
            "right": null,
            "top": null,
            "visibility": "hidden",
            "width": null
          }
        },
        "6d1043b349294b288849f5645715219b": {
          "model_module": "@jupyter-widgets/base",
          "model_name": "LayoutModel",
          "model_module_version": "1.2.0",
          "state": {
            "_model_module": "@jupyter-widgets/base",
            "_model_module_version": "1.2.0",
            "_model_name": "LayoutModel",
            "_view_count": null,
            "_view_module": "@jupyter-widgets/base",
            "_view_module_version": "1.2.0",
            "_view_name": "LayoutView",
            "align_content": null,
            "align_items": null,
            "align_self": null,
            "border": null,
            "bottom": null,
            "display": null,
            "flex": null,
            "flex_flow": null,
            "grid_area": null,
            "grid_auto_columns": null,
            "grid_auto_flow": null,
            "grid_auto_rows": null,
            "grid_column": null,
            "grid_gap": null,
            "grid_row": null,
            "grid_template_areas": null,
            "grid_template_columns": null,
            "grid_template_rows": null,
            "height": null,
            "justify_content": null,
            "justify_items": null,
            "left": null,
            "margin": null,
            "max_height": null,
            "max_width": null,
            "min_height": null,
            "min_width": null,
            "object_fit": null,
            "object_position": null,
            "order": null,
            "overflow": null,
            "overflow_x": null,
            "overflow_y": null,
            "padding": null,
            "right": null,
            "top": null,
            "visibility": null,
            "width": null
          }
        },
        "b6c6d42aa4614dd080ab10672112c8d5": {
          "model_module": "@jupyter-widgets/controls",
          "model_name": "DescriptionStyleModel",
          "model_module_version": "1.5.0",
          "state": {
            "_model_module": "@jupyter-widgets/controls",
            "_model_module_version": "1.5.0",
            "_model_name": "DescriptionStyleModel",
            "_view_count": null,
            "_view_module": "@jupyter-widgets/base",
            "_view_module_version": "1.2.0",
            "_view_name": "StyleView",
            "description_width": ""
          }
        },
        "b7324d647c544e83812de17e63687748": {
          "model_module": "@jupyter-widgets/base",
          "model_name": "LayoutModel",
          "model_module_version": "1.2.0",
          "state": {
            "_model_module": "@jupyter-widgets/base",
            "_model_module_version": "1.2.0",
            "_model_name": "LayoutModel",
            "_view_count": null,
            "_view_module": "@jupyter-widgets/base",
            "_view_module_version": "1.2.0",
            "_view_name": "LayoutView",
            "align_content": null,
            "align_items": null,
            "align_self": null,
            "border": null,
            "bottom": null,
            "display": null,
            "flex": null,
            "flex_flow": null,
            "grid_area": null,
            "grid_auto_columns": null,
            "grid_auto_flow": null,
            "grid_auto_rows": null,
            "grid_column": null,
            "grid_gap": null,
            "grid_row": null,
            "grid_template_areas": null,
            "grid_template_columns": null,
            "grid_template_rows": null,
            "height": null,
            "justify_content": null,
            "justify_items": null,
            "left": null,
            "margin": null,
            "max_height": null,
            "max_width": null,
            "min_height": null,
            "min_width": null,
            "object_fit": null,
            "object_position": null,
            "order": null,
            "overflow": null,
            "overflow_x": null,
            "overflow_y": null,
            "padding": null,
            "right": null,
            "top": null,
            "visibility": null,
            "width": null
          }
        },
        "c5e0ea3bb1354a478aa113cb08e90c2b": {
          "model_module": "@jupyter-widgets/controls",
          "model_name": "ProgressStyleModel",
          "model_module_version": "1.5.0",
          "state": {
            "_model_module": "@jupyter-widgets/controls",
            "_model_module_version": "1.5.0",
            "_model_name": "ProgressStyleModel",
            "_view_count": null,
            "_view_module": "@jupyter-widgets/base",
            "_view_module_version": "1.2.0",
            "_view_name": "StyleView",
            "bar_color": null,
            "description_width": ""
          }
        },
        "955f28dc1ee34dee88494846619dd872": {
          "model_module": "@jupyter-widgets/base",
          "model_name": "LayoutModel",
          "model_module_version": "1.2.0",
          "state": {
            "_model_module": "@jupyter-widgets/base",
            "_model_module_version": "1.2.0",
            "_model_name": "LayoutModel",
            "_view_count": null,
            "_view_module": "@jupyter-widgets/base",
            "_view_module_version": "1.2.0",
            "_view_name": "LayoutView",
            "align_content": null,
            "align_items": null,
            "align_self": null,
            "border": null,
            "bottom": null,
            "display": null,
            "flex": null,
            "flex_flow": null,
            "grid_area": null,
            "grid_auto_columns": null,
            "grid_auto_flow": null,
            "grid_auto_rows": null,
            "grid_column": null,
            "grid_gap": null,
            "grid_row": null,
            "grid_template_areas": null,
            "grid_template_columns": null,
            "grid_template_rows": null,
            "height": null,
            "justify_content": null,
            "justify_items": null,
            "left": null,
            "margin": null,
            "max_height": null,
            "max_width": null,
            "min_height": null,
            "min_width": null,
            "object_fit": null,
            "object_position": null,
            "order": null,
            "overflow": null,
            "overflow_x": null,
            "overflow_y": null,
            "padding": null,
            "right": null,
            "top": null,
            "visibility": null,
            "width": null
          }
        },
        "6cf7ee795c4943cc9f4bed3c40be6f98": {
          "model_module": "@jupyter-widgets/controls",
          "model_name": "DescriptionStyleModel",
          "model_module_version": "1.5.0",
          "state": {
            "_model_module": "@jupyter-widgets/controls",
            "_model_module_version": "1.5.0",
            "_model_name": "DescriptionStyleModel",
            "_view_count": null,
            "_view_module": "@jupyter-widgets/base",
            "_view_module_version": "1.2.0",
            "_view_name": "StyleView",
            "description_width": ""
          }
        },
        "156e572f04634f8289b8077752b40a88": {
          "model_module": "@jupyter-widgets/controls",
          "model_name": "HBoxModel",
          "model_module_version": "1.5.0",
          "state": {
            "_dom_classes": [],
            "_model_module": "@jupyter-widgets/controls",
            "_model_module_version": "1.5.0",
            "_model_name": "HBoxModel",
            "_view_count": null,
            "_view_module": "@jupyter-widgets/controls",
            "_view_module_version": "1.5.0",
            "_view_name": "HBoxView",
            "box_style": "",
            "children": [
              "IPY_MODEL_70147e76b3114095b18836db70d2c7c1",
              "IPY_MODEL_97b703ce431d4672be12b3effc3927c2",
              "IPY_MODEL_d542d7c78ca34c32a97b6636c6dac97e"
            ],
            "layout": "IPY_MODEL_040cdb05ecc144dd8700cd72301a1f8f"
          }
        },
        "70147e76b3114095b18836db70d2c7c1": {
          "model_module": "@jupyter-widgets/controls",
          "model_name": "HTMLModel",
          "model_module_version": "1.5.0",
          "state": {
            "_dom_classes": [],
            "_model_module": "@jupyter-widgets/controls",
            "_model_module_version": "1.5.0",
            "_model_name": "HTMLModel",
            "_view_count": null,
            "_view_module": "@jupyter-widgets/controls",
            "_view_module_version": "1.5.0",
            "_view_name": "HTMLView",
            "description": "",
            "description_tooltip": null,
            "layout": "IPY_MODEL_cc092cb107da45acb9a39fdf6630a91d",
            "placeholder": "​",
            "style": "IPY_MODEL_9645ba54a2d8457abd98f7296ae1024a",
            "value": "Epoch 3: 100%"
          }
        },
        "97b703ce431d4672be12b3effc3927c2": {
          "model_module": "@jupyter-widgets/controls",
          "model_name": "FloatProgressModel",
          "model_module_version": "1.5.0",
          "state": {
            "_dom_classes": [],
            "_model_module": "@jupyter-widgets/controls",
            "_model_module_version": "1.5.0",
            "_model_name": "FloatProgressModel",
            "_view_count": null,
            "_view_module": "@jupyter-widgets/controls",
            "_view_module_version": "1.5.0",
            "_view_name": "ProgressView",
            "bar_style": "",
            "description": "",
            "description_tooltip": null,
            "layout": "IPY_MODEL_55a609bc403a4993896a54d1a99dafa6",
            "max": 9234,
            "min": 0,
            "orientation": "horizontal",
            "style": "IPY_MODEL_1e4fbd26ad5c4460a46e3fcc8f2f4b0d",
            "value": 9234
          }
        },
        "d542d7c78ca34c32a97b6636c6dac97e": {
          "model_module": "@jupyter-widgets/controls",
          "model_name": "HTMLModel",
          "model_module_version": "1.5.0",
          "state": {
            "_dom_classes": [],
            "_model_module": "@jupyter-widgets/controls",
            "_model_module_version": "1.5.0",
            "_model_name": "HTMLModel",
            "_view_count": null,
            "_view_module": "@jupyter-widgets/controls",
            "_view_module_version": "1.5.0",
            "_view_name": "HTMLView",
            "description": "",
            "description_tooltip": null,
            "layout": "IPY_MODEL_e5eb31a39edf4439870c35416bd0aee6",
            "placeholder": "​",
            "style": "IPY_MODEL_777ae76566214fb1a5448cdf654aa4f3",
            "value": " 9234/9234 [26:16&lt;00:00,  6.24it/s, training_loss=0.000]"
          }
        },
        "040cdb05ecc144dd8700cd72301a1f8f": {
          "model_module": "@jupyter-widgets/base",
          "model_name": "LayoutModel",
          "model_module_version": "1.2.0",
          "state": {
            "_model_module": "@jupyter-widgets/base",
            "_model_module_version": "1.2.0",
            "_model_name": "LayoutModel",
            "_view_count": null,
            "_view_module": "@jupyter-widgets/base",
            "_view_module_version": "1.2.0",
            "_view_name": "LayoutView",
            "align_content": null,
            "align_items": null,
            "align_self": null,
            "border": null,
            "bottom": null,
            "display": null,
            "flex": null,
            "flex_flow": null,
            "grid_area": null,
            "grid_auto_columns": null,
            "grid_auto_flow": null,
            "grid_auto_rows": null,
            "grid_column": null,
            "grid_gap": null,
            "grid_row": null,
            "grid_template_areas": null,
            "grid_template_columns": null,
            "grid_template_rows": null,
            "height": null,
            "justify_content": null,
            "justify_items": null,
            "left": null,
            "margin": null,
            "max_height": null,
            "max_width": null,
            "min_height": null,
            "min_width": null,
            "object_fit": null,
            "object_position": null,
            "order": null,
            "overflow": null,
            "overflow_x": null,
            "overflow_y": null,
            "padding": null,
            "right": null,
            "top": null,
            "visibility": "hidden",
            "width": null
          }
        },
        "cc092cb107da45acb9a39fdf6630a91d": {
          "model_module": "@jupyter-widgets/base",
          "model_name": "LayoutModel",
          "model_module_version": "1.2.0",
          "state": {
            "_model_module": "@jupyter-widgets/base",
            "_model_module_version": "1.2.0",
            "_model_name": "LayoutModel",
            "_view_count": null,
            "_view_module": "@jupyter-widgets/base",
            "_view_module_version": "1.2.0",
            "_view_name": "LayoutView",
            "align_content": null,
            "align_items": null,
            "align_self": null,
            "border": null,
            "bottom": null,
            "display": null,
            "flex": null,
            "flex_flow": null,
            "grid_area": null,
            "grid_auto_columns": null,
            "grid_auto_flow": null,
            "grid_auto_rows": null,
            "grid_column": null,
            "grid_gap": null,
            "grid_row": null,
            "grid_template_areas": null,
            "grid_template_columns": null,
            "grid_template_rows": null,
            "height": null,
            "justify_content": null,
            "justify_items": null,
            "left": null,
            "margin": null,
            "max_height": null,
            "max_width": null,
            "min_height": null,
            "min_width": null,
            "object_fit": null,
            "object_position": null,
            "order": null,
            "overflow": null,
            "overflow_x": null,
            "overflow_y": null,
            "padding": null,
            "right": null,
            "top": null,
            "visibility": null,
            "width": null
          }
        },
        "9645ba54a2d8457abd98f7296ae1024a": {
          "model_module": "@jupyter-widgets/controls",
          "model_name": "DescriptionStyleModel",
          "model_module_version": "1.5.0",
          "state": {
            "_model_module": "@jupyter-widgets/controls",
            "_model_module_version": "1.5.0",
            "_model_name": "DescriptionStyleModel",
            "_view_count": null,
            "_view_module": "@jupyter-widgets/base",
            "_view_module_version": "1.2.0",
            "_view_name": "StyleView",
            "description_width": ""
          }
        },
        "55a609bc403a4993896a54d1a99dafa6": {
          "model_module": "@jupyter-widgets/base",
          "model_name": "LayoutModel",
          "model_module_version": "1.2.0",
          "state": {
            "_model_module": "@jupyter-widgets/base",
            "_model_module_version": "1.2.0",
            "_model_name": "LayoutModel",
            "_view_count": null,
            "_view_module": "@jupyter-widgets/base",
            "_view_module_version": "1.2.0",
            "_view_name": "LayoutView",
            "align_content": null,
            "align_items": null,
            "align_self": null,
            "border": null,
            "bottom": null,
            "display": null,
            "flex": null,
            "flex_flow": null,
            "grid_area": null,
            "grid_auto_columns": null,
            "grid_auto_flow": null,
            "grid_auto_rows": null,
            "grid_column": null,
            "grid_gap": null,
            "grid_row": null,
            "grid_template_areas": null,
            "grid_template_columns": null,
            "grid_template_rows": null,
            "height": null,
            "justify_content": null,
            "justify_items": null,
            "left": null,
            "margin": null,
            "max_height": null,
            "max_width": null,
            "min_height": null,
            "min_width": null,
            "object_fit": null,
            "object_position": null,
            "order": null,
            "overflow": null,
            "overflow_x": null,
            "overflow_y": null,
            "padding": null,
            "right": null,
            "top": null,
            "visibility": null,
            "width": null
          }
        },
        "1e4fbd26ad5c4460a46e3fcc8f2f4b0d": {
          "model_module": "@jupyter-widgets/controls",
          "model_name": "ProgressStyleModel",
          "model_module_version": "1.5.0",
          "state": {
            "_model_module": "@jupyter-widgets/controls",
            "_model_module_version": "1.5.0",
            "_model_name": "ProgressStyleModel",
            "_view_count": null,
            "_view_module": "@jupyter-widgets/base",
            "_view_module_version": "1.2.0",
            "_view_name": "StyleView",
            "bar_color": null,
            "description_width": ""
          }
        },
        "e5eb31a39edf4439870c35416bd0aee6": {
          "model_module": "@jupyter-widgets/base",
          "model_name": "LayoutModel",
          "model_module_version": "1.2.0",
          "state": {
            "_model_module": "@jupyter-widgets/base",
            "_model_module_version": "1.2.0",
            "_model_name": "LayoutModel",
            "_view_count": null,
            "_view_module": "@jupyter-widgets/base",
            "_view_module_version": "1.2.0",
            "_view_name": "LayoutView",
            "align_content": null,
            "align_items": null,
            "align_self": null,
            "border": null,
            "bottom": null,
            "display": null,
            "flex": null,
            "flex_flow": null,
            "grid_area": null,
            "grid_auto_columns": null,
            "grid_auto_flow": null,
            "grid_auto_rows": null,
            "grid_column": null,
            "grid_gap": null,
            "grid_row": null,
            "grid_template_areas": null,
            "grid_template_columns": null,
            "grid_template_rows": null,
            "height": null,
            "justify_content": null,
            "justify_items": null,
            "left": null,
            "margin": null,
            "max_height": null,
            "max_width": null,
            "min_height": null,
            "min_width": null,
            "object_fit": null,
            "object_position": null,
            "order": null,
            "overflow": null,
            "overflow_x": null,
            "overflow_y": null,
            "padding": null,
            "right": null,
            "top": null,
            "visibility": null,
            "width": null
          }
        },
        "777ae76566214fb1a5448cdf654aa4f3": {
          "model_module": "@jupyter-widgets/controls",
          "model_name": "DescriptionStyleModel",
          "model_module_version": "1.5.0",
          "state": {
            "_model_module": "@jupyter-widgets/controls",
            "_model_module_version": "1.5.0",
            "_model_name": "DescriptionStyleModel",
            "_view_count": null,
            "_view_module": "@jupyter-widgets/base",
            "_view_module_version": "1.2.0",
            "_view_name": "StyleView",
            "description_width": ""
          }
        }
      }
    }
  },
  "cells": [
    {
      "cell_type": "markdown",
      "source": [
        "## Import all the libraries"
      ],
      "metadata": {
        "id": "AHAdzk7C0Wim"
      }
    },
    {
      "cell_type": "code",
      "source": [
        "import tensorflow as tf\n",
        "tf.test.gpu_device_name()"
      ],
      "metadata": {
        "colab": {
          "base_uri": "https://localhost:8080/",
          "height": 34
        },
        "id": "irbgb3BQyF8U",
        "outputId": "eede4464-80ee-4ce6-a909-1d2a2858d124"
      },
      "execution_count": null,
      "outputs": [
        {
          "output_type": "execute_result",
          "data": {
            "text/plain": [
              "'/device:GPU:0'"
            ],
            "application/vnd.google.colaboratory.intrinsic+json": {
              "type": "string"
            }
          },
          "metadata": {},
          "execution_count": 1
        }
      ]
    },
    {
      "cell_type": "code",
      "execution_count": null,
      "metadata": {
        "colab": {
          "base_uri": "https://localhost:8080/"
        },
        "id": "ufMFWbcyof2I",
        "outputId": "8bab7d2e-465d-459c-983c-93ba741a6bb3"
      },
      "outputs": [
        {
          "output_type": "stream",
          "name": "stdout",
          "text": [
            "Drive already mounted at /content/drive; to attempt to forcibly remount, call drive.mount(\"/content/drive\", force_remount=True).\n"
          ]
        }
      ],
      "source": [
        "from google.colab import drive\n",
        "import pandas as pd\n",
        "import numpy as np\n",
        "import matplotlib.pyplot as plt\n",
        "import seaborn as sns\n",
        "drive.mount('/content/drive')\n",
        "\n",
        "from nltk.corpus import stopwords\n",
        "from nltk.stem import PorterStemmer"
      ]
    },
    {
      "cell_type": "markdown",
      "source": [
        "## Load the Dataset \n",
        "Reference Link to download: https://www.kaggle.com/datafiniti/consumer-reviews-of-amazon-products\n"
      ],
      "metadata": {
        "id": "6akM3OVl0bNy"
      }
    },
    {
      "cell_type": "code",
      "source": [
        "data = pd.read_csv(\"/content/drive/MyDrive/Colab Notebooks/1429_1.csv\") \n"
      ],
      "metadata": {
        "colab": {
          "base_uri": "https://localhost:8080/"
        },
        "id": "wCmu5yxkp_bS",
        "outputId": "e0d6909d-37e7-43df-9795-ae2d8fee6cb5"
      },
      "execution_count": null,
      "outputs": [
        {
          "output_type": "stream",
          "name": "stderr",
          "text": [
            "/usr/local/lib/python3.8/dist-packages/IPython/core/interactiveshell.py:3326: DtypeWarning: Columns (1,10) have mixed types.Specify dtype option on import or set low_memory=False.\n",
            "  exec(code_obj, self.user_global_ns, self.user_ns)\n"
          ]
        }
      ]
    },
    {
      "cell_type": "code",
      "source": [
        "data.head()"
      ],
      "metadata": {
        "colab": {
          "base_uri": "https://localhost:8080/",
          "height": 787
        },
        "id": "X5tEqprUqwB4",
        "outputId": "d33b092f-5e2a-4f65-84ed-6e77372a4ae3"
      },
      "execution_count": null,
      "outputs": [
        {
          "output_type": "execute_result",
          "data": {
            "text/plain": [
              "                     id                                               name  \\\n",
              "0  AVqkIhwDv8e3D1O-lebb  All-New Fire HD 8 Tablet, 8 HD Display, Wi-Fi,...   \n",
              "1  AVqkIhwDv8e3D1O-lebb  All-New Fire HD 8 Tablet, 8 HD Display, Wi-Fi,...   \n",
              "2  AVqkIhwDv8e3D1O-lebb  All-New Fire HD 8 Tablet, 8 HD Display, Wi-Fi,...   \n",
              "3  AVqkIhwDv8e3D1O-lebb  All-New Fire HD 8 Tablet, 8 HD Display, Wi-Fi,...   \n",
              "4  AVqkIhwDv8e3D1O-lebb  All-New Fire HD 8 Tablet, 8 HD Display, Wi-Fi,...   \n",
              "\n",
              "        asins   brand                                         categories  \\\n",
              "0  B01AHB9CN2  Amazon  Electronics,iPad & Tablets,All Tablets,Fire Ta...   \n",
              "1  B01AHB9CN2  Amazon  Electronics,iPad & Tablets,All Tablets,Fire Ta...   \n",
              "2  B01AHB9CN2  Amazon  Electronics,iPad & Tablets,All Tablets,Fire Ta...   \n",
              "3  B01AHB9CN2  Amazon  Electronics,iPad & Tablets,All Tablets,Fire Ta...   \n",
              "4  B01AHB9CN2  Amazon  Electronics,iPad & Tablets,All Tablets,Fire Ta...   \n",
              "\n",
              "                                                keys manufacturer  \\\n",
              "0  841667104676,amazon/53004484,amazon/b01ahb9cn2...       Amazon   \n",
              "1  841667104676,amazon/53004484,amazon/b01ahb9cn2...       Amazon   \n",
              "2  841667104676,amazon/53004484,amazon/b01ahb9cn2...       Amazon   \n",
              "3  841667104676,amazon/53004484,amazon/b01ahb9cn2...       Amazon   \n",
              "4  841667104676,amazon/53004484,amazon/b01ahb9cn2...       Amazon   \n",
              "\n",
              "               reviews.date     reviews.dateAdded  \\\n",
              "0  2017-01-13T00:00:00.000Z  2017-07-03T23:33:15Z   \n",
              "1  2017-01-13T00:00:00.000Z  2017-07-03T23:33:15Z   \n",
              "2  2017-01-13T00:00:00.000Z  2017-07-03T23:33:15Z   \n",
              "3  2017-01-13T00:00:00.000Z  2017-07-03T23:33:15Z   \n",
              "4  2017-01-12T00:00:00.000Z  2017-07-03T23:33:15Z   \n",
              "\n",
              "                                    reviews.dateSeen  ... reviews.doRecommend  \\\n",
              "0  2017-06-07T09:04:00.000Z,2017-04-30T00:45:00.000Z  ...                True   \n",
              "1  2017-06-07T09:04:00.000Z,2017-04-30T00:45:00.000Z  ...                True   \n",
              "2  2017-06-07T09:04:00.000Z,2017-04-30T00:45:00.000Z  ...                True   \n",
              "3  2017-06-07T09:04:00.000Z,2017-04-30T00:45:00.000Z  ...                True   \n",
              "4  2017-06-07T09:04:00.000Z,2017-04-30T00:45:00.000Z  ...                True   \n",
              "\n",
              "  reviews.id  reviews.numHelpful  reviews.rating  \\\n",
              "0        NaN                 0.0             5.0   \n",
              "1        NaN                 0.0             5.0   \n",
              "2        NaN                 0.0             5.0   \n",
              "3        NaN                 0.0             4.0   \n",
              "4        NaN                 0.0             5.0   \n",
              "\n",
              "                                  reviews.sourceURLs  \\\n",
              "0  http://reviews.bestbuy.com/3545/5620406/review...   \n",
              "1  http://reviews.bestbuy.com/3545/5620406/review...   \n",
              "2  http://reviews.bestbuy.com/3545/5620406/review...   \n",
              "3  http://reviews.bestbuy.com/3545/5620406/review...   \n",
              "4  http://reviews.bestbuy.com/3545/5620406/review...   \n",
              "\n",
              "                                        reviews.text  \\\n",
              "0  This product so far has not disappointed. My c...   \n",
              "1  great for beginner or experienced person. Boug...   \n",
              "2  Inexpensive tablet for him to use and learn on...   \n",
              "3  I've had my Fire HD 8 two weeks now and I love...   \n",
              "4  I bought this for my grand daughter when she c...   \n",
              "\n",
              "                             reviews.title reviews.userCity  \\\n",
              "0                                   Kindle              NaN   \n",
              "1                                very fast              NaN   \n",
              "2  Beginner tablet for our 9 year old son.              NaN   \n",
              "3                                  Good!!!              NaN   \n",
              "4                Fantastic Tablet for kids              NaN   \n",
              "\n",
              "   reviews.userProvince  reviews.username  \n",
              "0                   NaN           Adapter  \n",
              "1                   NaN            truman  \n",
              "2                   NaN             DaveZ  \n",
              "3                   NaN            Shacks  \n",
              "4                   NaN         explore42  \n",
              "\n",
              "[5 rows x 21 columns]"
            ],
            "text/html": [
              "\n",
              "  <div id=\"df-dbe8f71d-539c-4349-bb1b-d6e08c9a56a4\">\n",
              "    <div class=\"colab-df-container\">\n",
              "      <div>\n",
              "<style scoped>\n",
              "    .dataframe tbody tr th:only-of-type {\n",
              "        vertical-align: middle;\n",
              "    }\n",
              "\n",
              "    .dataframe tbody tr th {\n",
              "        vertical-align: top;\n",
              "    }\n",
              "\n",
              "    .dataframe thead th {\n",
              "        text-align: right;\n",
              "    }\n",
              "</style>\n",
              "<table border=\"1\" class=\"dataframe\">\n",
              "  <thead>\n",
              "    <tr style=\"text-align: right;\">\n",
              "      <th></th>\n",
              "      <th>id</th>\n",
              "      <th>name</th>\n",
              "      <th>asins</th>\n",
              "      <th>brand</th>\n",
              "      <th>categories</th>\n",
              "      <th>keys</th>\n",
              "      <th>manufacturer</th>\n",
              "      <th>reviews.date</th>\n",
              "      <th>reviews.dateAdded</th>\n",
              "      <th>reviews.dateSeen</th>\n",
              "      <th>...</th>\n",
              "      <th>reviews.doRecommend</th>\n",
              "      <th>reviews.id</th>\n",
              "      <th>reviews.numHelpful</th>\n",
              "      <th>reviews.rating</th>\n",
              "      <th>reviews.sourceURLs</th>\n",
              "      <th>reviews.text</th>\n",
              "      <th>reviews.title</th>\n",
              "      <th>reviews.userCity</th>\n",
              "      <th>reviews.userProvince</th>\n",
              "      <th>reviews.username</th>\n",
              "    </tr>\n",
              "  </thead>\n",
              "  <tbody>\n",
              "    <tr>\n",
              "      <th>0</th>\n",
              "      <td>AVqkIhwDv8e3D1O-lebb</td>\n",
              "      <td>All-New Fire HD 8 Tablet, 8 HD Display, Wi-Fi,...</td>\n",
              "      <td>B01AHB9CN2</td>\n",
              "      <td>Amazon</td>\n",
              "      <td>Electronics,iPad &amp; Tablets,All Tablets,Fire Ta...</td>\n",
              "      <td>841667104676,amazon/53004484,amazon/b01ahb9cn2...</td>\n",
              "      <td>Amazon</td>\n",
              "      <td>2017-01-13T00:00:00.000Z</td>\n",
              "      <td>2017-07-03T23:33:15Z</td>\n",
              "      <td>2017-06-07T09:04:00.000Z,2017-04-30T00:45:00.000Z</td>\n",
              "      <td>...</td>\n",
              "      <td>True</td>\n",
              "      <td>NaN</td>\n",
              "      <td>0.0</td>\n",
              "      <td>5.0</td>\n",
              "      <td>http://reviews.bestbuy.com/3545/5620406/review...</td>\n",
              "      <td>This product so far has not disappointed. My c...</td>\n",
              "      <td>Kindle</td>\n",
              "      <td>NaN</td>\n",
              "      <td>NaN</td>\n",
              "      <td>Adapter</td>\n",
              "    </tr>\n",
              "    <tr>\n",
              "      <th>1</th>\n",
              "      <td>AVqkIhwDv8e3D1O-lebb</td>\n",
              "      <td>All-New Fire HD 8 Tablet, 8 HD Display, Wi-Fi,...</td>\n",
              "      <td>B01AHB9CN2</td>\n",
              "      <td>Amazon</td>\n",
              "      <td>Electronics,iPad &amp; Tablets,All Tablets,Fire Ta...</td>\n",
              "      <td>841667104676,amazon/53004484,amazon/b01ahb9cn2...</td>\n",
              "      <td>Amazon</td>\n",
              "      <td>2017-01-13T00:00:00.000Z</td>\n",
              "      <td>2017-07-03T23:33:15Z</td>\n",
              "      <td>2017-06-07T09:04:00.000Z,2017-04-30T00:45:00.000Z</td>\n",
              "      <td>...</td>\n",
              "      <td>True</td>\n",
              "      <td>NaN</td>\n",
              "      <td>0.0</td>\n",
              "      <td>5.0</td>\n",
              "      <td>http://reviews.bestbuy.com/3545/5620406/review...</td>\n",
              "      <td>great for beginner or experienced person. Boug...</td>\n",
              "      <td>very fast</td>\n",
              "      <td>NaN</td>\n",
              "      <td>NaN</td>\n",
              "      <td>truman</td>\n",
              "    </tr>\n",
              "    <tr>\n",
              "      <th>2</th>\n",
              "      <td>AVqkIhwDv8e3D1O-lebb</td>\n",
              "      <td>All-New Fire HD 8 Tablet, 8 HD Display, Wi-Fi,...</td>\n",
              "      <td>B01AHB9CN2</td>\n",
              "      <td>Amazon</td>\n",
              "      <td>Electronics,iPad &amp; Tablets,All Tablets,Fire Ta...</td>\n",
              "      <td>841667104676,amazon/53004484,amazon/b01ahb9cn2...</td>\n",
              "      <td>Amazon</td>\n",
              "      <td>2017-01-13T00:00:00.000Z</td>\n",
              "      <td>2017-07-03T23:33:15Z</td>\n",
              "      <td>2017-06-07T09:04:00.000Z,2017-04-30T00:45:00.000Z</td>\n",
              "      <td>...</td>\n",
              "      <td>True</td>\n",
              "      <td>NaN</td>\n",
              "      <td>0.0</td>\n",
              "      <td>5.0</td>\n",
              "      <td>http://reviews.bestbuy.com/3545/5620406/review...</td>\n",
              "      <td>Inexpensive tablet for him to use and learn on...</td>\n",
              "      <td>Beginner tablet for our 9 year old son.</td>\n",
              "      <td>NaN</td>\n",
              "      <td>NaN</td>\n",
              "      <td>DaveZ</td>\n",
              "    </tr>\n",
              "    <tr>\n",
              "      <th>3</th>\n",
              "      <td>AVqkIhwDv8e3D1O-lebb</td>\n",
              "      <td>All-New Fire HD 8 Tablet, 8 HD Display, Wi-Fi,...</td>\n",
              "      <td>B01AHB9CN2</td>\n",
              "      <td>Amazon</td>\n",
              "      <td>Electronics,iPad &amp; Tablets,All Tablets,Fire Ta...</td>\n",
              "      <td>841667104676,amazon/53004484,amazon/b01ahb9cn2...</td>\n",
              "      <td>Amazon</td>\n",
              "      <td>2017-01-13T00:00:00.000Z</td>\n",
              "      <td>2017-07-03T23:33:15Z</td>\n",
              "      <td>2017-06-07T09:04:00.000Z,2017-04-30T00:45:00.000Z</td>\n",
              "      <td>...</td>\n",
              "      <td>True</td>\n",
              "      <td>NaN</td>\n",
              "      <td>0.0</td>\n",
              "      <td>4.0</td>\n",
              "      <td>http://reviews.bestbuy.com/3545/5620406/review...</td>\n",
              "      <td>I've had my Fire HD 8 two weeks now and I love...</td>\n",
              "      <td>Good!!!</td>\n",
              "      <td>NaN</td>\n",
              "      <td>NaN</td>\n",
              "      <td>Shacks</td>\n",
              "    </tr>\n",
              "    <tr>\n",
              "      <th>4</th>\n",
              "      <td>AVqkIhwDv8e3D1O-lebb</td>\n",
              "      <td>All-New Fire HD 8 Tablet, 8 HD Display, Wi-Fi,...</td>\n",
              "      <td>B01AHB9CN2</td>\n",
              "      <td>Amazon</td>\n",
              "      <td>Electronics,iPad &amp; Tablets,All Tablets,Fire Ta...</td>\n",
              "      <td>841667104676,amazon/53004484,amazon/b01ahb9cn2...</td>\n",
              "      <td>Amazon</td>\n",
              "      <td>2017-01-12T00:00:00.000Z</td>\n",
              "      <td>2017-07-03T23:33:15Z</td>\n",
              "      <td>2017-06-07T09:04:00.000Z,2017-04-30T00:45:00.000Z</td>\n",
              "      <td>...</td>\n",
              "      <td>True</td>\n",
              "      <td>NaN</td>\n",
              "      <td>0.0</td>\n",
              "      <td>5.0</td>\n",
              "      <td>http://reviews.bestbuy.com/3545/5620406/review...</td>\n",
              "      <td>I bought this for my grand daughter when she c...</td>\n",
              "      <td>Fantastic Tablet for kids</td>\n",
              "      <td>NaN</td>\n",
              "      <td>NaN</td>\n",
              "      <td>explore42</td>\n",
              "    </tr>\n",
              "  </tbody>\n",
              "</table>\n",
              "<p>5 rows × 21 columns</p>\n",
              "</div>\n",
              "      <button class=\"colab-df-convert\" onclick=\"convertToInteractive('df-dbe8f71d-539c-4349-bb1b-d6e08c9a56a4')\"\n",
              "              title=\"Convert this dataframe to an interactive table.\"\n",
              "              style=\"display:none;\">\n",
              "        \n",
              "  <svg xmlns=\"http://www.w3.org/2000/svg\" height=\"24px\"viewBox=\"0 0 24 24\"\n",
              "       width=\"24px\">\n",
              "    <path d=\"M0 0h24v24H0V0z\" fill=\"none\"/>\n",
              "    <path d=\"M18.56 5.44l.94 2.06.94-2.06 2.06-.94-2.06-.94-.94-2.06-.94 2.06-2.06.94zm-11 1L8.5 8.5l.94-2.06 2.06-.94-2.06-.94L8.5 2.5l-.94 2.06-2.06.94zm10 10l.94 2.06.94-2.06 2.06-.94-2.06-.94-.94-2.06-.94 2.06-2.06.94z\"/><path d=\"M17.41 7.96l-1.37-1.37c-.4-.4-.92-.59-1.43-.59-.52 0-1.04.2-1.43.59L10.3 9.45l-7.72 7.72c-.78.78-.78 2.05 0 2.83L4 21.41c.39.39.9.59 1.41.59.51 0 1.02-.2 1.41-.59l7.78-7.78 2.81-2.81c.8-.78.8-2.07 0-2.86zM5.41 20L4 18.59l7.72-7.72 1.47 1.35L5.41 20z\"/>\n",
              "  </svg>\n",
              "      </button>\n",
              "      \n",
              "  <style>\n",
              "    .colab-df-container {\n",
              "      display:flex;\n",
              "      flex-wrap:wrap;\n",
              "      gap: 12px;\n",
              "    }\n",
              "\n",
              "    .colab-df-convert {\n",
              "      background-color: #E8F0FE;\n",
              "      border: none;\n",
              "      border-radius: 50%;\n",
              "      cursor: pointer;\n",
              "      display: none;\n",
              "      fill: #1967D2;\n",
              "      height: 32px;\n",
              "      padding: 0 0 0 0;\n",
              "      width: 32px;\n",
              "    }\n",
              "\n",
              "    .colab-df-convert:hover {\n",
              "      background-color: #E2EBFA;\n",
              "      box-shadow: 0px 1px 2px rgba(60, 64, 67, 0.3), 0px 1px 3px 1px rgba(60, 64, 67, 0.15);\n",
              "      fill: #174EA6;\n",
              "    }\n",
              "\n",
              "    [theme=dark] .colab-df-convert {\n",
              "      background-color: #3B4455;\n",
              "      fill: #D2E3FC;\n",
              "    }\n",
              "\n",
              "    [theme=dark] .colab-df-convert:hover {\n",
              "      background-color: #434B5C;\n",
              "      box-shadow: 0px 1px 3px 1px rgba(0, 0, 0, 0.15);\n",
              "      filter: drop-shadow(0px 1px 2px rgba(0, 0, 0, 0.3));\n",
              "      fill: #FFFFFF;\n",
              "    }\n",
              "  </style>\n",
              "\n",
              "      <script>\n",
              "        const buttonEl =\n",
              "          document.querySelector('#df-dbe8f71d-539c-4349-bb1b-d6e08c9a56a4 button.colab-df-convert');\n",
              "        buttonEl.style.display =\n",
              "          google.colab.kernel.accessAllowed ? 'block' : 'none';\n",
              "\n",
              "        async function convertToInteractive(key) {\n",
              "          const element = document.querySelector('#df-dbe8f71d-539c-4349-bb1b-d6e08c9a56a4');\n",
              "          const dataTable =\n",
              "            await google.colab.kernel.invokeFunction('convertToInteractive',\n",
              "                                                     [key], {});\n",
              "          if (!dataTable) return;\n",
              "\n",
              "          const docLinkHtml = 'Like what you see? Visit the ' +\n",
              "            '<a target=\"_blank\" href=https://colab.research.google.com/notebooks/data_table.ipynb>data table notebook</a>'\n",
              "            + ' to learn more about interactive tables.';\n",
              "          element.innerHTML = '';\n",
              "          dataTable['output_type'] = 'display_data';\n",
              "          await google.colab.output.renderOutput(dataTable, element);\n",
              "          const docLink = document.createElement('div');\n",
              "          docLink.innerHTML = docLinkHtml;\n",
              "          element.appendChild(docLink);\n",
              "        }\n",
              "      </script>\n",
              "    </div>\n",
              "  </div>\n",
              "  "
            ]
          },
          "metadata": {},
          "execution_count": 4
        }
      ]
    },
    {
      "cell_type": "code",
      "source": [
        "## Slice out the Data\n",
        "data = data[['reviews.text','reviews.rating']]"
      ],
      "metadata": {
        "id": "NkKqQMGQq6v-"
      },
      "execution_count": null,
      "outputs": []
    },
    {
      "cell_type": "code",
      "source": [
        "data.head()"
      ],
      "metadata": {
        "colab": {
          "base_uri": "https://localhost:8080/",
          "height": 201
        },
        "id": "I2NNY-sgridM",
        "outputId": "edf4e348-f6df-4d3c-d871-5fa6190e4719"
      },
      "execution_count": null,
      "outputs": [
        {
          "output_type": "execute_result",
          "data": {
            "text/plain": [
              "                                        reviews.text  reviews.rating\n",
              "0  This product so far has not disappointed. My c...             5.0\n",
              "1  great for beginner or experienced person. Boug...             5.0\n",
              "2  Inexpensive tablet for him to use and learn on...             5.0\n",
              "3  I've had my Fire HD 8 two weeks now and I love...             4.0\n",
              "4  I bought this for my grand daughter when she c...             5.0"
            ],
            "text/html": [
              "\n",
              "  <div id=\"df-5509335d-464c-4aa8-99ad-ffc3f0b0618d\">\n",
              "    <div class=\"colab-df-container\">\n",
              "      <div>\n",
              "<style scoped>\n",
              "    .dataframe tbody tr th:only-of-type {\n",
              "        vertical-align: middle;\n",
              "    }\n",
              "\n",
              "    .dataframe tbody tr th {\n",
              "        vertical-align: top;\n",
              "    }\n",
              "\n",
              "    .dataframe thead th {\n",
              "        text-align: right;\n",
              "    }\n",
              "</style>\n",
              "<table border=\"1\" class=\"dataframe\">\n",
              "  <thead>\n",
              "    <tr style=\"text-align: right;\">\n",
              "      <th></th>\n",
              "      <th>reviews.text</th>\n",
              "      <th>reviews.rating</th>\n",
              "    </tr>\n",
              "  </thead>\n",
              "  <tbody>\n",
              "    <tr>\n",
              "      <th>0</th>\n",
              "      <td>This product so far has not disappointed. My c...</td>\n",
              "      <td>5.0</td>\n",
              "    </tr>\n",
              "    <tr>\n",
              "      <th>1</th>\n",
              "      <td>great for beginner or experienced person. Boug...</td>\n",
              "      <td>5.0</td>\n",
              "    </tr>\n",
              "    <tr>\n",
              "      <th>2</th>\n",
              "      <td>Inexpensive tablet for him to use and learn on...</td>\n",
              "      <td>5.0</td>\n",
              "    </tr>\n",
              "    <tr>\n",
              "      <th>3</th>\n",
              "      <td>I've had my Fire HD 8 two weeks now and I love...</td>\n",
              "      <td>4.0</td>\n",
              "    </tr>\n",
              "    <tr>\n",
              "      <th>4</th>\n",
              "      <td>I bought this for my grand daughter when she c...</td>\n",
              "      <td>5.0</td>\n",
              "    </tr>\n",
              "  </tbody>\n",
              "</table>\n",
              "</div>\n",
              "      <button class=\"colab-df-convert\" onclick=\"convertToInteractive('df-5509335d-464c-4aa8-99ad-ffc3f0b0618d')\"\n",
              "              title=\"Convert this dataframe to an interactive table.\"\n",
              "              style=\"display:none;\">\n",
              "        \n",
              "  <svg xmlns=\"http://www.w3.org/2000/svg\" height=\"24px\"viewBox=\"0 0 24 24\"\n",
              "       width=\"24px\">\n",
              "    <path d=\"M0 0h24v24H0V0z\" fill=\"none\"/>\n",
              "    <path d=\"M18.56 5.44l.94 2.06.94-2.06 2.06-.94-2.06-.94-.94-2.06-.94 2.06-2.06.94zm-11 1L8.5 8.5l.94-2.06 2.06-.94-2.06-.94L8.5 2.5l-.94 2.06-2.06.94zm10 10l.94 2.06.94-2.06 2.06-.94-2.06-.94-.94-2.06-.94 2.06-2.06.94z\"/><path d=\"M17.41 7.96l-1.37-1.37c-.4-.4-.92-.59-1.43-.59-.52 0-1.04.2-1.43.59L10.3 9.45l-7.72 7.72c-.78.78-.78 2.05 0 2.83L4 21.41c.39.39.9.59 1.41.59.51 0 1.02-.2 1.41-.59l7.78-7.78 2.81-2.81c.8-.78.8-2.07 0-2.86zM5.41 20L4 18.59l7.72-7.72 1.47 1.35L5.41 20z\"/>\n",
              "  </svg>\n",
              "      </button>\n",
              "      \n",
              "  <style>\n",
              "    .colab-df-container {\n",
              "      display:flex;\n",
              "      flex-wrap:wrap;\n",
              "      gap: 12px;\n",
              "    }\n",
              "\n",
              "    .colab-df-convert {\n",
              "      background-color: #E8F0FE;\n",
              "      border: none;\n",
              "      border-radius: 50%;\n",
              "      cursor: pointer;\n",
              "      display: none;\n",
              "      fill: #1967D2;\n",
              "      height: 32px;\n",
              "      padding: 0 0 0 0;\n",
              "      width: 32px;\n",
              "    }\n",
              "\n",
              "    .colab-df-convert:hover {\n",
              "      background-color: #E2EBFA;\n",
              "      box-shadow: 0px 1px 2px rgba(60, 64, 67, 0.3), 0px 1px 3px 1px rgba(60, 64, 67, 0.15);\n",
              "      fill: #174EA6;\n",
              "    }\n",
              "\n",
              "    [theme=dark] .colab-df-convert {\n",
              "      background-color: #3B4455;\n",
              "      fill: #D2E3FC;\n",
              "    }\n",
              "\n",
              "    [theme=dark] .colab-df-convert:hover {\n",
              "      background-color: #434B5C;\n",
              "      box-shadow: 0px 1px 3px 1px rgba(0, 0, 0, 0.15);\n",
              "      filter: drop-shadow(0px 1px 2px rgba(0, 0, 0, 0.3));\n",
              "      fill: #FFFFFF;\n",
              "    }\n",
              "  </style>\n",
              "\n",
              "      <script>\n",
              "        const buttonEl =\n",
              "          document.querySelector('#df-5509335d-464c-4aa8-99ad-ffc3f0b0618d button.colab-df-convert');\n",
              "        buttonEl.style.display =\n",
              "          google.colab.kernel.accessAllowed ? 'block' : 'none';\n",
              "\n",
              "        async function convertToInteractive(key) {\n",
              "          const element = document.querySelector('#df-5509335d-464c-4aa8-99ad-ffc3f0b0618d');\n",
              "          const dataTable =\n",
              "            await google.colab.kernel.invokeFunction('convertToInteractive',\n",
              "                                                     [key], {});\n",
              "          if (!dataTable) return;\n",
              "\n",
              "          const docLinkHtml = 'Like what you see? Visit the ' +\n",
              "            '<a target=\"_blank\" href=https://colab.research.google.com/notebooks/data_table.ipynb>data table notebook</a>'\n",
              "            + ' to learn more about interactive tables.';\n",
              "          element.innerHTML = '';\n",
              "          dataTable['output_type'] = 'display_data';\n",
              "          await google.colab.output.renderOutput(dataTable, element);\n",
              "          const docLink = document.createElement('div');\n",
              "          docLink.innerHTML = docLinkHtml;\n",
              "          element.appendChild(docLink);\n",
              "        }\n",
              "      </script>\n",
              "    </div>\n",
              "  </div>\n",
              "  "
            ]
          },
          "metadata": {},
          "execution_count": 6
        }
      ]
    },
    {
      "cell_type": "code",
      "source": [
        "data.rename(columns = {'reviews.text':'review','reviews.rating':'rating'},inplace = True)"
      ],
      "metadata": {
        "id": "9EK9iJOdrjG-"
      },
      "execution_count": null,
      "outputs": []
    },
    {
      "cell_type": "code",
      "source": [
        "data.rating.value_counts()"
      ],
      "metadata": {
        "colab": {
          "base_uri": "https://localhost:8080/"
        },
        "id": "cS0AHLT6r5wy",
        "outputId": "181cc4bd-52f5-4c82-aa2c-da7dd11653ea"
      },
      "execution_count": null,
      "outputs": [
        {
          "output_type": "execute_result",
          "data": {
            "text/plain": [
              "5.0    23775\n",
              "4.0     8541\n",
              "3.0     1499\n",
              "1.0      410\n",
              "2.0      402\n",
              "Name: rating, dtype: int64"
            ]
          },
          "metadata": {},
          "execution_count": 8
        }
      ]
    },
    {
      "cell_type": "code",
      "source": [
        "#Label all the review above 3 as 1 and others as 0\n",
        "def convert_rating_to_labels(x):\n",
        "    if x >= 4.0 and x <= 5.0:\n",
        "        return 1\n",
        "    if x<4.0:\n",
        "        return 0"
      ],
      "metadata": {
        "id": "2HFq0ICRsEEx"
      },
      "execution_count": null,
      "outputs": []
    },
    {
      "cell_type": "code",
      "source": [
        "data['Label'] = data[\"rating\"].apply(convert_rating_to_labels)"
      ],
      "metadata": {
        "id": "Cm3WGN2g4KOB"
      },
      "execution_count": null,
      "outputs": []
    },
    {
      "cell_type": "code",
      "source": [
        "data.Label.value_counts()"
      ],
      "metadata": {
        "colab": {
          "base_uri": "https://localhost:8080/"
        },
        "id": "2dfgKc0U4RFs",
        "outputId": "23ed7f98-7535-4fbd-c9e1-b5aef8765558"
      },
      "execution_count": null,
      "outputs": [
        {
          "output_type": "execute_result",
          "data": {
            "text/plain": [
              "1.0    32316\n",
              "0.0     2311\n",
              "Name: Label, dtype: int64"
            ]
          },
          "metadata": {},
          "execution_count": 11
        }
      ]
    },
    {
      "cell_type": "markdown",
      "source": [
        "## Pre-process Reviews"
      ],
      "metadata": {
        "id": "ENwCo8Id4cUv"
      }
    },
    {
      "cell_type": "code",
      "source": [
        "import nltk\n",
        "import re\n",
        "import string\n",
        "nltk.download(\"stopwords\")"
      ],
      "metadata": {
        "colab": {
          "base_uri": "https://localhost:8080/"
        },
        "id": "XfxprDJ85KxF",
        "outputId": "d48efd1c-4834-43e2-f9e0-d3987be682d9"
      },
      "execution_count": null,
      "outputs": [
        {
          "output_type": "stream",
          "name": "stderr",
          "text": [
            "[nltk_data] Downloading package stopwords to /root/nltk_data...\n",
            "[nltk_data]   Unzipping corpora/stopwords.zip.\n"
          ]
        },
        {
          "output_type": "execute_result",
          "data": {
            "text/plain": [
              "True"
            ]
          },
          "metadata": {},
          "execution_count": 12
        }
      ]
    },
    {
      "cell_type": "code",
      "source": [
        "def remove_punctuation(text):\n",
        "    no_punct=[words for words in text if words not in string.punctuation]\n",
        "    final_text=''.join(no_punct)\n",
        "    return final_text\n",
        "\n",
        "def text_process(df):\n",
        "  # Removing all the punctuations from the words, and changing the words to lower case to maintain uniformity\n",
        "  df['review'] = df['review'].apply(str)\n",
        "  df['review']=df['review'].apply(lambda x: remove_punctuation(x.lower()))\n",
        "  stemmer = PorterStemmer()\n",
        "  words = stopwords.words(\"english\") \n",
        "  df['processed_reviews'] = df['review'].apply(lambda x: \" \".join([stemmer.stem(i) for i in re.sub(\"[^a-zA-Z]\", \" \", x).split() if i not in words]).lower())\n",
        "  return df"
      ],
      "metadata": {
        "id": "7n712e-34R5N"
      },
      "execution_count": null,
      "outputs": []
    },
    {
      "cell_type": "code",
      "source": [
        "data = text_process(data)"
      ],
      "metadata": {
        "id": "3HZATAJm6twy"
      },
      "execution_count": null,
      "outputs": []
    },
    {
      "cell_type": "code",
      "source": [
        "data.head()"
      ],
      "metadata": {
        "colab": {
          "base_uri": "https://localhost:8080/",
          "height": 201
        },
        "id": "yNYGQ9iY7t0I",
        "outputId": "cde68904-620e-4f3b-e883-0e902d4298b6"
      },
      "execution_count": null,
      "outputs": [
        {
          "output_type": "execute_result",
          "data": {
            "text/plain": [
              "                                              review  rating  Label  \\\n",
              "0  this product so far has not disappointed my ch...     5.0    1.0   \n",
              "1  great for beginner or experienced person bough...     5.0    1.0   \n",
              "2  inexpensive tablet for him to use and learn on...     5.0    1.0   \n",
              "3  ive had my fire hd 8 two weeks now and i love ...     4.0    1.0   \n",
              "4  i bought this for my grand daughter when she c...     5.0    1.0   \n",
              "\n",
              "                                   processed_reviews  \n",
              "0  product far disappoint children love use like ...  \n",
              "1     great beginn experienc person bought gift love  \n",
              "2  inexpens tablet use learn step nabi thrill lea...  \n",
              "3  ive fire hd two week love tablet great valuew ...  \n",
              "4  bought grand daughter come visit set user ente...  "
            ],
            "text/html": [
              "\n",
              "  <div id=\"df-bc493fa3-4b78-4abd-9f96-892927c52542\">\n",
              "    <div class=\"colab-df-container\">\n",
              "      <div>\n",
              "<style scoped>\n",
              "    .dataframe tbody tr th:only-of-type {\n",
              "        vertical-align: middle;\n",
              "    }\n",
              "\n",
              "    .dataframe tbody tr th {\n",
              "        vertical-align: top;\n",
              "    }\n",
              "\n",
              "    .dataframe thead th {\n",
              "        text-align: right;\n",
              "    }\n",
              "</style>\n",
              "<table border=\"1\" class=\"dataframe\">\n",
              "  <thead>\n",
              "    <tr style=\"text-align: right;\">\n",
              "      <th></th>\n",
              "      <th>review</th>\n",
              "      <th>rating</th>\n",
              "      <th>Label</th>\n",
              "      <th>processed_reviews</th>\n",
              "    </tr>\n",
              "  </thead>\n",
              "  <tbody>\n",
              "    <tr>\n",
              "      <th>0</th>\n",
              "      <td>this product so far has not disappointed my ch...</td>\n",
              "      <td>5.0</td>\n",
              "      <td>1.0</td>\n",
              "      <td>product far disappoint children love use like ...</td>\n",
              "    </tr>\n",
              "    <tr>\n",
              "      <th>1</th>\n",
              "      <td>great for beginner or experienced person bough...</td>\n",
              "      <td>5.0</td>\n",
              "      <td>1.0</td>\n",
              "      <td>great beginn experienc person bought gift love</td>\n",
              "    </tr>\n",
              "    <tr>\n",
              "      <th>2</th>\n",
              "      <td>inexpensive tablet for him to use and learn on...</td>\n",
              "      <td>5.0</td>\n",
              "      <td>1.0</td>\n",
              "      <td>inexpens tablet use learn step nabi thrill lea...</td>\n",
              "    </tr>\n",
              "    <tr>\n",
              "      <th>3</th>\n",
              "      <td>ive had my fire hd 8 two weeks now and i love ...</td>\n",
              "      <td>4.0</td>\n",
              "      <td>1.0</td>\n",
              "      <td>ive fire hd two week love tablet great valuew ...</td>\n",
              "    </tr>\n",
              "    <tr>\n",
              "      <th>4</th>\n",
              "      <td>i bought this for my grand daughter when she c...</td>\n",
              "      <td>5.0</td>\n",
              "      <td>1.0</td>\n",
              "      <td>bought grand daughter come visit set user ente...</td>\n",
              "    </tr>\n",
              "  </tbody>\n",
              "</table>\n",
              "</div>\n",
              "      <button class=\"colab-df-convert\" onclick=\"convertToInteractive('df-bc493fa3-4b78-4abd-9f96-892927c52542')\"\n",
              "              title=\"Convert this dataframe to an interactive table.\"\n",
              "              style=\"display:none;\">\n",
              "        \n",
              "  <svg xmlns=\"http://www.w3.org/2000/svg\" height=\"24px\"viewBox=\"0 0 24 24\"\n",
              "       width=\"24px\">\n",
              "    <path d=\"M0 0h24v24H0V0z\" fill=\"none\"/>\n",
              "    <path d=\"M18.56 5.44l.94 2.06.94-2.06 2.06-.94-2.06-.94-.94-2.06-.94 2.06-2.06.94zm-11 1L8.5 8.5l.94-2.06 2.06-.94-2.06-.94L8.5 2.5l-.94 2.06-2.06.94zm10 10l.94 2.06.94-2.06 2.06-.94-2.06-.94-.94-2.06-.94 2.06-2.06.94z\"/><path d=\"M17.41 7.96l-1.37-1.37c-.4-.4-.92-.59-1.43-.59-.52 0-1.04.2-1.43.59L10.3 9.45l-7.72 7.72c-.78.78-.78 2.05 0 2.83L4 21.41c.39.39.9.59 1.41.59.51 0 1.02-.2 1.41-.59l7.78-7.78 2.81-2.81c.8-.78.8-2.07 0-2.86zM5.41 20L4 18.59l7.72-7.72 1.47 1.35L5.41 20z\"/>\n",
              "  </svg>\n",
              "      </button>\n",
              "      \n",
              "  <style>\n",
              "    .colab-df-container {\n",
              "      display:flex;\n",
              "      flex-wrap:wrap;\n",
              "      gap: 12px;\n",
              "    }\n",
              "\n",
              "    .colab-df-convert {\n",
              "      background-color: #E8F0FE;\n",
              "      border: none;\n",
              "      border-radius: 50%;\n",
              "      cursor: pointer;\n",
              "      display: none;\n",
              "      fill: #1967D2;\n",
              "      height: 32px;\n",
              "      padding: 0 0 0 0;\n",
              "      width: 32px;\n",
              "    }\n",
              "\n",
              "    .colab-df-convert:hover {\n",
              "      background-color: #E2EBFA;\n",
              "      box-shadow: 0px 1px 2px rgba(60, 64, 67, 0.3), 0px 1px 3px 1px rgba(60, 64, 67, 0.15);\n",
              "      fill: #174EA6;\n",
              "    }\n",
              "\n",
              "    [theme=dark] .colab-df-convert {\n",
              "      background-color: #3B4455;\n",
              "      fill: #D2E3FC;\n",
              "    }\n",
              "\n",
              "    [theme=dark] .colab-df-convert:hover {\n",
              "      background-color: #434B5C;\n",
              "      box-shadow: 0px 1px 3px 1px rgba(0, 0, 0, 0.15);\n",
              "      filter: drop-shadow(0px 1px 2px rgba(0, 0, 0, 0.3));\n",
              "      fill: #FFFFFF;\n",
              "    }\n",
              "  </style>\n",
              "\n",
              "      <script>\n",
              "        const buttonEl =\n",
              "          document.querySelector('#df-bc493fa3-4b78-4abd-9f96-892927c52542 button.colab-df-convert');\n",
              "        buttonEl.style.display =\n",
              "          google.colab.kernel.accessAllowed ? 'block' : 'none';\n",
              "\n",
              "        async function convertToInteractive(key) {\n",
              "          const element = document.querySelector('#df-bc493fa3-4b78-4abd-9f96-892927c52542');\n",
              "          const dataTable =\n",
              "            await google.colab.kernel.invokeFunction('convertToInteractive',\n",
              "                                                     [key], {});\n",
              "          if (!dataTable) return;\n",
              "\n",
              "          const docLinkHtml = 'Like what you see? Visit the ' +\n",
              "            '<a target=\"_blank\" href=https://colab.research.google.com/notebooks/data_table.ipynb>data table notebook</a>'\n",
              "            + ' to learn more about interactive tables.';\n",
              "          element.innerHTML = '';\n",
              "          dataTable['output_type'] = 'display_data';\n",
              "          await google.colab.output.renderOutput(dataTable, element);\n",
              "          const docLink = document.createElement('div');\n",
              "          docLink.innerHTML = docLinkHtml;\n",
              "          element.appendChild(docLink);\n",
              "        }\n",
              "      </script>\n",
              "    </div>\n",
              "  </div>\n",
              "  "
            ]
          },
          "metadata": {},
          "execution_count": 15
        }
      ]
    },
    {
      "cell_type": "code",
      "source": [
        "from wordcloud import STOPWORDS, WordCloud\n",
        "text = \" \".join(i for i in data.processed_reviews)\n",
        "stopwords = set(STOPWORDS)\n",
        "wordcloud = WordCloud(stopwords=stopwords, background_color=\"white\").generate(text)\n",
        "plt.figure( figsize=(15,10))\n",
        "plt.imshow(wordcloud, interpolation='bilinear')\n",
        "plt.axis(\"off\")\n",
        "plt.show()"
      ],
      "metadata": {
        "colab": {
          "base_uri": "https://localhost:8080/",
          "height": 448
        },
        "id": "Crdz1BjS8GEK",
        "outputId": "2f6c8d06-7bdb-4d16-b298-b978d825a260"
      },
      "execution_count": null,
      "outputs": [
        {
          "output_type": "display_data",
          "data": {
            "text/plain": [
              "<Figure size 1080x720 with 1 Axes>"
            ],
            "image/png": "[encoded data removed]"
          },
          "metadata": {
            "needs_background": "light"
          }
        }
      ]
    },
    {
      "cell_type": "markdown",
      "source": [
        "## Create Tf-Idf and Count Vectorizer"
      ],
      "metadata": {
        "id": "AJpXX8LR9agT"
      }
    },
    {
      "cell_type": "code",
      "source": [
        "from sklearn.feature_extraction.text import CountVectorizer \n",
        "from sklearn.feature_extraction.text import TfidfVectorizer\n",
        "from sklearn.preprocessing import normalize"
      ],
      "metadata": {
        "id": "qm2SdWZT8w0-"
      },
      "execution_count": null,
      "outputs": []
    },
    {
      "cell_type": "code",
      "source": [
        "review_data = data['processed_reviews']\n",
        "tfidf_vect = TfidfVectorizer(min_df= 3, sublinear_tf=True, norm='l2', ngram_range=(1,1))\n",
        "tfidf = tfidf_vect.fit_transform(review_data)\n",
        "\n",
        "vectorizer_counter = CountVectorizer(ngram_range=(1,1))"
      ],
      "metadata": {
        "id": "ew47hXFl9mS1"
      },
      "execution_count": null,
      "outputs": []
    },
    {
      "cell_type": "code",
      "source": [
        "tfidf_norm = normalize(tfidf)\n",
        "tfidf_array = tfidf_norm.toarray()"
      ],
      "metadata": {
        "id": "WG45fG139yb8"
      },
      "execution_count": null,
      "outputs": []
    },
    {
      "cell_type": "code",
      "source": [
        "pd.DataFrame(tfidf_array,columns = tfidf_vect.get_feature_names()).head()"
      ],
      "metadata": {
        "colab": {
          "base_uri": "https://localhost:8080/",
          "height": 282
        },
        "id": "YyUOKVVj-U-q",
        "outputId": "c8032a0e-0587-4344-d125-cee5b39d5ba4"
      },
      "execution_count": null,
      "outputs": [
        {
          "output_type": "stream",
          "name": "stderr",
          "text": [
            "/usr/local/lib/python3.7/dist-packages/sklearn/utils/deprecation.py:87: FutureWarning: Function get_feature_names is deprecated; get_feature_names is deprecated in 1.0 and will be removed in 1.2. Please use get_feature_names_out instead.\n",
            "  warnings.warn(msg, category=FutureWarning)\n"
          ]
        },
        {
          "output_type": "execute_result",
          "data": {
            "text/plain": [
              "   abandon  abc      abil       abl  abroad  absolut  absolutli  abund  abus  \\\n",
              "0      0.0  0.0  0.317442  0.000000     0.0      0.0        0.0    0.0   0.0   \n",
              "1      0.0  0.0  0.000000  0.000000     0.0      0.0        0.0    0.0   0.0   \n",
              "2      0.0  0.0  0.000000  0.000000     0.0      0.0        0.0    0.0   0.0   \n",
              "3      0.0  0.0  0.000000  0.106521     0.0      0.0        0.0    0.0   0.0   \n",
              "4      0.0  0.0  0.000000  0.000000     0.0      0.0        0.0    0.0   0.0   \n",
              "\n",
              "    ac  ...  youtub  youv   yr  yrold  zero  zip  zippi  zone  zoom  zwave  \n",
              "0  0.0  ...     0.0   0.0  0.0    0.0   0.0  0.0    0.0   0.0   0.0    0.0  \n",
              "1  0.0  ...     0.0   0.0  0.0    0.0   0.0  0.0    0.0   0.0   0.0    0.0  \n",
              "2  0.0  ...     0.0   0.0  0.0    0.0   0.0  0.0    0.0   0.0   0.0    0.0  \n",
              "3  0.0  ...     0.0   0.0  0.0    0.0   0.0  0.0    0.0   0.0   0.0    0.0  \n",
              "4  0.0  ...     0.0   0.0  0.0    0.0   0.0  0.0    0.0   0.0   0.0    0.0  \n",
              "\n",
              "[5 rows x 4078 columns]"
            ],
            "text/html": [
              "\n",
              "  <div id=\"df-1373004e-7748-4f7f-be34-7bdd76408c77\">\n",
              "    <div class=\"colab-df-container\">\n",
              "      <div>\n",
              "<style scoped>\n",
              "    .dataframe tbody tr th:only-of-type {\n",
              "        vertical-align: middle;\n",
              "    }\n",
              "\n",
              "    .dataframe tbody tr th {\n",
              "        vertical-align: top;\n",
              "    }\n",
              "\n",
              "    .dataframe thead th {\n",
              "        text-align: right;\n",
              "    }\n",
              "</style>\n",
              "<table border=\"1\" class=\"dataframe\">\n",
              "  <thead>\n",
              "    <tr style=\"text-align: right;\">\n",
              "      <th></th>\n",
              "      <th>abandon</th>\n",
              "      <th>abc</th>\n",
              "      <th>abil</th>\n",
              "      <th>abl</th>\n",
              "      <th>abroad</th>\n",
              "      <th>absolut</th>\n",
              "      <th>absolutli</th>\n",
              "      <th>abund</th>\n",
              "      <th>abus</th>\n",
              "      <th>ac</th>\n",
              "      <th>...</th>\n",
              "      <th>youtub</th>\n",
              "      <th>youv</th>\n",
              "      <th>yr</th>\n",
              "      <th>yrold</th>\n",
              "      <th>zero</th>\n",
              "      <th>zip</th>\n",
              "      <th>zippi</th>\n",
              "      <th>zone</th>\n",
              "      <th>zoom</th>\n",
              "      <th>zwave</th>\n",
              "    </tr>\n",
              "  </thead>\n",
              "  <tbody>\n",
              "    <tr>\n",
              "      <th>0</th>\n",
              "      <td>0.0</td>\n",
              "      <td>0.0</td>\n",
              "      <td>0.317442</td>\n",
              "      <td>0.000000</td>\n",
              "      <td>0.0</td>\n",
              "      <td>0.0</td>\n",
              "      <td>0.0</td>\n",
              "      <td>0.0</td>\n",
              "      <td>0.0</td>\n",
              "      <td>0.0</td>\n",
              "      <td>...</td>\n",
              "      <td>0.0</td>\n",
              "      <td>0.0</td>\n",
              "      <td>0.0</td>\n",
              "      <td>0.0</td>\n",
              "      <td>0.0</td>\n",
              "      <td>0.0</td>\n",
              "      <td>0.0</td>\n",
              "      <td>0.0</td>\n",
              "      <td>0.0</td>\n",
              "      <td>0.0</td>\n",
              "    </tr>\n",
              "    <tr>\n",
              "      <th>1</th>\n",
              "      <td>0.0</td>\n",
              "      <td>0.0</td>\n",
              "      <td>0.000000</td>\n",
              "      <td>0.000000</td>\n",
              "      <td>0.0</td>\n",
              "      <td>0.0</td>\n",
              "      <td>0.0</td>\n",
              "      <td>0.0</td>\n",
              "      <td>0.0</td>\n",
              "      <td>0.0</td>\n",
              "      <td>...</td>\n",
              "      <td>0.0</td>\n",
              "      <td>0.0</td>\n",
              "      <td>0.0</td>\n",
              "      <td>0.0</td>\n",
              "      <td>0.0</td>\n",
              "      <td>0.0</td>\n",
              "      <td>0.0</td>\n",
              "      <td>0.0</td>\n",
              "      <td>0.0</td>\n",
              "      <td>0.0</td>\n",
              "    </tr>\n",
              "    <tr>\n",
              "      <th>2</th>\n",
              "      <td>0.0</td>\n",
              "      <td>0.0</td>\n",
              "      <td>0.000000</td>\n",
              "      <td>0.000000</td>\n",
              "      <td>0.0</td>\n",
              "      <td>0.0</td>\n",
              "      <td>0.0</td>\n",
              "      <td>0.0</td>\n",
              "      <td>0.0</td>\n",
              "      <td>0.0</td>\n",
              "      <td>...</td>\n",
              "      <td>0.0</td>\n",
              "      <td>0.0</td>\n",
              "      <td>0.0</td>\n",
              "      <td>0.0</td>\n",
              "      <td>0.0</td>\n",
              "      <td>0.0</td>\n",
              "      <td>0.0</td>\n",
              "      <td>0.0</td>\n",
              "      <td>0.0</td>\n",
              "      <td>0.0</td>\n",
              "    </tr>\n",
              "    <tr>\n",
              "      <th>3</th>\n",
              "      <td>0.0</td>\n",
              "      <td>0.0</td>\n",
              "      <td>0.000000</td>\n",
              "      <td>0.106521</td>\n",
              "      <td>0.0</td>\n",
              "      <td>0.0</td>\n",
              "      <td>0.0</td>\n",
              "      <td>0.0</td>\n",
              "      <td>0.0</td>\n",
              "      <td>0.0</td>\n",
              "      <td>...</td>\n",
              "      <td>0.0</td>\n",
              "      <td>0.0</td>\n",
              "      <td>0.0</td>\n",
              "      <td>0.0</td>\n",
              "      <td>0.0</td>\n",
              "      <td>0.0</td>\n",
              "      <td>0.0</td>\n",
              "      <td>0.0</td>\n",
              "      <td>0.0</td>\n",
              "      <td>0.0</td>\n",
              "    </tr>\n",
              "    <tr>\n",
              "      <th>4</th>\n",
              "      <td>0.0</td>\n",
              "      <td>0.0</td>\n",
              "      <td>0.000000</td>\n",
              "      <td>0.000000</td>\n",
              "      <td>0.0</td>\n",
              "      <td>0.0</td>\n",
              "      <td>0.0</td>\n",
              "      <td>0.0</td>\n",
              "      <td>0.0</td>\n",
              "      <td>0.0</td>\n",
              "      <td>...</td>\n",
              "      <td>0.0</td>\n",
              "      <td>0.0</td>\n",
              "      <td>0.0</td>\n",
              "      <td>0.0</td>\n",
              "      <td>0.0</td>\n",
              "      <td>0.0</td>\n",
              "      <td>0.0</td>\n",
              "      <td>0.0</td>\n",
              "      <td>0.0</td>\n",
              "      <td>0.0</td>\n",
              "    </tr>\n",
              "  </tbody>\n",
              "</table>\n",
              "<p>5 rows × 4078 columns</p>\n",
              "</div>\n",
              "      <button class=\"colab-df-convert\" onclick=\"convertToInteractive('df-1373004e-7748-4f7f-be34-7bdd76408c77')\"\n",
              "              title=\"Convert this dataframe to an interactive table.\"\n",
              "              style=\"display:none;\">\n",
              "        \n",
              "  <svg xmlns=\"http://www.w3.org/2000/svg\" height=\"24px\"viewBox=\"0 0 24 24\"\n",
              "       width=\"24px\">\n",
              "    <path d=\"M0 0h24v24H0V0z\" fill=\"none\"/>\n",
              "    <path d=\"M18.56 5.44l.94 2.06.94-2.06 2.06-.94-2.06-.94-.94-2.06-.94 2.06-2.06.94zm-11 1L8.5 8.5l.94-2.06 2.06-.94-2.06-.94L8.5 2.5l-.94 2.06-2.06.94zm10 10l.94 2.06.94-2.06 2.06-.94-2.06-.94-.94-2.06-.94 2.06-2.06.94z\"/><path d=\"M17.41 7.96l-1.37-1.37c-.4-.4-.92-.59-1.43-.59-.52 0-1.04.2-1.43.59L10.3 9.45l-7.72 7.72c-.78.78-.78 2.05 0 2.83L4 21.41c.39.39.9.59 1.41.59.51 0 1.02-.2 1.41-.59l7.78-7.78 2.81-2.81c.8-.78.8-2.07 0-2.86zM5.41 20L4 18.59l7.72-7.72 1.47 1.35L5.41 20z\"/>\n",
              "  </svg>\n",
              "      </button>\n",
              "      \n",
              "  <style>\n",
              "    .colab-df-container {\n",
              "      display:flex;\n",
              "      flex-wrap:wrap;\n",
              "      gap: 12px;\n",
              "    }\n",
              "\n",
              "    .colab-df-convert {\n",
              "      background-color: #E8F0FE;\n",
              "      border: none;\n",
              "      border-radius: 50%;\n",
              "      cursor: pointer;\n",
              "      display: none;\n",
              "      fill: #1967D2;\n",
              "      height: 32px;\n",
              "      padding: 0 0 0 0;\n",
              "      width: 32px;\n",
              "    }\n",
              "\n",
              "    .colab-df-convert:hover {\n",
              "      background-color: #E2EBFA;\n",
              "      box-shadow: 0px 1px 2px rgba(60, 64, 67, 0.3), 0px 1px 3px 1px rgba(60, 64, 67, 0.15);\n",
              "      fill: #174EA6;\n",
              "    }\n",
              "\n",
              "    [theme=dark] .colab-df-convert {\n",
              "      background-color: #3B4455;\n",
              "      fill: #D2E3FC;\n",
              "    }\n",
              "\n",
              "    [theme=dark] .colab-df-convert:hover {\n",
              "      background-color: #434B5C;\n",
              "      box-shadow: 0px 1px 3px 1px rgba(0, 0, 0, 0.15);\n",
              "      filter: drop-shadow(0px 1px 2px rgba(0, 0, 0, 0.3));\n",
              "      fill: #FFFFFF;\n",
              "    }\n",
              "  </style>\n",
              "\n",
              "      <script>\n",
              "        const buttonEl =\n",
              "          document.querySelector('#df-1373004e-7748-4f7f-be34-7bdd76408c77 button.colab-df-convert');\n",
              "        buttonEl.style.display =\n",
              "          google.colab.kernel.accessAllowed ? 'block' : 'none';\n",
              "\n",
              "        async function convertToInteractive(key) {\n",
              "          const element = document.querySelector('#df-1373004e-7748-4f7f-be34-7bdd76408c77');\n",
              "          const dataTable =\n",
              "            await google.colab.kernel.invokeFunction('convertToInteractive',\n",
              "                                                     [key], {});\n",
              "          if (!dataTable) return;\n",
              "\n",
              "          const docLinkHtml = 'Like what you see? Visit the ' +\n",
              "            '<a target=\"_blank\" href=https://colab.research.google.com/notebooks/data_table.ipynb>data table notebook</a>'\n",
              "            + ' to learn more about interactive tables.';\n",
              "          element.innerHTML = '';\n",
              "          dataTable['output_type'] = 'display_data';\n",
              "          await google.colab.output.renderOutput(dataTable, element);\n",
              "          const docLink = document.createElement('div');\n",
              "          docLink.innerHTML = docLinkHtml;\n",
              "          element.appendChild(docLink);\n",
              "        }\n",
              "      </script>\n",
              "    </div>\n",
              "  </div>\n",
              "  "
            ]
          },
          "metadata": {},
          "execution_count": 196
        }
      ]
    },
    {
      "cell_type": "code",
      "source": [
        "# PCA Component\n",
        "from sklearn.decomposition import PCA\n",
        "import matplotlib.pyplot as plt\n",
        "sklearn_pca = PCA(n_components = 3)\n",
        "Y_sklearn = sklearn_pca.fit_transform(tfidf_array)"
      ],
      "metadata": {
        "id": "Hivs5YVL-iNS"
      },
      "execution_count": null,
      "outputs": []
    },
    {
      "cell_type": "code",
      "source": [
        "fig = plt.figure(figsize=(10,8))\n",
        "ax = fig.add_subplot(projection='3d')\n",
        "ax.scatter(Y_sklearn[:,1], Y_sklearn[:,0], Y_sklearn[:,2], c=data.Label,s=70, cmap='viridis')\n",
        "plt.show()\n"
      ],
      "metadata": {
        "colab": {
          "base_uri": "https://localhost:8080/",
          "height": 465
        },
        "id": "1HO-akAn_MFr",
        "outputId": "ebe02123-8cb7-424a-94b4-338b941bec88"
      },
      "execution_count": null,
      "outputs": [
        {
          "output_type": "display_data",
          "data": {
            "text/plain": [
              "<Figure size 720x576 with 1 Axes>"
            ],
            "image/png": "[encoded data removed]"
          },
          "metadata": {
            "needs_background": "light"
          }
        }
      ]
    },
    {
      "cell_type": "markdown",
      "source": [
        "## Splitting of Data"
      ],
      "metadata": {
        "id": "Fy0P_mO9AbsR"
      }
    },
    {
      "cell_type": "code",
      "source": [
        "data.dropna(inplace=True)"
      ],
      "metadata": {
        "id": "wJkbGdYyBNNx"
      },
      "execution_count": null,
      "outputs": []
    },
    {
      "cell_type": "code",
      "source": [
        "from sklearn.model_selection import train_test_split\n",
        "X_train, X_test, Y_train, Y_test = train_test_split(data['processed_reviews'].tolist(), data['Label'].tolist(), test_size=0.2, random_state=42)"
      ],
      "metadata": {
        "id": "2CFDrlyTAZnq"
      },
      "execution_count": null,
      "outputs": []
    },
    {
      "cell_type": "code",
      "source": [
        "#A common method To run and execute any classifier Model, input Classifier\n",
        "from sklearn import metrics\n",
        "def run_model_conf_matrix(classifier_clf):\n",
        "  classifier_model = classifier_clf.fit(X_train,Y_train)\n",
        "  predictions = classifier_model.predict(X_test)\n",
        "  print(np.mean(predictions== Y_test))\n",
        "  return metrics.confusion_matrix(Y_test,predictions)"
      ],
      "metadata": {
        "id": "6gbpc1mtAjv0"
      },
      "execution_count": null,
      "outputs": []
    },
    {
      "cell_type": "markdown",
      "source": [
        "## Applying ML Models\n",
        "#### 1. Random Forest\n",
        "#### 2. MultiNomial NB\n",
        "#### 3. Bernoulli NB\n",
        "#### 4. SVM"
      ],
      "metadata": {
        "id": "coJpc30nAutM"
      }
    },
    {
      "cell_type": "code",
      "source": [
        "from sklearn.pipeline import Pipeline\n",
        "from sklearn.feature_selection import SelectKBest, chi2\n",
        "#Naive Bayes \n",
        "from sklearn.naive_bayes import MultinomialNB\n",
        "from sklearn.naive_bayes import ComplementNB\n",
        "from sklearn.naive_bayes import BernoulliNB\n",
        "from sklearn.svm import SVC\n",
        "#Random Forest\n",
        "from sklearn.ensemble import RandomForestClassifier\n",
        "from sklearn.model_selection import GridSearchCV\n",
        "#LinearModel Pipeline Feature selection\n",
        "from sklearn.linear_model import SGDClassifier"
      ],
      "metadata": {
        "id": "WSXVQtljA1_F"
      },
      "execution_count": null,
      "outputs": []
    },
    {
      "cell_type": "code",
      "source": [
        "#Creating Model Pipelines for various models with the pattern [Tokenizer Method][SelectKBest features][Model+Paramaters]\n",
        "random_classifier = Pipeline([('vect', vectorizer_counter),('chi',  SelectKBest(chi2, k=1200)),('clf', RandomForestClassifier()),])\n",
        "print(\"Random Forest Classifier - Count Vectorizer:\")\n",
        "confusion_matrix = run_model_conf_matrix(random_classifier)\n",
        "print(confusion_matrix)"
      ],
      "metadata": {
        "colab": {
          "base_uri": "https://localhost:8080/"
        },
        "id": "bXuo6EKPAsiF",
        "outputId": "26cb4a6a-9407-4de5-ecd1-c7c8793c3809"
      },
      "execution_count": null,
      "outputs": [
        {
          "output_type": "stream",
          "name": "stdout",
          "text": [
            "Random Forest Classifier - Count Vectorizer:\n",
            "0.9318509962460294\n",
            "[[  40  432]\n",
            " [  40 6414]]\n"
          ]
        }
      ]
    },
    {
      "cell_type": "code",
      "source": [
        "# Randomforest classifier - Count vectorizer - with varying depth of trees\n",
        "# Need to test this again.\n",
        "depth = [1,10,50,100,150,200]\n",
        "y_accuracy=[]\n",
        "for x in depth:\n",
        "    clf = Pipeline([('vect', vectorizer_counter),('chi',  SelectKBest(chi2, k=1200)),('clf', RandomForestClassifier(max_depth=x)),])\n",
        "    classifier_model = clf.fit(X_train,Y_train)\n",
        "    y_accuracy.append(np.mean(classifier_model.predict(X_test)== Y_test))\n",
        "plt.plot(depth,y_accuracy,'-')\n",
        "plt.ylabel('Accuracies')\n",
        "plt.xlabel('Depth')\n",
        "plt.show()\n",
        "print(y_accuracy)"
      ],
      "metadata": {
        "colab": {
          "base_uri": "https://localhost:8080/",
          "height": 295
        },
        "id": "9AJjSnfsAwtR",
        "outputId": "724729cc-8dc4-4dcd-cfbc-c1bf39473fcd"
      },
      "execution_count": null,
      "outputs": [
        {
          "output_type": "display_data",
          "data": {
            "text/plain": [
              "<Figure size 432x288 with 1 Axes>"
            ],
            "image/png": "[encoded data removed]"
          },
          "metadata": {
            "needs_background": "light"
          }
        },
        {
          "output_type": "stream",
          "name": "stdout",
          "text": [
            "[0.9318509962460294, 0.9318509962460294, 0.9347386658966215, 0.9340167484839734, 0.9335835980363847, 0.9341611319665031]\n"
          ]
        }
      ]
    },
    {
      "cell_type": "code",
      "source": [
        "#Creating Model Pipelines for various models with the pattern [Tokenizer Method][SelectKBest features][Model+Paramaters]\n",
        "random_classifier = Pipeline([('vect', tfidf_vect),('chi',  SelectKBest(chi2, k=1200)),('clf', RandomForestClassifier()),])\n",
        "print(\"Random Forest Classifier - Count Vectorizer:\")\n",
        "confusion_matrix = run_model_conf_matrix(random_classifier)\n",
        "print(confusion_matrix)"
      ],
      "metadata": {
        "colab": {
          "base_uri": "https://localhost:8080/"
        },
        "id": "rm6a2q3oZEAQ",
        "outputId": "913d8f1e-9ed8-4311-e688-98372e25dfa3"
      },
      "execution_count": null,
      "outputs": [
        {
          "output_type": "stream",
          "name": "stdout",
          "text": [
            "Random Forest Classifier - Count Vectorizer:\n",
            "0.9345942824140918\n",
            "[[  39  433]\n",
            " [  20 6434]]\n"
          ]
        }
      ]
    },
    {
      "cell_type": "code",
      "source": [
        "# Randomforest classifier - TF-IDF - with varying depth of trees\n",
        "# Need to test this again.\n",
        "depth = [1,10,50,100,150,200]\n",
        "y_accuracy=[]\n",
        "for x in depth:\n",
        "    clf = Pipeline([('vect',  tfidf_vect),('chi',  SelectKBest(chi2, k=1200)),('clf', RandomForestClassifier(max_depth=x)),])\n",
        "    classifier_model = clf.fit(X_train,Y_train)\n",
        "    y_accuracy.append(np.mean(classifier_model.predict(X_test)== Y_test))\n",
        "plt.plot(depth,y_accuracy,'-')\n",
        "plt.ylabel('Accuracies')\n",
        "plt.xlabel('Depth')\n",
        "plt.show()\n",
        "print(y_accuracy)"
      ],
      "metadata": {
        "colab": {
          "base_uri": "https://localhost:8080/",
          "height": 295
        },
        "id": "vdKJ_BKsZG8O",
        "outputId": "1206168c-21da-49a2-ca1c-d8761e277e01"
      },
      "execution_count": null,
      "outputs": [
        {
          "output_type": "display_data",
          "data": {
            "text/plain": [
              "<Figure size 432x288 with 1 Axes>"
            ],
            "image/png": "[encoded data removed]"
          },
          "metadata": {
            "needs_background": "light"
          }
        },
        {
          "output_type": "stream",
          "name": "stdout",
          "text": [
            "[0.9318509962460294, 0.9318509962460294, 0.9350274328616807, 0.9347386658966215, 0.9337279815189142, 0.9341611319665031]\n"
          ]
        }
      ]
    },
    {
      "cell_type": "code",
      "source": [
        "#MultinomialNB - Count vectorizer\n",
        "multinomialNB_classifier = Pipeline([('vect', vectorizer_counter),('chi',  SelectKBest(chi2, k=2890)),('clf', MultinomialNB(alpha=1)),])\n",
        "print(\"multinomialNB_classifier - Count Vectorizer:\")\n",
        "confusion_matrix = run_model_conf_matrix(multinomialNB_classifier)\n",
        "print(confusion_matrix)"
      ],
      "metadata": {
        "colab": {
          "base_uri": "https://localhost:8080/"
        },
        "id": "VYyedkmlBcsf",
        "outputId": "11135887-ada5-40fa-b35f-ba158ea0ef8d"
      },
      "execution_count": null,
      "outputs": [
        {
          "output_type": "stream",
          "name": "stdout",
          "text": [
            "multinomialNB_classifier - Count Vectorizer:\n",
            "0.9343055154490326\n",
            "[[ 181  291]\n",
            " [ 164 6290]]\n"
          ]
        }
      ]
    },
    {
      "cell_type": "code",
      "source": [
        "# for varying alpha\n",
        "alpha = [0.001,0.01,0.05,0.1,0.5,1,3,5,8,10,15]\n",
        "y_accuracy=[]\n",
        "for x in alpha:\n",
        "    clf = Pipeline([('vect', vectorizer_counter),('chi',  SelectKBest(chi2, k=2890)),('clf', MultinomialNB(alpha=x)),])\n",
        "    classifier_model = clf.fit(X_train,Y_train)\n",
        "    y_accuracy.append(np.mean(classifier_model.predict(X_test)== Y_test))\n",
        "plt.plot(alpha,y_accuracy,'-')\n",
        "plt.ylabel('Accuracies')\n",
        "plt.xlabel('Learning Rate')\n",
        "plt.show()\n",
        "print(y_accuracy)"
      ],
      "metadata": {
        "colab": {
          "base_uri": "https://localhost:8080/",
          "height": 315
        },
        "id": "HI2IUDc6CPki",
        "outputId": "e6408620-fc19-40e6-81b3-184711df8dee"
      },
      "execution_count": null,
      "outputs": [
        {
          "output_type": "display_data",
          "data": {
            "text/plain": [
              "<Figure size 432x288 with 1 Axes>"
            ],
            "image/png": "[encoded data removed]"
          },
          "metadata": {
            "needs_background": "light"
          }
        },
        {
          "output_type": "stream",
          "name": "stdout",
          "text": [
            "[0.9273751082876119, 0.9276638752526711, 0.9292520935604967, 0.9302627779382039, 0.9321397632110886, 0.9343055154490326, 0.9369044181345654, 0.937048801617095, 0.935604966791799, 0.9347386658966215, 0.9338723650014439]\n"
          ]
        }
      ]
    },
    {
      "cell_type": "code",
      "source": [
        "#Multinomial - Tf idf\n",
        "multinomialNB_classifier2 = Pipeline([('vect', tfidf_vect),('chi',  SelectKBest(chi2, k=2890)),('clf', MultinomialNB(alpha=1)),])\n",
        "print(\"multinomialNB_classifier - Count Vectorizer:\")\n",
        "confusion_matrix = run_model_conf_matrix(multinomialNB_classifier2)\n",
        "print(confusion_matrix)"
      ],
      "metadata": {
        "colab": {
          "base_uri": "https://localhost:8080/"
        },
        "id": "jYndlnKVCe3o",
        "outputId": "1a3ca9a3-4b88-4350-dd13-ef416a4d890d"
      },
      "execution_count": null,
      "outputs": [
        {
          "output_type": "stream",
          "name": "stdout",
          "text": [
            "multinomialNB_classifier - Count Vectorizer:\n",
            "0.9328616806237366\n",
            "[[   9  463]\n",
            " [   2 6452]]\n"
          ]
        }
      ]
    },
    {
      "cell_type": "code",
      "source": [
        "alpha = [0.001,0.01,0.05,0.1,0.5,1,3,5,8,10,15]\n",
        "y_accuracy=[]\n",
        "for x in alpha:\n",
        "    clf = Pipeline([('vect', tfidf_vect),('chi',  SelectKBest(chi2, k=2890)),('clf', MultinomialNB(alpha=x)),])\n",
        "    classifier_model = clf.fit(X_train,Y_train)\n",
        "    y_accuracy.append(np.mean(classifier_model.predict(X_test)== Y_test))\n",
        "plt.plot(alpha,y_accuracy,'-')\n",
        "plt.ylabel('Accuracies')\n",
        "plt.xlabel('Learning Rate')\n",
        "plt.show()\n",
        "print(y_accuracy)"
      ],
      "metadata": {
        "colab": {
          "base_uri": "https://localhost:8080/",
          "height": 316
        },
        "id": "Xxe0c9cDCrtb",
        "outputId": "ee283c12-f5f1-4aee-d7c8-1436309ab944"
      },
      "execution_count": null,
      "outputs": [
        {
          "output_type": "display_data",
          "data": {
            "text/plain": [
              "<Figure size 432x288 with 1 Axes>"
            ],
            "image/png": "[encoded data removed]"
          },
          "metadata": {
            "needs_background": "light"
          }
        },
        {
          "output_type": "stream",
          "name": "stdout",
          "text": [
            "[0.9343055154490326, 0.9341611319665031, 0.9343055154490326, 0.934883049379151, 0.933439214553855, 0.9328616806237366, 0.9318509962460294, 0.9318509962460294, 0.9318509962460294, 0.9318509962460294, 0.9318509962460294]\n"
          ]
        }
      ]
    },
    {
      "cell_type": "code",
      "source": [
        "# BernoulliNB - Count vectorizer\n",
        "bernoulliNB_classifier = Pipeline([('vect', vectorizer_counter),('chi',  SelectKBest(chi2, k=2890)),('clf', BernoulliNB(alpha=1)),])\n",
        "print(\"bernoulliNB_classifier - Count Vectorizer:\")\n",
        "confusion_matrix = run_model_conf_matrix(bernoulliNB_classifier)\n",
        "print(confusion_matrix)"
      ],
      "metadata": {
        "colab": {
          "base_uri": "https://localhost:8080/"
        },
        "id": "kel3NJkvCxhw",
        "outputId": "4946d141-3374-4acc-dca2-d20b6759a57f"
      },
      "execution_count": null,
      "outputs": [
        {
          "output_type": "stream",
          "name": "stdout",
          "text": [
            "bernoulliNB_classifier - Count Vectorizer:\n",
            "0.9019636153624025\n",
            "[[ 175  297]\n",
            " [ 382 6072]]\n"
          ]
        }
      ]
    },
    {
      "cell_type": "code",
      "source": [
        "alpha = [0.001,0.01,0.05,0.1,0.5,1,3,5,8,10,15]\n",
        "y_accuracy=[]\n",
        "for x in alpha:\n",
        "    clf = Pipeline([('vect', vectorizer_counter),('chi',  SelectKBest(chi2, k=2890)),('clf', BernoulliNB(alpha=x)),])\n",
        "    classifier_model = clf.fit(X_train,Y_train)\n",
        "    y_accuracy.append(np.mean(classifier_model.predict(X_test)== Y_test))\n",
        "plt.plot(alpha,y_accuracy,'-')\n",
        "plt.ylabel('Accuracies')\n",
        "plt.xlabel('Learning Rate')\n",
        "plt.show()\n",
        "print(y_accuracy)"
      ],
      "metadata": {
        "colab": {
          "base_uri": "https://localhost:8080/",
          "height": 315
        },
        "id": "05K-cO6YDFJF",
        "outputId": "7ed06793-3f26-4b91-e96b-e967b64c0eb0"
      },
      "execution_count": null,
      "outputs": [
        {
          "output_type": "display_data",
          "data": {
            "text/plain": [
              "<Figure size 432x288 with 1 Axes>"
            ],
            "image/png": "[encoded data removed]"
          },
          "metadata": {
            "needs_background": "light"
          }
        },
        {
          "output_type": "stream",
          "name": "stdout",
          "text": [
            "[0.9044181345654058, 0.9039849841178169, 0.9042737510828761, 0.9028299162575801, 0.9008085475021658, 0.9019636153624025, 0.9075945711810569, 0.9119260756569448, 0.9182789488882472, 0.9207334680912503, 0.9226104533641352]\n"
          ]
        }
      ]
    },
    {
      "cell_type": "code",
      "source": [
        "# BernoulliNB - Tf_idf\n",
        "bernoulliNB_classifier2 = Pipeline([('vect', tfidf_vect),('chi',  SelectKBest(chi2, k=2890)),('clf', BernoulliNB(alpha=1)),])\n",
        "print(\"bernoulliNB_classifier2 - vectorizer_tfidf:\")\n",
        "confusion_matrix = run_model_conf_matrix(bernoulliNB_classifier2)\n",
        "print(confusion_matrix)\n"
      ],
      "metadata": {
        "colab": {
          "base_uri": "https://localhost:8080/"
        },
        "id": "PE3HhNuuDIxj",
        "outputId": "84c3de36-9e42-4a66-f68c-b221c192ef43"
      },
      "execution_count": null,
      "outputs": [
        {
          "output_type": "stream",
          "name": "stdout",
          "text": [
            "bernoulliNB_classifier2 - vectorizer_tfidf:\n",
            "0.8958995090961595\n",
            "[[ 190  282]\n",
            " [ 439 6015]]\n"
          ]
        }
      ]
    },
    {
      "cell_type": "code",
      "source": [
        "alpha = [0.001,0.01,0.05,0.1,0.5,1,3,5,8,10,15]\n",
        "y_accuracy=[]\n",
        "for x in alpha:\n",
        "    clf = Pipeline([('vect', tfidf_vect),('chi',  SelectKBest(chi2, k=2890)),('clf', BernoulliNB(alpha=x)),])\n",
        "    classifier_model = clf.fit(X_train,Y_train)\n",
        "    y_accuracy.append(np.mean(classifier_model.predict(X_test)== Y_test))\n",
        "plt.plot(alpha,y_accuracy,'-')\n",
        "plt.ylabel('Accuracies')\n",
        "plt.xlabel('Learning Rate')\n",
        "plt.show()\n",
        "print(y_accuracy)"
      ],
      "metadata": {
        "colab": {
          "base_uri": "https://localhost:8080/",
          "height": 315
        },
        "id": "cmbi6xRoDPz4",
        "outputId": "83f08eda-66e2-40ba-f902-75505302b521"
      },
      "execution_count": null,
      "outputs": [
        {
          "output_type": "display_data",
          "data": {
            "text/plain": [
              "<Figure size 432x288 with 1 Axes>"
            ],
            "image/png": "[encoded data removed]"
          },
          "metadata": {
            "needs_background": "light"
          }
        },
        {
          "output_type": "stream",
          "name": "stdout",
          "text": [
            "[0.9142362113774184, 0.9104822408316489, 0.9080277216286456, 0.9058619693907017, 0.8987871787467514, 0.8958995090961595, 0.9005197805371066, 0.904706901530465, 0.9101934738665897, 0.9140918278948889, 0.9184233323707768]\n"
          ]
        }
      ]
    },
    {
      "cell_type": "code",
      "source": [
        "# SVM -Count vectorizer\n",
        "svm_classifier = Pipeline([('vect', vectorizer_counter),('chi',  SelectKBest(chi2, k=2890)),('clf', SVC(kernel=\"linear\", class_weight=\"balanced\")),])\n",
        "print(\"svm_classifier - vectorizer_counter:\")\n",
        "confusion_matrix = run_model_conf_matrix(svm_classifier)\n",
        "print(confusion_matrix)"
      ],
      "metadata": {
        "colab": {
          "base_uri": "https://localhost:8080/"
        },
        "id": "Oep5WaoJDVRe",
        "outputId": "c5ccd311-cc7b-43b7-9cc6-4471448a2661"
      },
      "execution_count": null,
      "outputs": [
        {
          "output_type": "stream",
          "name": "stdout",
          "text": [
            "svm_classifier - vectorizer_counter:\n",
            "0.8687554143805949\n",
            "[[ 269  203]\n",
            " [ 706 5748]]\n"
          ]
        }
      ]
    },
    {
      "cell_type": "code",
      "source": [
        "C = [0.001,0.01,0.1,1,3]\n",
        "y_accuracy=[]\n",
        "for x in C:\n",
        "    clf = Pipeline([('vect', vectorizer_counter),('chi',  SelectKBest(chi2, k=2890)),('clf', SVC(C=x, kernel=\"linear\")),])\n",
        "    classifier_model = clf.fit(X_train,Y_train)\n",
        "    y_accuracy.append(np.mean(classifier_model.predict(X_test)== Y_test))\n",
        "plt.plot(C,y_accuracy,'-')\n",
        "plt.ylabel('Accuracies')\n",
        "plt.xlabel('Learning Rate')\n",
        "plt.show()\n",
        "print(y_accuracy)"
      ],
      "metadata": {
        "colab": {
          "base_uri": "https://localhost:8080/",
          "height": 295
        },
        "id": "tJ_EqFIUDcix",
        "outputId": "d06ccc74-0f39-48ae-f1e7-68785192b072"
      },
      "execution_count": null,
      "outputs": [
        {
          "output_type": "display_data",
          "data": {
            "text/plain": [
              "<Figure size 432x288 with 1 Axes>"
            ],
            "image/png": "[encoded data removed]"
          },
          "metadata": {
            "needs_background": "light"
          }
        },
        {
          "output_type": "stream",
          "name": "stdout",
          "text": [
            "[0.9318509962460294, 0.9324285301761478, 0.9382038694773318, 0.9361825007219174, 0.9325729136586774]\n"
          ]
        }
      ]
    },
    {
      "cell_type": "code",
      "source": [
        "# SVM -Count tfidf\n",
        "svm_classifier2 = Pipeline([('vect', tfidf_vect),('chi',  SelectKBest(chi2, k=2890)),('clf', SVC(kernel=\"linear\")),])\n",
        "print(\"svm_classifier2 - vectorizer_tfidf:\")\n",
        "confusion_matrix = run_model_conf_matrix(svm_classifier2)\n",
        "print(confusion_matrix)"
      ],
      "metadata": {
        "colab": {
          "base_uri": "https://localhost:8080/"
        },
        "id": "egZHQPIfDmm9",
        "outputId": "db4f3321-370b-40ee-f404-838e703ecbd8"
      },
      "execution_count": null,
      "outputs": [
        {
          "output_type": "stream",
          "name": "stdout",
          "text": [
            "svm_classifier2 - vectorizer_tfidf:\n",
            "0.9358937337568582\n",
            "[[  45  427]\n",
            " [  17 6437]]\n"
          ]
        }
      ]
    },
    {
      "cell_type": "code",
      "source": [
        "C = [0.001,0.01,0.1,1,3]\n",
        "y_accuracy=[]\n",
        "for x in C:\n",
        "    clf = Pipeline([('vect', tfidf_vect),('chi',  SelectKBest(chi2, k=2890)),('clf', SVC(C=x, kernel=\"linear\")),])\n",
        "    classifier_model = clf.fit(X_train,Y_train)\n",
        "    y_accuracy.append(np.mean(classifier_model.predict(X_test)== Y_test))\n",
        "plt.plot(C,y_accuracy,'-')\n",
        "plt.ylabel('Accuracies')\n",
        "plt.xlabel('Learning Rate')\n",
        "plt.show()\n",
        "print(y_accuracy)"
      ],
      "metadata": {
        "colab": {
          "base_uri": "https://localhost:8080/",
          "height": 295
        },
        "id": "0X8FlrCQDnVE",
        "outputId": "255c5423-35f1-4a9e-98e3-150b0214ffd4"
      },
      "execution_count": null,
      "outputs": [
        {
          "output_type": "display_data",
          "data": {
            "text/plain": [
              "<Figure size 432x288 with 1 Axes>"
            ],
            "image/png": "[encoded data removed]"
          },
          "metadata": {
            "needs_background": "light"
          }
        },
        {
          "output_type": "stream",
          "name": "stdout",
          "text": [
            "[0.9318509962460294, 0.9318509962460294, 0.9318509962460294, 0.9358937337568582, 0.9376263355472134]\n"
          ]
        }
      ]
    },
    {
      "cell_type": "markdown",
      "source": [
        "# Deep Learning Models\n",
        "#### 1. Neural Network\n",
        "#### 2. LSTM\n",
        "#### 3. BERT Model\n"
      ],
      "metadata": {
        "id": "hNeZBxSDQsjH"
      }
    },
    {
      "cell_type": "code",
      "source": [
        "# libraries\n",
        "\n",
        "import numpy as np # linear algebra\n",
        "import pandas as pd # data processing, CSV file I/O (e.g. pd.read_csv)\n",
        "import matplotlib.pyplot as plt\n",
        "np.random.seed(32)\n",
        "\n",
        "\n",
        "from sklearn.model_selection import train_test_split\n",
        "from sklearn.metrics import roc_auc_score\n",
        "from sklearn.metrics import accuracy_score\n",
        "from sklearn.manifold import TSNE\n",
        "\n",
        "from keras.preprocessing.text import Tokenizer\n",
        "from keras_preprocessing.sequence import pad_sequences\n",
        "from keras.layers import LSTM, Conv1D, MaxPooling1D, Dropout\n",
        "from keras.utils.np_utils import to_categorical\n",
        "\n",
        "from sklearn.preprocessing import LabelEncoder\n",
        "from keras.utils import np_utils\n",
        "import numpy as np\n",
        "\n",
        "# for modeling\n",
        "from keras.models import Sequential\n",
        "from keras.layers import Dense, Dropout\n",
        "from keras.callbacks import EarlyStopping\n",
        "\n",
        "\n",
        "%matplotlib inline"
      ],
      "metadata": {
        "id": "0pBIRi2tYlq5"
      },
      "execution_count": null,
      "outputs": []
    },
    {
      "cell_type": "code",
      "source": [
        "train_text, test_text, train_y, test_y = train_test_split(data['processed_reviews'],data['Label'],test_size = 0.2)"
      ],
      "metadata": {
        "id": "TcgtKchfZYaz"
      },
      "execution_count": null,
      "outputs": []
    },
    {
      "cell_type": "code",
      "source": [
        "MAX_NB_WORDS = 17000\n",
        "# 20000\n",
        "\n",
        "# get the raw text data\n",
        "texts_train = train_text.astype(str)\n",
        "texts_test = test_text.astype(str)\n",
        "\n",
        "# finally, vectorize the text samples into a 2D integer tensor\n",
        "tokenizer = Tokenizer(nb_words=MAX_NB_WORDS, char_level=False)\n",
        "tokenizer.fit_on_texts(texts_train)\n",
        "sequences = tokenizer.texts_to_sequences(texts_train)\n",
        "sequences_test = tokenizer.texts_to_sequences(texts_test)\n",
        "\n",
        "word_index = tokenizer.word_index\n",
        "print('Found %s unique tokens.' % len(word_index))"
      ],
      "metadata": {
        "colab": {
          "base_uri": "https://localhost:8080/"
        },
        "id": "RaJLz5QRZsRA",
        "outputId": "bbe91595-ca5a-49c8-e05e-b67137267a5d"
      },
      "execution_count": null,
      "outputs": [
        {
          "output_type": "stream",
          "name": "stderr",
          "text": [
            "/usr/local/lib/python3.8/dist-packages/keras/preprocessing/text.py:234: UserWarning: The `nb_words` argument in `Tokenizer` has been renamed `num_words`.\n",
            "  warnings.warn('The `nb_words` argument in `Tokenizer` '\n"
          ]
        },
        {
          "output_type": "stream",
          "name": "stdout",
          "text": [
            "Found 11516 unique tokens.\n"
          ]
        }
      ]
    },
    {
      "cell_type": "code",
      "source": [
        "seq_lens = [len(s) for s in sequences]\n",
        "print(\"average length: %0.1f\" % np.mean(seq_lens))\n",
        "print(\"max length: %d\" % max(seq_lens))"
      ],
      "metadata": {
        "colab": {
          "base_uri": "https://localhost:8080/"
        },
        "id": "wxg7FccSZu-P",
        "outputId": "d4b6b240-35ae-4318-f6db-4e06ecf9c330"
      },
      "execution_count": null,
      "outputs": [
        {
          "output_type": "stream",
          "name": "stdout",
          "text": [
            "average length: 15.1\n",
            "max length: 739\n"
          ]
        }
      ]
    },
    {
      "cell_type": "code",
      "source": [
        "plt.hist([l for l in seq_lens if l < 200], bins=50);"
      ],
      "metadata": {
        "colab": {
          "base_uri": "https://localhost:8080/",
          "height": 264
        },
        "id": "nqzXVW0cZxSR",
        "outputId": "e7f11f7a-a6fa-49bd-9a07-cd299c6c318a"
      },
      "execution_count": null,
      "outputs": [
        {
          "output_type": "display_data",
          "data": {
            "text/plain": [
              "<Figure size 432x288 with 1 Axes>"
            ],
            "image/png": "[encoded data removed]"
          },
          "metadata": {
            "needs_background": "light"
          }
        }
      ]
    },
    {
      "cell_type": "code",
      "source": [
        "MAX_SEQUENCE_LENGTH = 125\n",
        "# 250, 100, \n",
        "# 80, \n",
        "# 70, \n",
        "\n",
        "# pad sequences with 0s\n",
        "x_train = pad_sequences(sequences, maxlen=MAX_SEQUENCE_LENGTH)\n",
        "x_test = pad_sequences(sequences_test, maxlen=MAX_SEQUENCE_LENGTH)\n",
        "print('Shape of data tensor:', x_train.shape)\n",
        "print('Shape of data test tensor:', x_test.shape)"
      ],
      "metadata": {
        "colab": {
          "base_uri": "https://localhost:8080/"
        },
        "id": "ok67eadRZzgp",
        "outputId": "e9f5bb01-5fab-498c-cfb7-4f1a0c57ecbf"
      },
      "execution_count": null,
      "outputs": [
        {
          "output_type": "stream",
          "name": "stdout",
          "text": [
            "Shape of data tensor: (27701, 125)\n",
            "Shape of data test tensor: (6926, 125)\n"
          ]
        }
      ]
    },
    {
      "cell_type": "code",
      "source": [
        "y_train = train_y\n",
        "y_test = test_y\n",
        "\n",
        "y_train = to_categorical(np.asarray(y_train))\n",
        "print('Shape of label tensor:', y_train.shape)"
      ],
      "metadata": {
        "colab": {
          "base_uri": "https://localhost:8080/"
        },
        "id": "Dp_V8u5FZ1JE",
        "outputId": "3eec4b1c-316c-4d52-f4d6-3477a2923d1d"
      },
      "execution_count": null,
      "outputs": [
        {
          "output_type": "stream",
          "name": "stdout",
          "text": [
            "Shape of label tensor: (27701, 2)\n"
          ]
        }
      ]
    },
    {
      "cell_type": "code",
      "source": [
        "from keras.layers import Dense, Input, Flatten\n",
        "from keras.layers import GlobalAveragePooling1D, Embedding\n",
        "from keras.models import Model\n",
        "\n",
        "EMBEDDING_DIM = 50\n",
        "\n",
        "N_CLASSES = 2\n",
        "\n",
        "# input: a sequence of MAX_SEQUENCE_LENGTH integers\n",
        "sequence_input = Input(shape=(MAX_SEQUENCE_LENGTH,), dtype='int32')\n",
        "\n",
        "embedding_layer = Embedding(MAX_NB_WORDS, EMBEDDING_DIM,\n",
        "                            input_length=MAX_SEQUENCE_LENGTH,\n",
        "                            trainable=True)\n",
        "embedded_sequences = embedding_layer(sequence_input)\n",
        "\n",
        "average = GlobalAveragePooling1D()(embedded_sequences)\n",
        "predictions = Dense(N_CLASSES, activation='sigmoid')(average)\n",
        "\n",
        "model = Model(sequence_input, predictions)\n",
        "model.compile(loss='categorical_crossentropy',\n",
        "              optimizer='RMSprop', metrics=['acc'])\n",
        "\n",
        "model.fit(x_train, y_train, validation_split=0.1,\n",
        "          epochs=50, batch_size=120)\n",
        "#           epochs=20, batch_size=100)\n",
        "\n",
        "\n",
        "output_test = model.predict(x_test)\n",
        "print(\"test auc:\", roc_auc_score(y_test,output_test[:,1]))\n",
        "test_casses = np.argmax(output_test, axis=-1)\n",
        "print(\"test accuracy:\", np.mean(test_casses == y_test))"
      ],
      "metadata": {
        "colab": {
          "base_uri": "https://localhost:8080/"
        },
        "id": "NxLoPi3fZ3ch",
        "outputId": "206d88c1-1d9f-494f-84ac-80bbc2148100"
      },
      "execution_count": null,
      "outputs": [
        {
          "output_type": "stream",
          "name": "stdout",
          "text": [
            "Epoch 1/50\n",
            "208/208 [==============================] - 4s 5ms/step - loss: 0.3216 - acc: 0.9289 - val_loss: 0.2333 - val_acc: 0.9354\n",
            "Epoch 2/50\n",
            "208/208 [==============================] - 1s 4ms/step - loss: 0.2365 - acc: 0.9329 - val_loss: 0.2295 - val_acc: 0.9354\n",
            "Epoch 3/50\n",
            "208/208 [==============================] - 1s 4ms/step - loss: 0.2314 - acc: 0.9329 - val_loss: 0.2255 - val_acc: 0.9354\n",
            "Epoch 4/50\n",
            "208/208 [==============================] - 1s 6ms/step - loss: 0.2254 - acc: 0.9329 - val_loss: 0.2209 - val_acc: 0.9354\n",
            "Epoch 5/50\n",
            "208/208 [==============================] - 1s 6ms/step - loss: 0.2181 - acc: 0.9331 - val_loss: 0.2144 - val_acc: 0.9347\n",
            "Epoch 6/50\n",
            "208/208 [==============================] - 1s 6ms/step - loss: 0.2089 - acc: 0.9335 - val_loss: 0.2074 - val_acc: 0.9350\n",
            "Epoch 7/50\n",
            "208/208 [==============================] - 1s 6ms/step - loss: 0.1988 - acc: 0.9342 - val_loss: 0.2006 - val_acc: 0.9340\n",
            "Epoch 8/50\n",
            "208/208 [==============================] - 1s 5ms/step - loss: 0.1892 - acc: 0.9353 - val_loss: 0.1955 - val_acc: 0.9350\n",
            "Epoch 9/50\n",
            "208/208 [==============================] - 1s 4ms/step - loss: 0.1813 - acc: 0.9373 - val_loss: 0.1925 - val_acc: 0.9354\n",
            "Epoch 10/50\n",
            "208/208 [==============================] - 1s 4ms/step - loss: 0.1751 - acc: 0.9396 - val_loss: 0.1907 - val_acc: 0.9361\n",
            "Epoch 11/50\n",
            "208/208 [==============================] - 1s 4ms/step - loss: 0.1705 - acc: 0.9411 - val_loss: 0.1902 - val_acc: 0.9401\n",
            "Epoch 12/50\n",
            "208/208 [==============================] - 1s 4ms/step - loss: 0.1672 - acc: 0.9426 - val_loss: 0.1916 - val_acc: 0.9394\n",
            "Epoch 13/50\n",
            "208/208 [==============================] - 1s 4ms/step - loss: 0.1648 - acc: 0.9434 - val_loss: 0.1902 - val_acc: 0.9401\n",
            "Epoch 14/50\n",
            "208/208 [==============================] - 1s 4ms/step - loss: 0.1628 - acc: 0.9440 - val_loss: 0.1907 - val_acc: 0.9408\n",
            "Epoch 15/50\n",
            "208/208 [==============================] - 1s 4ms/step - loss: 0.1613 - acc: 0.9449 - val_loss: 0.1912 - val_acc: 0.9408\n",
            "Epoch 16/50\n",
            "208/208 [==============================] - 1s 4ms/step - loss: 0.1597 - acc: 0.9455 - val_loss: 0.1916 - val_acc: 0.9412\n",
            "Epoch 17/50\n",
            "208/208 [==============================] - 1s 4ms/step - loss: 0.1587 - acc: 0.9458 - val_loss: 0.1921 - val_acc: 0.9412\n",
            "Epoch 18/50\n",
            "208/208 [==============================] - 1s 4ms/step - loss: 0.1574 - acc: 0.9465 - val_loss: 0.1922 - val_acc: 0.9426\n",
            "Epoch 19/50\n",
            "208/208 [==============================] - 1s 4ms/step - loss: 0.1569 - acc: 0.9466 - val_loss: 0.1928 - val_acc: 0.9423\n",
            "Epoch 20/50\n",
            "208/208 [==============================] - 1s 4ms/step - loss: 0.1558 - acc: 0.9469 - val_loss: 0.1930 - val_acc: 0.9419\n",
            "Epoch 21/50\n",
            "208/208 [==============================] - 1s 4ms/step - loss: 0.1550 - acc: 0.9473 - val_loss: 0.1942 - val_acc: 0.9405\n",
            "Epoch 22/50\n",
            "208/208 [==============================] - 1s 4ms/step - loss: 0.1542 - acc: 0.9471 - val_loss: 0.1946 - val_acc: 0.9426\n",
            "Epoch 23/50\n",
            "208/208 [==============================] - 1s 4ms/step - loss: 0.1533 - acc: 0.9479 - val_loss: 0.1938 - val_acc: 0.9426\n",
            "Epoch 24/50\n",
            "208/208 [==============================] - 1s 4ms/step - loss: 0.1527 - acc: 0.9478 - val_loss: 0.1945 - val_acc: 0.9430\n",
            "Epoch 25/50\n",
            "208/208 [==============================] - 1s 4ms/step - loss: 0.1525 - acc: 0.9474 - val_loss: 0.1944 - val_acc: 0.9430\n",
            "Epoch 26/50\n",
            "208/208 [==============================] - 1s 4ms/step - loss: 0.1515 - acc: 0.9481 - val_loss: 0.1946 - val_acc: 0.9433\n",
            "Epoch 27/50\n",
            "208/208 [==============================] - 1s 4ms/step - loss: 0.1513 - acc: 0.9481 - val_loss: 0.1949 - val_acc: 0.9430\n",
            "Epoch 28/50\n",
            "208/208 [==============================] - 1s 4ms/step - loss: 0.1508 - acc: 0.9486 - val_loss: 0.1954 - val_acc: 0.9433\n",
            "Epoch 29/50\n",
            "208/208 [==============================] - 1s 4ms/step - loss: 0.1503 - acc: 0.9490 - val_loss: 0.1956 - val_acc: 0.9437\n",
            "Epoch 30/50\n",
            "208/208 [==============================] - 1s 4ms/step - loss: 0.1501 - acc: 0.9486 - val_loss: 0.1972 - val_acc: 0.9412\n",
            "Epoch 31/50\n",
            "208/208 [==============================] - 1s 4ms/step - loss: 0.1499 - acc: 0.9489 - val_loss: 0.1965 - val_acc: 0.9433\n",
            "Epoch 32/50\n",
            "208/208 [==============================] - 1s 4ms/step - loss: 0.1494 - acc: 0.9491 - val_loss: 0.1964 - val_acc: 0.9437\n",
            "Epoch 33/50\n",
            "208/208 [==============================] - 1s 4ms/step - loss: 0.1489 - acc: 0.9492 - val_loss: 0.1966 - val_acc: 0.9437\n",
            "Epoch 34/50\n",
            "208/208 [==============================] - 1s 5ms/step - loss: 0.1487 - acc: 0.9497 - val_loss: 0.1970 - val_acc: 0.9430\n",
            "Epoch 35/50\n",
            "208/208 [==============================] - 1s 6ms/step - loss: 0.1486 - acc: 0.9501 - val_loss: 0.1985 - val_acc: 0.9408\n",
            "Epoch 36/50\n",
            "208/208 [==============================] - 1s 6ms/step - loss: 0.1480 - acc: 0.9503 - val_loss: 0.1973 - val_acc: 0.9430\n",
            "Epoch 37/50\n",
            "208/208 [==============================] - 1s 6ms/step - loss: 0.1477 - acc: 0.9503 - val_loss: 0.1975 - val_acc: 0.9441\n",
            "Epoch 38/50\n",
            "208/208 [==============================] - 1s 7ms/step - loss: 0.1473 - acc: 0.9497 - val_loss: 0.1989 - val_acc: 0.9433\n",
            "Epoch 39/50\n",
            "208/208 [==============================] - 1s 4ms/step - loss: 0.1472 - acc: 0.9505 - val_loss: 0.1982 - val_acc: 0.9437\n",
            "Epoch 40/50\n",
            "208/208 [==============================] - 1s 7ms/step - loss: 0.1467 - acc: 0.9504 - val_loss: 0.1988 - val_acc: 0.9441\n",
            "Epoch 41/50\n",
            "208/208 [==============================] - 1s 7ms/step - loss: 0.1465 - acc: 0.9502 - val_loss: 0.1982 - val_acc: 0.9430\n",
            "Epoch 42/50\n",
            "208/208 [==============================] - 1s 7ms/step - loss: 0.1462 - acc: 0.9508 - val_loss: 0.1992 - val_acc: 0.9412\n",
            "Epoch 43/50\n",
            "208/208 [==============================] - 1s 5ms/step - loss: 0.1460 - acc: 0.9505 - val_loss: 0.1994 - val_acc: 0.9412\n",
            "Epoch 44/50\n",
            "208/208 [==============================] - 1s 4ms/step - loss: 0.1457 - acc: 0.9512 - val_loss: 0.1985 - val_acc: 0.9426\n",
            "Epoch 45/50\n",
            "208/208 [==============================] - 1s 4ms/step - loss: 0.1455 - acc: 0.9509 - val_loss: 0.2000 - val_acc: 0.9408\n",
            "Epoch 46/50\n",
            "208/208 [==============================] - 1s 4ms/step - loss: 0.1453 - acc: 0.9511 - val_loss: 0.1991 - val_acc: 0.9426\n",
            "Epoch 47/50\n",
            "208/208 [==============================] - 1s 4ms/step - loss: 0.1452 - acc: 0.9511 - val_loss: 0.2005 - val_acc: 0.9408\n",
            "Epoch 48/50\n",
            "208/208 [==============================] - 1s 4ms/step - loss: 0.1452 - acc: 0.9514 - val_loss: 0.2000 - val_acc: 0.9419\n",
            "Epoch 49/50\n",
            "208/208 [==============================] - 1s 4ms/step - loss: 0.1449 - acc: 0.9516 - val_loss: 0.1998 - val_acc: 0.9426\n",
            "Epoch 50/50\n",
            "208/208 [==============================] - 1s 4ms/step - loss: 0.1446 - acc: 0.9515 - val_loss: 0.2001 - val_acc: 0.9423\n",
            "217/217 [==============================] - 0s 1ms/step\n",
            "test auc: 0.8187611788754555\n",
            "test accuracy: 0.9392145538550389\n"
          ]
        }
      ]
    },
    {
      "cell_type": "code",
      "source": [
        "output_test"
      ],
      "metadata": {
        "colab": {
          "base_uri": "https://localhost:8080/"
        },
        "id": "3XA-MaeYoq_E",
        "outputId": "3d93542e-cb5e-41f1-fcb6-daaa8cf12eea"
      },
      "execution_count": null,
      "outputs": [
        {
          "output_type": "execute_result",
          "data": {
            "text/plain": [
              "array([[0.41130587, 0.58809286],\n",
              "       [0.0553047 , 0.9447218 ],\n",
              "       [0.1254443 , 0.87443346],\n",
              "       ...,\n",
              "       [0.35864747, 0.64067197],\n",
              "       [0.0897488 , 0.91047037],\n",
              "       [0.15961231, 0.8401827 ]], dtype=float32)"
            ]
          },
          "metadata": {},
          "execution_count": 28
        }
      ]
    },
    {
      "cell_type": "code",
      "source": [
        "import keras\n",
        "from matplotlib import pyplot as plt\n",
        "history = model.fit(x_train, y_train, validation_split=0.1,\n",
        "          epochs=50, batch_size=120)\n",
        "plt.plot(history.history['acc'])\n",
        "plt.plot(history.history['val_acc'])\n",
        "plt.title('model accuracy')\n",
        "plt.ylabel('accuracy')\n",
        "plt.xlabel('epoch')\n",
        "plt.legend(['train', 'val'], loc='upper left')\n",
        "plt.show()"
      ],
      "metadata": {
        "colab": {
          "base_uri": "https://localhost:8080/",
          "height": 1000
        },
        "id": "zkHf6ohNoYW4",
        "outputId": "f388ff03-43e3-4781-b176-99e105a068fe"
      },
      "execution_count": null,
      "outputs": [
        {
          "output_type": "stream",
          "name": "stdout",
          "text": [
            "Epoch 1/50\n",
            "208/208 [==============================] - 1s 5ms/step - loss: 0.1444 - acc: 0.9513 - val_loss: 0.1999 - val_acc: 0.9433\n",
            "Epoch 2/50\n",
            "208/208 [==============================] - 1s 4ms/step - loss: 0.1442 - acc: 0.9519 - val_loss: 0.1999 - val_acc: 0.9426\n",
            "Epoch 3/50\n",
            "208/208 [==============================] - 1s 4ms/step - loss: 0.1440 - acc: 0.9515 - val_loss: 0.2006 - val_acc: 0.9412\n",
            "Epoch 4/50\n",
            "208/208 [==============================] - 1s 4ms/step - loss: 0.1438 - acc: 0.9520 - val_loss: 0.2003 - val_acc: 0.9419\n",
            "Epoch 5/50\n",
            "208/208 [==============================] - 1s 4ms/step - loss: 0.1437 - acc: 0.9515 - val_loss: 0.2002 - val_acc: 0.9423\n",
            "Epoch 6/50\n",
            "208/208 [==============================] - 1s 4ms/step - loss: 0.1435 - acc: 0.9520 - val_loss: 0.2005 - val_acc: 0.9430\n",
            "Epoch 7/50\n",
            "208/208 [==============================] - 1s 4ms/step - loss: 0.1433 - acc: 0.9517 - val_loss: 0.2015 - val_acc: 0.9433\n",
            "Epoch 8/50\n",
            "208/208 [==============================] - 1s 4ms/step - loss: 0.1431 - acc: 0.9521 - val_loss: 0.2029 - val_acc: 0.9394\n",
            "Epoch 9/50\n",
            "208/208 [==============================] - 1s 4ms/step - loss: 0.1430 - acc: 0.9519 - val_loss: 0.2010 - val_acc: 0.9437\n",
            "Epoch 10/50\n",
            "208/208 [==============================] - 1s 4ms/step - loss: 0.1427 - acc: 0.9523 - val_loss: 0.2011 - val_acc: 0.9437\n",
            "Epoch 11/50\n",
            "208/208 [==============================] - 1s 4ms/step - loss: 0.1428 - acc: 0.9526 - val_loss: 0.2012 - val_acc: 0.9433\n",
            "Epoch 12/50\n",
            "208/208 [==============================] - 1s 4ms/step - loss: 0.1424 - acc: 0.9523 - val_loss: 0.2014 - val_acc: 0.9433\n",
            "Epoch 13/50\n",
            "208/208 [==============================] - 1s 4ms/step - loss: 0.1424 - acc: 0.9525 - val_loss: 0.2016 - val_acc: 0.9437\n",
            "Epoch 14/50\n",
            "208/208 [==============================] - 1s 4ms/step - loss: 0.1420 - acc: 0.9523 - val_loss: 0.2013 - val_acc: 0.9430\n",
            "Epoch 15/50\n",
            "208/208 [==============================] - 1s 4ms/step - loss: 0.1422 - acc: 0.9525 - val_loss: 0.2014 - val_acc: 0.9426\n",
            "Epoch 16/50\n",
            "208/208 [==============================] - 1s 4ms/step - loss: 0.1418 - acc: 0.9525 - val_loss: 0.2016 - val_acc: 0.9426\n",
            "Epoch 17/50\n",
            "208/208 [==============================] - 1s 4ms/step - loss: 0.1417 - acc: 0.9523 - val_loss: 0.2021 - val_acc: 0.9405\n",
            "Epoch 18/50\n",
            "208/208 [==============================] - 1s 4ms/step - loss: 0.1416 - acc: 0.9525 - val_loss: 0.2023 - val_acc: 0.9433\n",
            "Epoch 19/50\n",
            "208/208 [==============================] - 1s 4ms/step - loss: 0.1415 - acc: 0.9533 - val_loss: 0.2020 - val_acc: 0.9430\n",
            "Epoch 20/50\n",
            "208/208 [==============================] - 1s 4ms/step - loss: 0.1416 - acc: 0.9529 - val_loss: 0.2019 - val_acc: 0.9426\n",
            "Epoch 21/50\n",
            "208/208 [==============================] - 1s 4ms/step - loss: 0.1411 - acc: 0.9530 - val_loss: 0.2022 - val_acc: 0.9430\n",
            "Epoch 22/50\n",
            "208/208 [==============================] - 1s 4ms/step - loss: 0.1409 - acc: 0.9530 - val_loss: 0.2022 - val_acc: 0.9419\n",
            "Epoch 23/50\n",
            "208/208 [==============================] - 1s 4ms/step - loss: 0.1411 - acc: 0.9525 - val_loss: 0.2023 - val_acc: 0.9412\n",
            "Epoch 24/50\n",
            "208/208 [==============================] - 1s 4ms/step - loss: 0.1408 - acc: 0.9528 - val_loss: 0.2022 - val_acc: 0.9408\n",
            "Epoch 25/50\n",
            "208/208 [==============================] - 1s 4ms/step - loss: 0.1407 - acc: 0.9532 - val_loss: 0.2023 - val_acc: 0.9430\n",
            "Epoch 26/50\n",
            "208/208 [==============================] - 1s 4ms/step - loss: 0.1407 - acc: 0.9533 - val_loss: 0.2023 - val_acc: 0.9426\n",
            "Epoch 27/50\n",
            "208/208 [==============================] - 1s 4ms/step - loss: 0.1406 - acc: 0.9533 - val_loss: 0.2023 - val_acc: 0.9415\n",
            "Epoch 28/50\n",
            "208/208 [==============================] - 1s 4ms/step - loss: 0.1403 - acc: 0.9532 - val_loss: 0.2024 - val_acc: 0.9433\n",
            "Epoch 29/50\n",
            "208/208 [==============================] - 1s 4ms/step - loss: 0.1404 - acc: 0.9536 - val_loss: 0.2027 - val_acc: 0.9405\n",
            "Epoch 30/50\n",
            "208/208 [==============================] - 1s 4ms/step - loss: 0.1402 - acc: 0.9530 - val_loss: 0.2023 - val_acc: 0.9419\n",
            "Epoch 31/50\n",
            "208/208 [==============================] - 1s 4ms/step - loss: 0.1400 - acc: 0.9534 - val_loss: 0.2029 - val_acc: 0.9430\n",
            "Epoch 32/50\n",
            "208/208 [==============================] - 1s 4ms/step - loss: 0.1402 - acc: 0.9536 - val_loss: 0.2029 - val_acc: 0.9405\n",
            "Epoch 33/50\n",
            "208/208 [==============================] - 1s 4ms/step - loss: 0.1401 - acc: 0.9533 - val_loss: 0.2027 - val_acc: 0.9430\n",
            "Epoch 34/50\n",
            "208/208 [==============================] - 1s 4ms/step - loss: 0.1398 - acc: 0.9535 - val_loss: 0.2025 - val_acc: 0.9408\n",
            "Epoch 35/50\n",
            "208/208 [==============================] - 1s 4ms/step - loss: 0.1397 - acc: 0.9535 - val_loss: 0.2031 - val_acc: 0.9426\n",
            "Epoch 36/50\n",
            "208/208 [==============================] - 1s 4ms/step - loss: 0.1396 - acc: 0.9536 - val_loss: 0.2028 - val_acc: 0.9426\n",
            "Epoch 37/50\n",
            "208/208 [==============================] - 1s 4ms/step - loss: 0.1395 - acc: 0.9534 - val_loss: 0.2034 - val_acc: 0.9423\n",
            "Epoch 38/50\n",
            "208/208 [==============================] - 1s 4ms/step - loss: 0.1393 - acc: 0.9532 - val_loss: 0.2031 - val_acc: 0.9426\n",
            "Epoch 39/50\n",
            "208/208 [==============================] - 1s 4ms/step - loss: 0.1393 - acc: 0.9537 - val_loss: 0.2050 - val_acc: 0.9390\n",
            "Epoch 40/50\n",
            "208/208 [==============================] - 1s 4ms/step - loss: 0.1392 - acc: 0.9538 - val_loss: 0.2047 - val_acc: 0.9437\n",
            "Epoch 41/50\n",
            "208/208 [==============================] - 1s 4ms/step - loss: 0.1392 - acc: 0.9535 - val_loss: 0.2029 - val_acc: 0.9430\n",
            "Epoch 42/50\n",
            "208/208 [==============================] - 1s 4ms/step - loss: 0.1391 - acc: 0.9532 - val_loss: 0.2031 - val_acc: 0.9419\n",
            "Epoch 43/50\n",
            "208/208 [==============================] - 1s 4ms/step - loss: 0.1389 - acc: 0.9534 - val_loss: 0.2032 - val_acc: 0.9426\n",
            "Epoch 44/50\n",
            "208/208 [==============================] - 1s 4ms/step - loss: 0.1388 - acc: 0.9534 - val_loss: 0.2034 - val_acc: 0.9426\n",
            "Epoch 45/50\n",
            "208/208 [==============================] - 1s 4ms/step - loss: 0.1388 - acc: 0.9540 - val_loss: 0.2031 - val_acc: 0.9415\n",
            "Epoch 46/50\n",
            "208/208 [==============================] - 1s 4ms/step - loss: 0.1388 - acc: 0.9538 - val_loss: 0.2038 - val_acc: 0.9390\n",
            "Epoch 47/50\n",
            "208/208 [==============================] - 1s 4ms/step - loss: 0.1387 - acc: 0.9538 - val_loss: 0.2032 - val_acc: 0.9423\n",
            "Epoch 48/50\n",
            "208/208 [==============================] - 1s 4ms/step - loss: 0.1386 - acc: 0.9537 - val_loss: 0.2032 - val_acc: 0.9419\n",
            "Epoch 49/50\n",
            "208/208 [==============================] - 1s 4ms/step - loss: 0.1385 - acc: 0.9535 - val_loss: 0.2033 - val_acc: 0.9401\n",
            "Epoch 50/50\n",
            "208/208 [==============================] - 1s 4ms/step - loss: 0.1383 - acc: 0.9542 - val_loss: 0.2038 - val_acc: 0.9423\n"
          ]
        },
        {
          "output_type": "display_data",
          "data": {
            "text/plain": [
              "<Figure size 432x288 with 1 Axes>"
            ],
            "image/png": "[encoded data removed]"
          },
          "metadata": {
            "needs_background": "light"
          }
        }
      ]
    },
    {
      "cell_type": "markdown",
      "source": [
        "## LSTM"
      ],
      "metadata": {
        "id": "9M4OpND2aT77"
      }
    },
    {
      "cell_type": "code",
      "source": [
        "sequence_input = Input(shape=(MAX_SEQUENCE_LENGTH,), dtype='int32')\n",
        "embedded_sequences = embedding_layer(sequence_input)\n",
        "\n",
        "x = LSTM(100, dropout=0.2, recurrent_dropout=0.2)(embedded_sequences)\n",
        "predictions = Dense(2, activation='sigmoid')(x)\n",
        "\n",
        "\n",
        "model = Model(sequence_input, predictions)\n",
        "model.compile(loss='categorical_crossentropy',\n",
        "              optimizer='RMSprop',\n",
        "              metrics=['acc'])\n",
        "\n",
        "model.fit(x_train, y_train, validation_split=0.1,\n",
        "          epochs=3, batch_size=100)\n",
        "\n",
        "output_test = model.predict(x_test)\n",
        "print(\"test auc:\", roc_auc_score(y_test,output_test[:,1]))"
      ],
      "metadata": {
        "colab": {
          "base_uri": "https://localhost:8080/"
        },
        "id": "76SPcXSvZ63k",
        "outputId": "a003032c-2b79-4fd7-b48e-ef1e082514a3"
      },
      "execution_count": null,
      "outputs": [
        {
          "output_type": "stream",
          "name": "stdout",
          "text": [
            "Epoch 1/3\n",
            "250/250 [==============================] - 115s 441ms/step - loss: 0.1557 - acc: 0.9457 - val_loss: 0.2095 - val_acc: 0.9423\n",
            "Epoch 2/3\n",
            "250/250 [==============================] - 109s 436ms/step - loss: 0.1461 - acc: 0.9498 - val_loss: 0.1945 - val_acc: 0.9415\n",
            "Epoch 3/3\n",
            "250/250 [==============================] - 99s 397ms/step - loss: 0.1430 - acc: 0.9513 - val_loss: 0.2265 - val_acc: 0.9365\n",
            "217/217 [==============================] - 8s 34ms/step\n",
            "test auc: 0.8253908403824688\n"
          ]
        }
      ]
    },
    {
      "cell_type": "markdown",
      "source": [
        "## BERT Model"
      ],
      "metadata": {
        "id": "Pp7h0d0Haqzi"
      }
    },
    {
      "cell_type": "markdown",
      "source": [],
      "metadata": {
        "id": "KfmGLdNNfH1X"
      }
    },
    {
      "cell_type": "code",
      "source": [
        "#!pip install transformers"
      ],
      "metadata": {
        "id": "dnp3DTiUynLm"
      },
      "execution_count": null,
      "outputs": []
    },
    {
      "cell_type": "code",
      "source": [
        "import torch\n",
        "from tqdm.notebook import tqdm\n",
        "from transformers import BertTokenizer\n",
        "from torch.utils.data import TensorDataset\n",
        "from transformers import BertForSequenceClassification"
      ],
      "metadata": {
        "id": "6ychUba5yk3t"
      },
      "execution_count": null,
      "outputs": []
    },
    {
      "cell_type": "code",
      "source": [
        "data['Label'] = data['Label'].astype(int)"
      ],
      "metadata": {
        "id": "Jc8ltFaAwBTy"
      },
      "execution_count": null,
      "outputs": []
    },
    {
      "cell_type": "code",
      "source": [
        "# Splitting the dataset into a 85-15 train-test split\n",
        "from sklearn.model_selection import train_test_split\n",
        "X_train, X_val, y_train, y_val = train_test_split(data[\"processed_reviews\"], \n",
        "                                                  data[\"Label\"], \n",
        "                                                  test_size=0.2, \n",
        "                                                  random_state=42, \n",
        "                                                  stratify=data[\"Label\"])\n",
        "\n",
        "# # creating a column data_type to denote whether each record is for test or train\n",
        "# df['data_type'] = ['not_set']*df.shape[0]\n",
        "# df.loc[X_train, 'data_type'] = 'train'\n",
        "# df.loc[X_val, 'data_type'] = 'val'\n",
        "# df.groupby(['y', 'label', 'data_type']).count()"
      ],
      "metadata": {
        "id": "gETsVCNnofDI"
      },
      "execution_count": null,
      "outputs": []
    },
    {
      "cell_type": "code",
      "source": [
        "# Initializing tokenizer from pretrained BERTTokenizer\n",
        "tokenizer = BertTokenizer.from_pretrained('bert-base-uncased', \n",
        "                                          do_lower_case=True)              \n",
        "# Encoding training batch                           \n",
        "encoded_data_train = tokenizer.batch_encode_plus(\n",
        "    X_train.values, \n",
        "    add_special_tokens=True, \n",
        "    return_attention_mask=True, \n",
        "    pad_to_max_length=True, \n",
        "    max_length=256, \n",
        "    return_tensors='pt'\n",
        ")\n",
        "# Encoding validation batch                           \n",
        "encoded_data_val = tokenizer.batch_encode_plus(\n",
        "    X_val.values, \n",
        "    add_special_tokens=True, \n",
        "    return_attention_mask=True, \n",
        "    pad_to_max_length=True, \n",
        "    max_length=256, \n",
        "    return_tensors='pt'\n",
        ")\n",
        "\n",
        "# creating tensors\n",
        "input_ids_train = encoded_data_train['input_ids']\n",
        "attention_masks_train = encoded_data_train['attention_mask']\n",
        "labels_train = torch.tensor(y_train.values)\n",
        "\n",
        "input_ids_val = encoded_data_val['input_ids']\n",
        "attention_masks_val = encoded_data_val['attention_mask']\n",
        "\n",
        "labels_val = torch.tensor(y_val.values)\n",
        "dataset_train = TensorDataset(input_ids_train, attention_masks_train, labels_train)\n",
        "dataset_val = TensorDataset(input_ids_val, attention_masks_val, labels_val)"
      ],
      "metadata": {
        "colab": {
          "base_uri": "https://localhost:8080/",
          "height": 182,
          "referenced_widgets": [
            "e6459106cb754e9394460f76ad39099c",
            "099c9cfc954740389f4f6342310938b7",
            "6b6a8b82b51c427f830e88034b6501d4",
            "d12eb81cee874a21a1ee31af8fae32fc",
            "a0105fdc440b464391298b35f8a63260",
            "1f9548c798234c3bbe6366836cf0a89d",
            "dd23d251f57f4f9cb975ee04ee2cb532",
            "fb296e422e744c16bc97312582c039b6",
            "3e0a93071f514c36a4f5a0dc8e1d901a",
            "66c653bdfb2548098b644ec9429a4edb",
            "0e9971497e3a47ceb5ea0ab2af10035c",
            "45a54418698b4497bf941d952dfcf75f",
            "3349cae252824eac975931580ce6a034",
            "1e4c5872b1114055b8567d72b5e72f89",
            "3eb6dffb30c242eeaefbfab412861b8a",
            "c2259f025bde4e34a38e1454b9a902ed",
            "66bf2d298c8e4775beb3f72ec7a63631",
            "f48542958c0c4f658bf9b9b8da33d050",
            "bba3b6692dc84cb288aedb4c3d4979b1",
            "18a68bce92a84071a6a8f8284e323f21",
            "c188d986bf99477582e37f3b569040a8",
            "c62b481363a34fe889ee3d8712468e14",
            "55f68a03c52e4545be962e022c7c50ae",
            "56c1bbda1edd42ca9cce2e6bb0cfcd0f",
            "fb7a098ebcc64a4aadec65c3f5ab23ce",
            "9336382327d64db096c74167f263f6ff",
            "300f8d5cd95f4488ab776b325cccee8d",
            "2910c920bbb6497782b005c212242929",
            "290f1fb97bb34816be64c7c9d4d63b22",
            "dfc282ef23b34e3a832967dc24ff88e8",
            "67725d75778f4900a5b454ff544f3b85",
            "34f1616ebdef43ce82998690c626850d",
            "f20ac868944a4925a413f95f8f891073"
          ]
        },
        "id": "ZUd77hnDrUsD",
        "outputId": "d17ede4e-4a70-4966-a3ee-0a29ac2b42e0"
      },
      "execution_count": null,
      "outputs": [
        {
          "output_type": "display_data",
          "data": {
            "text/plain": [
              "Downloading:   0%|          | 0.00/232k [00:00<?, ?B/s]"
            ],
            "application/vnd.jupyter.widget-view+json": {
              "version_major": 2,
              "version_minor": 0,
              "model_id": "e6459106cb754e9394460f76ad39099c"
            }
          },
          "metadata": {}
        },
        {
          "output_type": "display_data",
          "data": {
            "text/plain": [
              "Downloading:   0%|          | 0.00/28.0 [00:00<?, ?B/s]"
            ],
            "application/vnd.jupyter.widget-view+json": {
              "version_major": 2,
              "version_minor": 0,
              "model_id": "45a54418698b4497bf941d952dfcf75f"
            }
          },
          "metadata": {}
        },
        {
          "output_type": "display_data",
          "data": {
            "text/plain": [
              "Downloading:   0%|          | 0.00/570 [00:00<?, ?B/s]"
            ],
            "application/vnd.jupyter.widget-view+json": {
              "version_major": 2,
              "version_minor": 0,
              "model_id": "55f68a03c52e4545be962e022c7c50ae"
            }
          },
          "metadata": {}
        },
        {
          "output_type": "stream",
          "name": "stderr",
          "text": [
            "Truncation was not explicitly activated but `max_length` is provided a specific value, please use `truncation=True` to explicitly truncate examples to max length. Defaulting to 'longest_first' truncation strategy. If you encode pairs of sequences (GLUE-style) with the tokenizer you can select this strategy more precisely by providing a specific strategy to `truncation`.\n",
            "/usr/local/lib/python3.7/dist-packages/transformers/tokenization_utils_base.py:2310: FutureWarning: The `pad_to_max_length` argument is deprecated and will be removed in a future version, use `padding=True` or `padding='longest'` to pad to the longest sequence in the batch, or use `padding='max_length'` to pad to a max length. In this case, you can give a specific length with `max_length` (e.g. `max_length=45`) or leave max_length to None to pad to the maximal input size of the model (e.g. 512 for Bert).\n",
            "  FutureWarning,\n"
          ]
        }
      ]
    },
    {
      "cell_type": "code",
      "source": [
        "# Initializing the model\n",
        "model = BertForSequenceClassification.from_pretrained(\"bert-base-uncased\",\n",
        "                                                      num_labels=2,\n",
        "                                                      output_attentions=False,\n",
        "                                                      output_hidden_states=False)"
      ],
      "metadata": {
        "colab": {
          "base_uri": "https://localhost:8080/",
          "height": 151,
          "referenced_widgets": [
            "029947e5cade47ae89fce98a8b48a087",
            "326038afb2494bf8aabf3e4904ce2ba3",
            "ecfa389437f54b8a8d5427b5d4139869",
            "80f8c741a2214af2bb6d333b9cdd6c88",
            "e2d8364718294297a6467d72f3c4d2a7",
            "6b10a15e95014036bda0b2e6be547255",
            "676eb919511f46fab6dc84ae75b0349a",
            "b2642a7d53364bada93aba31e3e52999",
            "6c50eb588f8a4409bae05e9b464678de",
            "3d5070591f1548968d985a3cf8dd7f2a",
            "89a231f7993c4963b7b997db3f8f7942"
          ]
        },
        "id": "v67woHUtrarf",
        "outputId": "989c2aa5-dd19-4ca1-97be-8d538a30ea63"
      },
      "execution_count": null,
      "outputs": [
        {
          "output_type": "display_data",
          "data": {
            "text/plain": [
              "Downloading:   0%|          | 0.00/440M [00:00<?, ?B/s]"
            ],
            "application/vnd.jupyter.widget-view+json": {
              "version_major": 2,
              "version_minor": 0,
              "model_id": "029947e5cade47ae89fce98a8b48a087"
            }
          },
          "metadata": {}
        },
        {
          "output_type": "stream",
          "name": "stderr",
          "text": [
            "Some weights of the model checkpoint at bert-base-uncased were not used when initializing BertForSequenceClassification: ['cls.predictions.transform.dense.weight', 'cls.predictions.transform.LayerNorm.weight', 'cls.seq_relationship.weight', 'cls.seq_relationship.bias', 'cls.predictions.decoder.weight', 'cls.predictions.transform.LayerNorm.bias', 'cls.predictions.bias', 'cls.predictions.transform.dense.bias']\n",
            "- This IS expected if you are initializing BertForSequenceClassification from the checkpoint of a model trained on another task or with another architecture (e.g. initializing a BertForSequenceClassification model from a BertForPreTraining model).\n",
            "- This IS NOT expected if you are initializing BertForSequenceClassification from the checkpoint of a model that you expect to be exactly identical (initializing a BertForSequenceClassification model from a BertForSequenceClassification model).\n",
            "Some weights of BertForSequenceClassification were not initialized from the model checkpoint at bert-base-uncased and are newly initialized: ['classifier.bias', 'classifier.weight']\n",
            "You should probably TRAIN this model on a down-stream task to be able to use it for predictions and inference.\n"
          ]
        }
      ]
    },
    {
      "cell_type": "code",
      "source": [
        "# Import and initialization of dataloaders and batch size hyperparameter\n",
        "from torch.utils.data import DataLoader, RandomSampler, SequentialSampler\n",
        "\n",
        "batch_size = 3\n",
        "\n",
        "dataloader_train = DataLoader(dataset_train, \n",
        "                              sampler=RandomSampler(dataset_train), \n",
        "                              batch_size=batch_size)\n",
        "\n",
        "dataloader_validation = DataLoader(dataset_val, \n",
        "                                   sampler=SequentialSampler(dataset_val), \n",
        "                                   batch_size=batch_size)"
      ],
      "metadata": {
        "id": "WKHI6QR4rlTO"
      },
      "execution_count": null,
      "outputs": []
    },
    {
      "cell_type": "code",
      "source": [
        "# Importing the adam optimizer and a scheduler to manage learning rate in an optimal fashion\n",
        "from transformers import AdamW, get_linear_schedule_with_warmup\n",
        "\n",
        "# Initializing the optimizer \n",
        "#uses the adam algorithm - an extension to stochastic gradient descent\n",
        "optimizer = AdamW(model.parameters(),\n",
        "                  lr=1e-5, \n",
        "                  eps=1e-8)\n",
        "                  \n",
        "#epoch hyperparameter\n",
        "epochs = 3\n",
        "\n",
        "# Scheduler to increase learning rate for a certain number of steps then linearly deacrese the same\n",
        "scheduler = get_linear_schedule_with_warmup(optimizer, \n",
        "                                            num_warmup_steps=0,\n",
        "                                            num_training_steps=len(dataloader_train)*epochs)"
      ],
      "metadata": {
        "colab": {
          "base_uri": "https://localhost:8080/"
        },
        "id": "ymP5HSw4rm7g",
        "outputId": "d26ceb05-4a36-4849-9f95-b76d05d0c1b7"
      },
      "execution_count": null,
      "outputs": [
        {
          "output_type": "stream",
          "name": "stderr",
          "text": [
            "/usr/local/lib/python3.7/dist-packages/transformers/optimization.py:310: FutureWarning: This implementation of AdamW is deprecated and will be removed in a future version. Use the PyTorch implementation torch.optim.AdamW instead, or set `no_deprecation_warning=True` to disable this warning\n",
            "  FutureWarning,\n"
          ]
        }
      ]
    },
    {
      "cell_type": "code",
      "source": [
        "#Function definition for f1 score and accuracy calculations\n",
        "from sklearn.metrics import f1_score\n",
        "\n",
        "def f1_score_func(preds, labels):\n",
        "    preds_flat = np.argmax(preds, axis=1).flatten()\n",
        "    labels_flat = labels.flatten()\n",
        "    return f1_score(labels_flat, preds_flat, average='weighted')\n",
        "\n",
        "def accuracy_per_class(preds, labels):\n",
        "    label_dict_inverse = {v: k for k, v in label_dict.items()}\n",
        "    \n",
        "    preds_flat = np.argmax(preds, axis=1).flatten()\n",
        "    labels_flat = labels.flatten()\n",
        "    correct=0\n",
        "    total=0\n",
        "    for label in np.unique(labels_flat):\n",
        "        y_preds = preds_flat[labels_flat==label]\n",
        "        y_true = labels_flat[labels_flat==label]\n",
        "        print(f'Class: {label_dict_inverse[label]}')\n",
        "        print(f'Accuracy: {len(y_preds[y_preds==label])}/{len(y_true)}\\n')\n",
        "        correct+=len(y_preds[y_preds==label])\n",
        "        total+=len(y_true)\n",
        "    print(f'Bert Model Accuracy Overall :',correct/total)"
      ],
      "metadata": {
        "id": "NuYXMjTZrq9X"
      },
      "execution_count": null,
      "outputs": []
    },
    {
      "cell_type": "code",
      "source": [
        "#GPU vs CPU - based on whether the local/hosted runtime has an nvidia GPU available or not\n",
        "device = torch.device('cuda' if torch.cuda.is_available() else 'cpu')\n",
        "model.to(device)\n",
        "\n",
        "print(device)"
      ],
      "metadata": {
        "colab": {
          "base_uri": "https://localhost:8080/"
        },
        "id": "cz8LktuKrsj0",
        "outputId": "ea5ef638-b070-4071-c54b-11a6573053f6"
      },
      "execution_count": null,
      "outputs": [
        {
          "output_type": "stream",
          "name": "stdout",
          "text": [
            "cuda\n"
          ]
        }
      ]
    },
    {
      "cell_type": "code",
      "source": [
        "import random\n",
        "\n",
        "# Sets torchs seed to randomize to enable usage of torch.random()\n",
        "seed_val = 17\n",
        "random.seed(seed_val)\n",
        "np.random.seed(seed_val)\n",
        "torch.manual_seed(seed_val)\n",
        "torch.cuda.manual_seed_all(seed_val)\n",
        "\n",
        "# Evaluate function to be used to validate the data\n",
        "# tqdm to display the live progress of the model training, calculates average loss, predictions and true values.\n",
        "def evaluate(dataloader_val):\n",
        "\n",
        "    model.eval()\n",
        "    \n",
        "    loss_val_total = 0\n",
        "    predictions, true_vals = [], []\n",
        "    \n",
        "    for batch in dataloader_val:\n",
        "        \n",
        "        batch = tuple(b.to(device) for b in batch)\n",
        "        \n",
        "        inputs = {'input_ids':      batch[0],\n",
        "                  'attention_mask': batch[1],\n",
        "                  'labels':         batch[2],\n",
        "                 }\n",
        "\n",
        "        with torch.no_grad():        \n",
        "            outputs = model(**inputs,return_dict=False)\n",
        "            \n",
        "        loss = outputs[0]\n",
        "        logits = outputs[1]\n",
        "        loss_val_total += loss.item()\n",
        "\n",
        "        logits = logits.detach().cpu().numpy()\n",
        "        label_ids = inputs['labels'].cpu().numpy()\n",
        "        predictions.append(logits)\n",
        "        true_vals.append(label_ids)\n",
        "    \n",
        "    loss_val_avg = loss_val_total/len(dataloader_val) \n",
        "    \n",
        "    predictions = np.concatenate(predictions, axis=0)\n",
        "    true_vals = np.concatenate(true_vals, axis=0)\n",
        "            \n",
        "    return loss_val_avg, predictions, true_vals\n",
        "  \n",
        "# Training the model\n",
        "for epoch in tqdm(range(1, epochs+1)):\n",
        "    \n",
        "    model.train()\n",
        "    \n",
        "    loss_train_total = 0\n",
        "\n",
        "    progress_bar = tqdm(dataloader_train, desc='Epoch {:1d}'.format(epoch), leave=False, disable=False)\n",
        "    for batch in progress_bar:\n",
        "\n",
        "        model.zero_grad()\n",
        "        \n",
        "        batch = tuple(b.to(device) for b in batch)\n",
        "        \n",
        "        inputs = {'input_ids':      batch[0],\n",
        "                  'attention_mask': batch[1],\n",
        "                  'labels':         batch[2],\n",
        "                 }       \n",
        "        outputs = model(**inputs,return_dict=False)\n",
        "        \n",
        "        loss = outputs[0]\n",
        "        loss_train_total += loss.item()\n",
        "        loss.backward()\n",
        "\n",
        "        torch.nn.utils.clip_grad_norm_(model.parameters(), 1.0)\n",
        "\n",
        "        optimizer.step()\n",
        "        scheduler.step()\n",
        "        \n",
        "        progress_bar.set_postfix({'training_loss': '{:.3f}'.format(loss.item()/len(batch))})\n",
        "         \n",
        "        \n",
        "      \n",
        "    # Training results\n",
        "    tqdm.write(f'\\nEpoch {epoch}')\n",
        "    loss_train_avg = loss_train_total/len(dataloader_train)            \n",
        "    tqdm.write(f'Training loss: {loss_train_avg}')\n",
        "\n",
        "    #save the trained model to use for validation directly by loading it\n",
        "    torch.save(model.state_dict(), f'bertmodel{epoch}.model')\n",
        "    \n",
        "    #Validation results\n",
        "    val_loss, predictions, true_vals = evaluate(dataloader_validation)\n",
        "    val_f1 = f1_score_func(predictions, true_vals)\n",
        "    tqdm.write(f'Validation loss: {val_loss}')\n",
        "    tqdm.write(f'F1 Score (Weighted): {val_f1}')"
      ],
      "metadata": {
        "colab": {
          "base_uri": "https://localhost:8080/",
          "height": 328,
          "referenced_widgets": [
            "1f0d1e2b42ac4818855f3bcb5d9b3f22",
            "21af8b43bf964df4b98fb3c888ec3332",
            "91f5ff2280a94122a54a58405cceff16",
            "99016f0fa7b94936a6b7269f49b9b430",
            "61b3e0499f3741219fbe42234d269191",
            "bc987289949a4f308a467e50e3279e22",
            "b946bee6b0d840aa9615543e9b6d0648",
            "ecbd7ce7938442b0b998a89dd255f746",
            "b89e145c0f3545518ce4414ea3c6c98d",
            "ef6293ec75ca47f6a3556a736dcb3d6a",
            "e946b5dfb0634e3dbba8159c5e3e2fa5",
            "e7221225e61f4a1a88b32a6906b6d53b",
            "3e2be3b7bb6045059f4fe28abee8cbe0",
            "04dbfee26103407c8d4c98732984d5d8",
            "e750ecb0ef734ef7bcfbbf92bd1387dd",
            "a38dba90cd304e74a321530f6189a656",
            "a41e4d04b8a64c37a1c0fbd400ee7675",
            "3fe733801a8240f6a7cb415d9dc509c2",
            "1c072e746f7d42d48236de2dce4af209",
            "98182dcaf80c46af86aa8261c734e655",
            "641b5de3758d4d45bb9cc83665a5fc27",
            "09dd6d084bbd434c9694b9e2facd97d5",
            "a51c8f3331a84933bf1b46cfdf882d79",
            "c76d68bd03574bce80645b0a2febc624",
            "1ab8a660a4dc4779ba16c2f2e5c3441f",
            "9c78a18e71f24ea28c3947b0061c1574",
            "18499196a941484c9ef7399144801e03",
            "6d1043b349294b288849f5645715219b",
            "b6c6d42aa4614dd080ab10672112c8d5",
            "b7324d647c544e83812de17e63687748",
            "c5e0ea3bb1354a478aa113cb08e90c2b",
            "955f28dc1ee34dee88494846619dd872",
            "6cf7ee795c4943cc9f4bed3c40be6f98",
            "156e572f04634f8289b8077752b40a88",
            "70147e76b3114095b18836db70d2c7c1",
            "97b703ce431d4672be12b3effc3927c2",
            "d542d7c78ca34c32a97b6636c6dac97e",
            "040cdb05ecc144dd8700cd72301a1f8f",
            "cc092cb107da45acb9a39fdf6630a91d",
            "9645ba54a2d8457abd98f7296ae1024a",
            "55a609bc403a4993896a54d1a99dafa6",
            "1e4fbd26ad5c4460a46e3fcc8f2f4b0d",
            "e5eb31a39edf4439870c35416bd0aee6",
            "777ae76566214fb1a5448cdf654aa4f3"
          ]
        },
        "id": "Zqok8LaPruAT",
        "outputId": "751a587e-a9f5-45bf-9d85-473557c1e931"
      },
      "execution_count": null,
      "outputs": [
        {
          "data": {
            "application/vnd.jupyter.widget-view+json": {
              "model_id": "1f0d1e2b42ac4818855f3bcb5d9b3f22",
              "version_major": 2,
              "version_minor": 0
            },
            "text/plain": [
              "  0%|          | 0/3 [00:00<?, ?it/s]"
            ]
          },
          "metadata": {},
          "output_type": "display_data"
        },
        {
          "data": {
            "application/vnd.jupyter.widget-view+json": {
              "model_id": "e7221225e61f4a1a88b32a6906b6d53b",
              "version_major": 2,
              "version_minor": 0
            },
            "text/plain": [
              "Epoch 1:   0%|          | 0/9234 [00:00<?, ?it/s]"
            ]
          },
          "metadata": {},
          "output_type": "display_data"
        },
        {
          "metadata": {
            "tags": null
          },
          "name": "stdout",
          "output_type": "stream",
          "text": [
            "\n",
            "Epoch 1\n",
            "Training loss: 0.2942712954896641\n",
            "Validation loss: 0.27888445588580085\n",
            "F1 Score (Weighted): 0.9177407127648602\n"
          ]
        },
        {
          "data": {
            "application/vnd.jupyter.widget-view+json": {
              "model_id": "a51c8f3331a84933bf1b46cfdf882d79",
              "version_major": 2,
              "version_minor": 0
            },
            "text/plain": [
              "Epoch 2:   0%|          | 0/9234 [00:00<?, ?it/s]"
            ]
          },
          "metadata": {},
          "output_type": "display_data"
        },
        {
          "output_type": "stream",
          "name": "stdout",
          "text": [
            "\n",
            "Epoch 2\n",
            "Training loss: 0.23489099548635647\n",
            "Validation loss: 0.27302703357384034\n",
            "F1 Score (Weighted): 0.9344331581330835\n"
          ]
        },
        {
          "output_type": "display_data",
          "data": {
            "text/plain": [
              "Epoch 3:   0%|          | 0/9234 [00:00<?, ?it/s]"
            ],
            "application/vnd.jupyter.widget-view+json": {
              "version_major": 2,
              "version_minor": 0,
              "model_id": "156e572f04634f8289b8077752b40a88"
            }
          },
          "metadata": {}
        },
        {
          "output_type": "stream",
          "name": "stdout",
          "text": [
            "\n",
            "Epoch 3\n",
            "Training loss: 0.17660467628085882\n",
            "Validation loss: 0.3405871304256838\n",
            "F1 Score (Weighted): 0.9353190252232781\n"
          ]
        }
      ]
    },
    {
      "cell_type": "code",
      "source": [
        "# confusion matrix for validation outputs\n",
        "from sklearn.metrics import confusion_matrix\n",
        "pred_arr = np.argmax(predictions, 1)\n",
        "print(\"CONFUSION MATRIX\")\n",
        "conf_matrix=confusion_matrix(true_vals, pred_arr)\n",
        "print(conf_matrix)\n",
        "for i in range(2):\n",
        "  print(\"True Value: \", i)\n",
        "  for j in range(2):\n",
        "    print(\"predicted as \", j, \"is \", conf_matrix[i][j])"
      ],
      "metadata": {
        "colab": {
          "base_uri": "https://localhost:8080/"
        },
        "id": "WAS--BQxssdo",
        "outputId": "ca162b1b-69cf-48bd-f3b0-328cf8989376"
      },
      "execution_count": null,
      "outputs": [
        {
          "output_type": "stream",
          "name": "stdout",
          "text": [
            "CONFUSION MATRIX\n",
            "[[ 181  281]\n",
            " [ 129 6335]]\n",
            "True Value:  0\n",
            "predicted as  0 is  181\n",
            "predicted as  1 is  281\n",
            "True Value:  1\n",
            "predicted as  0 is  129\n",
            "predicted as  1 is  6335\n"
          ]
        }
      ]
    },
    {
      "cell_type": "code",
      "source": [
        "#classification report for the validation outputs\n",
        "from sklearn.metrics import classification_report\n",
        "target_names = ['Negative', 'positive']\n",
        "print(classification_report(true_vals, pred_arr, target_names=target_names))"
      ],
      "metadata": {
        "colab": {
          "base_uri": "https://localhost:8080/"
        },
        "id": "fyBa2MLEvaXn",
        "outputId": "53a4db2a-288c-45bd-a3a2-7a3607cc93e2"
      },
      "execution_count": null,
      "outputs": [
        {
          "output_type": "stream",
          "name": "stdout",
          "text": [
            "              precision    recall  f1-score   support\n",
            "\n",
            "    Negative       0.58      0.39      0.47       462\n",
            "    positive       0.96      0.98      0.97      6464\n",
            "\n",
            "    accuracy                           0.94      6926\n",
            "   macro avg       0.77      0.69      0.72      6926\n",
            "weighted avg       0.93      0.94      0.94      6926\n",
            "\n"
          ]
        }
      ]
    },
    {
      "cell_type": "code",
      "source": [],
      "metadata": {
        "id": "rW0eT6JtG8pk"
      },
      "execution_count": null,
      "outputs": []
    }
  ]
}